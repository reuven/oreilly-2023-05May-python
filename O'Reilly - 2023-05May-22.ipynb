{
 "cells": [
  {
   "cell_type": "markdown",
   "id": "17335a52",
   "metadata": {},
   "source": [
    "# Agenda -- week 4, functions\n",
    "\n",
    "1. What are functions?\n",
    "2. Writing simple functions\n",
    "3. Arguments and parameters\n",
    "4. Return values\n",
    "5. Default argument values\n",
    "6. Complex return values\n",
    "7. Local vs. global variables\n",
    "8. More advanced functions\n"
   ]
  },
  {
   "cell_type": "markdown",
   "id": "27161d5f",
   "metadata": {},
   "source": [
    "# What are functions?\n",
    "\n",
    "Functions are the verbs in a programming language.\n",
    "\n",
    "We've already seen a number of functions:\n",
    "\n",
    "- `print`\n",
    "- `input`\n",
    "- `len`\n",
    "- `sum`\n",
    "\n",
    "If we want to run one of these functions (also \"call\" or \"execute\" a function), then we put parentheses after its name. That tells Python that we want to run the function.\n",
    "\n",
    "Do we need the ability to write new functions? No... we could absolutely program a computer without them. But it would be very hard to do that.\n",
    "\n",
    "When we define a new function, we define a new verb. \n",
    "\n",
    "The big idea here is *abstraction* -- the idea that we can ignore the lower levels, with greater detail, so that we can think at a higher level and do bigger things.\n",
    "\n",
    "Functions let us package up lower-level functionality under a single name. Then, after that function is defined and known to work, we can use it as a lower-level brick to build our higher-level functionality.\n",
    "\n",
    "Another reason we want functions is purely practical: It fulfills the \"DRY\" rule (don't repeat yourself). If we have the same code in multiple places in a program, it's going to be easier to write and maintain the software if those duplicated sections are packaged up into functions, and then we invoke the function every time we want to do that thing."
   ]
  },
  {
   "cell_type": "markdown",
   "id": "b947e68e",
   "metadata": {},
   "source": [
    "# Let's define a function!\n",
    "\n",
    "We define a function with the keyword `def` (short for \"define\").  To define a function we:\n",
    "\n",
    "- Use `def`\n",
    "- Following `def`, we put the name of the function we are defining. This needs to follow the same rules and conventions as variable names -- lowercase letters, digits after the first characters, `_` after the first character, as long as you want.\n",
    "- We'll then have `()`, following the name of the function. Later on, we'll see how we fill these with parameter names.\n",
    "- Then, at the end of the line, we have `:`\n",
    "- Next, we have an indented block, which can be as long (or short) as you want. This is known as the \"function body.\" The function body can include any of the code we've seen so far:\n",
    "    - variable assignments\n",
    "    - `for` and `while` loops\n",
    "    - `print` and `input`\n",
    "    - anything!"
   ]
  },
  {
   "cell_type": "code",
   "execution_count": 2,
   "id": "1e8c09fb",
   "metadata": {},
   "outputs": [],
   "source": [
    "# let's now define a function\n",
    "\n",
    "def hello():            # naming of the function and its parameters (currently zero), and a :\n",
    "    print('Hello!')     # indented, we have the function body (currently one line)"
   ]
  },
  {
   "cell_type": "code",
   "execution_count": 3,
   "id": "23179f7a",
   "metadata": {},
   "outputs": [
    {
     "name": "stdout",
     "output_type": "stream",
     "text": [
      "Hello!\n"
     ]
    }
   ],
   "source": [
    "# once I've executed the above, \"hello\" is now defined as a new verb in our program's vocabulary\n",
    "\n",
    "hello()    # execute hello with ()"
   ]
  },
  {
   "cell_type": "code",
   "execution_count": 5,
   "id": "684d377a",
   "metadata": {},
   "outputs": [
    {
     "data": {
      "text/plain": [
       "function"
      ]
     },
     "execution_count": 5,
     "metadata": {},
     "output_type": "execute_result"
    }
   ],
   "source": [
    "# when I define a function, I'm really assigning to a variable\n",
    "# here, I assigned to the variable \"hello\"\n",
    "\n",
    "# if there was previously a value in hello, it's gone!\n",
    "# if there was previously a different \"hello\" function, it's gone, too!\n",
    "\n",
    "# In Python, you have *one* opportunity to define a function\n",
    "# the most recent definition wins, if you define it more than once.\n",
    "\n",
    "type(hello)   # what kind of value is the variable \"hello\" referring to?"
   ]
  },
  {
   "cell_type": "code",
   "execution_count": 6,
   "id": "5f77dc3a",
   "metadata": {
    "scrolled": true
   },
   "outputs": [
    {
     "ename": "TypeError",
     "evalue": "'int' object is not callable",
     "output_type": "error",
     "traceback": [
      "\u001b[0;31m---------------------------------------------------------------------------\u001b[0m",
      "\u001b[0;31mTypeError\u001b[0m                                 Traceback (most recent call last)",
      "Cell \u001b[0;32mIn [6], line 4\u001b[0m\n\u001b[1;32m      1\u001b[0m \u001b[38;5;66;03m# what if I try to call a non-function?\u001b[39;00m\n\u001b[1;32m      2\u001b[0m x \u001b[38;5;241m=\u001b[39m \u001b[38;5;241m10\u001b[39m\n\u001b[0;32m----> 4\u001b[0m \u001b[43mx\u001b[49m\u001b[43m(\u001b[49m\u001b[43m)\u001b[49m   \u001b[38;5;66;03m# what will happen here?\u001b[39;00m\n",
      "\u001b[0;31mTypeError\u001b[0m: 'int' object is not callable"
     ]
    }
   ],
   "source": [
    "# what if I try to call a non-function?\n",
    "x = 10\n",
    "\n",
    "x()   # what will happen here?"
   ]
  },
  {
   "cell_type": "code",
   "execution_count": 7,
   "id": "bd8c2c6d",
   "metadata": {},
   "outputs": [],
   "source": [
    "x = 10"
   ]
  },
  {
   "cell_type": "code",
   "execution_count": 8,
   "id": "84e40591",
   "metadata": {},
   "outputs": [],
   "source": [
    "x = 11   # I'm redefining x, but Python won't complain"
   ]
  },
  {
   "cell_type": "code",
   "execution_count": 9,
   "id": "bd701af2",
   "metadata": {},
   "outputs": [],
   "source": [
    "def hello():\n",
    "    print('Hello!')\n",
    "    \n",
    "def hello():\n",
    "    print('Hello????')"
   ]
  },
  {
   "cell_type": "code",
   "execution_count": 10,
   "id": "af2abcc0",
   "metadata": {},
   "outputs": [],
   "source": [
    "x = 7\n",
    "\n",
    "def x():\n",
    "    print('hahahahaha')"
   ]
  },
  {
   "cell_type": "code",
   "execution_count": 12,
   "id": "e4b1a79e",
   "metadata": {
    "scrolled": true
   },
   "outputs": [
    {
     "name": "stdout",
     "output_type": "stream",
     "text": [
      "hahahahaha\n"
     ]
    }
   ],
   "source": [
    "x()"
   ]
  },
  {
   "cell_type": "code",
   "execution_count": null,
   "id": "d9721a5c",
   "metadata": {},
   "outputs": [],
   "source": []
  },
  {
   "cell_type": "code",
   "execution_count": null,
   "id": "51368a1f",
   "metadata": {},
   "outputs": [],
   "source": []
  },
  {
   "cell_type": "code",
   "execution_count": null,
   "id": "bb9581ad",
   "metadata": {},
   "outputs": [],
   "source": []
  },
  {
   "cell_type": "markdown",
   "id": "e0e6ed06",
   "metadata": {},
   "source": [
    "# Exercise: Calculator\n",
    "\n",
    "1. Define a function, `calc`, that when you call it, asks the user to enter a string"
   ]
  },
  {
   "cell_type": "code",
   "execution_count": null,
   "id": "0bbe1ed6",
   "metadata": {},
   "outputs": [],
   "source": []
  },
  {
   "cell_type": "code",
   "execution_count": null,
   "id": "6c39e264",
   "metadata": {},
   "outputs": [],
   "source": []
  }
 ],
 "metadata": {
  "kernelspec": {
   "display_name": "Python 3 (ipykernel)",
   "language": "python",
   "name": "python3"
  },
  "language_info": {
   "codemirror_mode": {
    "name": "ipython",
    "version": 3
   },
   "file_extension": ".py",
   "mimetype": "text/x-python",
   "name": "python",
   "nbconvert_exporter": "python",
   "pygments_lexer": "ipython3",
   "version": "3.11.3"
  }
 },
 "nbformat": 4,
 "nbformat_minor": 5
}
