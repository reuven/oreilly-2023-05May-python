{
 "cells": [
  {
   "cell_type": "markdown",
   "id": "6dabeace",
   "metadata": {},
   "source": [
    "# Agenda -- week 4, functions\n",
    "\n",
    "1. What are functions?\n",
    "2. Writing simple functions\n",
    "3. Arguments and parameters\n",
    "4. Return values\n",
    "5. Default argument values\n",
    "6. Complex return values\n",
    "7. Local vs. global variables\n",
    "8. More advanced functions\n"
   ]
  },
  {
   "cell_type": "markdown",
   "id": "622c5187",
   "metadata": {},
   "source": [
    "# What are functions?\n",
    "\n",
    "Functions are the verbs in a programming language.\n",
    "\n",
    "We've already seen a number of functions:\n",
    "\n",
    "- `print`\n",
    "- `input`\n",
    "- `len`\n",
    "- `sum`\n",
    "\n",
    "If we want to run one of these functions (also \"call\" or \"execute\" a function), then we put parentheses after its name. That tells Python that we want to run the function.\n",
    "\n",
    "Do we need the ability to write new functions? No... we could absolutely program a computer without them. But it would be very hard to do that.\n",
    "\n",
    "When we define a new function, we define a new verb. \n",
    "\n",
    "The big idea here is *abstraction* -- the idea that we can ignore the lower levels, with greater detail, so that we can think at a higher level and do bigger things.\n",
    "\n",
    "Functions let us package up lower-level functionality under a single name. Then, after that function is defined and known to work, we can use it as a lower-level brick to build our higher-level functionality.\n",
    "\n",
    "Another reason we want functions is purely practical: It fulfills the \"DRY\" rule (don't repeat yourself). If we have the same code in multiple places in a program, it's going to be easier to write and maintain the software if those duplicated sections are packaged up into functions, and then we invoke the function every time we want to do that thing."
   ]
  },
  {
   "cell_type": "markdown",
   "id": "17381373",
   "metadata": {},
   "source": [
    "# Let's define a function!\n",
    "\n",
    "We define a function with the keyword `def` (short for \"define\").  To define a function we:\n",
    "\n",
    "- Use `def`\n",
    "- Following `def`, we put the name of the function we are defining. This needs to follow the same rules and conventions as variable names -- lowercase letters, digits after the first characters, `_` after the first character, as long as you want.\n",
    "- We'll then have `()`, following the name of the function. Later on, we'll see how we fill these with parameter names.\n",
    "- Then, at the end of the line, we have `:`\n",
    "- Next, we have an indented block, which can be as long (or short) as you want. This is known as the \"function body.\" The function body can include any of the code we've seen so far:\n",
    "    - variable assignments\n",
    "    - `for` and `while` loops\n",
    "    - `print` and `input`\n",
    "    - anything!"
   ]
  },
  {
   "cell_type": "code",
   "execution_count": 2,
   "id": "2491b86d",
   "metadata": {},
   "outputs": [],
   "source": [
    "# let's now define a function\n",
    "\n",
    "def hello():            # naming of the function and its parameters (currently zero), and a :\n",
    "    print('Hello!')     # indented, we have the function body (currently one line)"
   ]
  },
  {
   "cell_type": "code",
   "execution_count": 3,
   "id": "78aafe17",
   "metadata": {},
   "outputs": [
    {
     "name": "stdout",
     "output_type": "stream",
     "text": [
      "Hello!\n"
     ]
    }
   ],
   "source": [
    "# once I've executed the above, \"hello\" is now defined as a new verb in our program's vocabulary\n",
    "\n",
    "hello()    # execute hello with ()"
   ]
  },
  {
   "cell_type": "code",
   "execution_count": 5,
   "id": "64ba53c5",
   "metadata": {},
   "outputs": [
    {
     "data": {
      "text/plain": [
       "function"
      ]
     },
     "execution_count": 5,
     "metadata": {},
     "output_type": "execute_result"
    }
   ],
   "source": [
    "# when I define a function, I'm really assigning to a variable\n",
    "# here, I assigned to the variable \"hello\"\n",
    "\n",
    "# if there was previously a value in hello, it's gone!\n",
    "# if there was previously a different \"hello\" function, it's gone, too!\n",
    "\n",
    "# In Python, you have *one* opportunity to define a function\n",
    "# the most recent definition wins, if you define it more than once.\n",
    "\n",
    "type(hello)   # what kind of value is the variable \"hello\" referring to?"
   ]
  },
  {
   "cell_type": "code",
   "execution_count": 6,
   "id": "e6439007",
   "metadata": {
    "scrolled": true
   },
   "outputs": [
    {
     "ename": "TypeError",
     "evalue": "'int' object is not callable",
     "output_type": "error",
     "traceback": [
      "\u001b[0;31m---------------------------------------------------------------------------\u001b[0m",
      "\u001b[0;31mTypeError\u001b[0m                                 Traceback (most recent call last)",
      "Cell \u001b[0;32mIn [6], line 4\u001b[0m\n\u001b[1;32m      1\u001b[0m \u001b[38;5;66;03m# what if I try to call a non-function?\u001b[39;00m\n\u001b[1;32m      2\u001b[0m x \u001b[38;5;241m=\u001b[39m \u001b[38;5;241m10\u001b[39m\n\u001b[0;32m----> 4\u001b[0m \u001b[43mx\u001b[49m\u001b[43m(\u001b[49m\u001b[43m)\u001b[49m   \u001b[38;5;66;03m# what will happen here?\u001b[39;00m\n",
      "\u001b[0;31mTypeError\u001b[0m: 'int' object is not callable"
     ]
    }
   ],
   "source": [
    "# what if I try to call a non-function?\n",
    "x = 10\n",
    "\n",
    "x()   # what will happen here?"
   ]
  },
  {
   "cell_type": "code",
   "execution_count": 7,
   "id": "95c16e3e",
   "metadata": {},
   "outputs": [],
   "source": [
    "x = 10"
   ]
  },
  {
   "cell_type": "code",
   "execution_count": 8,
   "id": "330e8c75",
   "metadata": {},
   "outputs": [],
   "source": [
    "x = 11   # I'm redefining x, but Python won't complain"
   ]
  },
  {
   "cell_type": "code",
   "execution_count": 9,
   "id": "ce9ca25d",
   "metadata": {},
   "outputs": [],
   "source": [
    "def hello():\n",
    "    print('Hello!')\n",
    "    \n",
    "def hello():\n",
    "    print('Hello????')"
   ]
  },
  {
   "cell_type": "code",
   "execution_count": 10,
   "id": "79744d9e",
   "metadata": {},
   "outputs": [],
   "source": [
    "x = 7\n",
    "\n",
    "def x():\n",
    "    print('hahahahaha')"
   ]
  },
  {
   "cell_type": "code",
   "execution_count": 12,
   "id": "7c2e9c0d",
   "metadata": {
    "scrolled": true
   },
   "outputs": [
    {
     "name": "stdout",
     "output_type": "stream",
     "text": [
      "hahahahaha\n"
     ]
    }
   ],
   "source": [
    "x()"
   ]
  },
  {
   "cell_type": "code",
   "execution_count": 13,
   "id": "9ce17bd4",
   "metadata": {},
   "outputs": [],
   "source": [
    "# here, we aren't running len. So \"x = len\" will make x an alias to len\n",
    "\n",
    "x = len    # notice -- no parentheses on the right side!"
   ]
  },
  {
   "cell_type": "code",
   "execution_count": 14,
   "id": "3926228f",
   "metadata": {},
   "outputs": [
    {
     "data": {
      "text/plain": [
       "4"
      ]
     },
     "execution_count": 14,
     "metadata": {},
     "output_type": "execute_result"
    }
   ],
   "source": [
    "x('abcd')   # I can use that alias!"
   ]
  },
  {
   "cell_type": "markdown",
   "id": "50824c5e",
   "metadata": {},
   "source": [
    "# Jupyter tricks\n",
    "\n",
    "- To switch a cell from code to Markdown, go into command mode (ESC or click on the left) and press m.\n",
    "- To switch a cell from Markdown to code, go into command mode (ESC or click on the left) and press y.\n",
    "\n",
    "Don't forget to switch back into edit mode, by pressing ENTER or clicking in the cell, when you're done.\n"
   ]
  },
  {
   "cell_type": "markdown",
   "id": "c73f841b",
   "metadata": {},
   "source": [
    "# Exercise: Calculator\n",
    "\n",
    "1. Define a function, `calc`, that when you call it, asks the user to enter a string. The string should contain some digits, an operator (`+` or `-`), and some more digits. There should be whitespace between the first set of digits and the operator, and between the operator and the last set of digits.  \n",
    "2. Break that string apart into three pices -- the first number, the operator, and the second number.\n",
    "3. Check whether the operator is `+` or `-`.  Depending on the operator, perform the appropriate calculation.\n",
    "4. Print the result on the screen in the format of `2 + 3 = 5`.\n",
    "5. If the operator isn't known, you can just print an error message. Or if you prefer, you can print the equation with `?` as the result, rather than the answer.\n",
    "\n",
    "Examples:\n",
    "\n",
    "    Enter an expression: 2 + 5 \n",
    "    2 + 5 = 7\n",
    "    Enter an expression: 8 - 3\n",
    "    8 - 3 = 5\n",
    "    Enter an expression: 8 * 2\n",
    "    8 * 2 = ?\n",
    "    \n",
    "Hints:\n",
    "- You can break the string apart into three pieces with `str.split`.\n",
    "- You can assume that the first and third pieces will only contain digits.\n",
    "- You can use an `if` to check the operator.\n",
    "- You can use `int` to get an integer based on a string."
   ]
  },
  {
   "cell_type": "code",
   "execution_count": 18,
   "id": "8b978f3f",
   "metadata": {},
   "outputs": [],
   "source": [
    "def calc():\n",
    "    s = input('Enter an expression: ').strip()\n",
    "    \n",
    "    fields = s.split()   # return a list of strings, based on s, where whitespace is a separator\n",
    "    num1 = int(fields[0])\n",
    "    op = fields[1]\n",
    "    num2 = int(fields[2])\n",
    "    \n",
    "    if op == '+':\n",
    "        result = num1 + num2\n",
    "    elif op == '-':\n",
    "        result = num1 - num2\n",
    "    else:\n",
    "        result = '?'\n",
    "        \n",
    "    print(f'{num1} {op} {num2} = {result}')"
   ]
  },
  {
   "cell_type": "code",
   "execution_count": 19,
   "id": "4fd525ae",
   "metadata": {},
   "outputs": [],
   "source": [
    "# the function doesn't run when we define it. Rather, it runs when we invoke it. \n",
    "# that allows us to run the function as often as we want."
   ]
  },
  {
   "cell_type": "code",
   "execution_count": 20,
   "id": "1a2c039c",
   "metadata": {},
   "outputs": [
    {
     "name": "stdout",
     "output_type": "stream",
     "text": [
      "Enter an expression: 2 + 3\n",
      "2 + 3 = 5\n"
     ]
    }
   ],
   "source": [
    "calc()"
   ]
  },
  {
   "cell_type": "code",
   "execution_count": 21,
   "id": "42006264",
   "metadata": {},
   "outputs": [
    {
     "name": "stdout",
     "output_type": "stream",
     "text": [
      "Enter an expression: 8 - 10\n",
      "8 - 10 = -2\n"
     ]
    }
   ],
   "source": [
    "calc()"
   ]
  },
  {
   "cell_type": "code",
   "execution_count": 22,
   "id": "c4d1717a",
   "metadata": {},
   "outputs": [
    {
     "name": "stdout",
     "output_type": "stream",
     "text": [
      "Enter an expression: 2 * 4\n",
      "2 * 4 = ?\n"
     ]
    }
   ],
   "source": [
    "calc()"
   ]
  },
  {
   "cell_type": "code",
   "execution_count": 23,
   "id": "47e8b480",
   "metadata": {},
   "outputs": [],
   "source": [
    "# let's do it even better, with unpacking\n",
    "\n",
    "def calc():\n",
    "    s = input('Enter an expression: ').strip()   # strip removes whitespace ON THE OUTSIDE; doesn't touch inner spaces\n",
    "    \n",
    "    num1, op, num2 = s.split()   # unpacking into three variables\n",
    "\n",
    "    num1 = int(num1)\n",
    "    num2 = int(num2)\n",
    "    \n",
    "    if op == '+':\n",
    "        result = num1 + num2\n",
    "    elif op == '-':\n",
    "        result = num1 - num2\n",
    "    else:\n",
    "        result = '?'\n",
    "        \n",
    "    print(f'{num1} {op} {num2} = {result}')"
   ]
  },
  {
   "cell_type": "code",
   "execution_count": 24,
   "id": "b066ba9a",
   "metadata": {},
   "outputs": [
    {
     "data": {
      "text/plain": [
       "'a    b     c'"
      ]
     },
     "execution_count": 24,
     "metadata": {},
     "output_type": "execute_result"
    }
   ],
   "source": [
    "s = '     a    b     c    '\n",
    "s.strip()"
   ]
  },
  {
   "cell_type": "markdown",
   "id": "20d7235d",
   "metadata": {},
   "source": [
    "# Arguments and parameters\n",
    "\n",
    "One of the weird things about our `calc` function is that it didn't get any inputs from the caller. Rather, the caller just wrote `calc()`, and then the function stopped everything, and asked the user to enter the string. Usually, we want a function not to do that. Instead, we would want the function to get *arguments* passed to it by the caller. We've seen this many, *many* times already:\n",
    "\n",
    "- `print('hello')`\n",
    "- `len('abcd')`\n",
    "- `input('Enter your name: ')`\n",
    "\n",
    "In all of these cases, the caller passed an argument. Those arguments are assigned to variables inside of the function. The assignment is done automatically by Python when we call the function. Those variables have a special name: They are *parameters*. \n",
    "\n",
    "We declare paramters inside of the parentheses on the first line of a function definition.  If a function has three parameters, then we must give it three arguments.  The numbers must match up!"
   ]
  },
  {
   "cell_type": "code",
   "execution_count": 25,
   "id": "e7bfb726",
   "metadata": {},
   "outputs": [],
   "source": [
    "def hello():\n",
    "    name = input('Enter your name: ').strip()\n",
    "    \n",
    "    print(f'Hello, {name}!')"
   ]
  },
  {
   "cell_type": "code",
   "execution_count": 26,
   "id": "3961c50e",
   "metadata": {},
   "outputs": [
    {
     "name": "stdout",
     "output_type": "stream",
     "text": [
      "Enter your name: Reuven\n",
      "Hello, Reuven!\n"
     ]
    }
   ],
   "source": [
    "hello()"
   ]
  },
  {
   "cell_type": "code",
   "execution_count": 27,
   "id": "55d0d351",
   "metadata": {},
   "outputs": [],
   "source": [
    "# a better version, which takes an argument from the user\n",
    "\n",
    "def hello(name):\n",
    "    print(f'Hello, {name}!')"
   ]
  },
  {
   "cell_type": "code",
   "execution_count": 28,
   "id": "22465e9d",
   "metadata": {},
   "outputs": [
    {
     "name": "stdout",
     "output_type": "stream",
     "text": [
      "Hello, Reuven!\n"
     ]
    }
   ],
   "source": [
    "hello('Reuven')"
   ]
  },
  {
   "cell_type": "code",
   "execution_count": 29,
   "id": "97d352fc",
   "metadata": {},
   "outputs": [
    {
     "name": "stdout",
     "output_type": "stream",
     "text": [
      "Hello, Reuven!\n"
     ]
    }
   ],
   "source": [
    "# of course, we can assign a value to a variable, and then invoke the function with \n",
    "# the variable as the argument, rather than the explicit value it's referring to\n",
    "\n",
    "x = 'Reuven'\n",
    "hello(x)    # before hello is called, we get the value x is referring to. Hello has *no* idea about x."
   ]
  },
  {
   "cell_type": "code",
   "execution_count": 30,
   "id": "d3a4da2e",
   "metadata": {},
   "outputs": [
    {
     "name": "stdout",
     "output_type": "stream",
     "text": [
      "Hello, 123!\n"
     ]
    }
   ],
   "source": [
    "hello(123)"
   ]
  },
  {
   "cell_type": "code",
   "execution_count": 31,
   "id": "b479ab58",
   "metadata": {},
   "outputs": [
    {
     "name": "stdout",
     "output_type": "stream",
     "text": [
      "Hello, [10, 20, 30]!\n"
     ]
    }
   ],
   "source": [
    "hello([10, 20, 30])"
   ]
  },
  {
   "cell_type": "code",
   "execution_count": 32,
   "id": "0ce2e276",
   "metadata": {},
   "outputs": [
    {
     "name": "stdout",
     "output_type": "stream",
     "text": [
      "Hello, <function hello at 0x1362014e0>!\n"
     ]
    }
   ],
   "source": [
    "# I can even do this:\n",
    "hello(hello)"
   ]
  },
  {
   "cell_type": "markdown",
   "id": "f4e5ca89",
   "metadata": {},
   "source": [
    "# What?!?\n",
    "\n",
    "Basically, because Python is a dynamic language, we get a lot of flexibility in our functions. We can write one function, instead of many, because it can take arguments of many different types. That's why dynamic languages (like Python) are generally seen as flexible and elegant.\n",
    "\n",
    "*HOWEVER*, people who work with statically typed languages, such as C, C++, Java, and C#, think that this is completely bananas. THey want the language to stop them from doing such things. And as Python is used in a growing number of large enterprises, they also want the language to stop them from doing such things.\n",
    "\n",
    "And so there are now Python \"type hints,\" which you can put in the language, but which Python ignores completely. Rather, you run a separate program (e.g., Mypy) on your code, which checks that the types match up."
   ]
  },
  {
   "cell_type": "code",
   "execution_count": 33,
   "id": "2747b945",
   "metadata": {},
   "outputs": [
    {
     "name": "stdout",
     "output_type": "stream",
     "text": [
      "Hello, Reuven!\n"
     ]
    }
   ],
   "source": [
    "# if I do this:\n",
    "\n",
    "x = 'Reuven'\n",
    "hello(x)      # is x referring to a string? Is name (the parameter) referring to x?\n",
    "              # Are x and name referring to one another, or to the same thing?"
   ]
  },
  {
   "cell_type": "markdown",
   "id": "f916cb49",
   "metadata": {},
   "source": [
    "# Variables are references\n",
    "\n",
    "When you assign a value to a variable, we like to think of the variable as \"having\" or \"owning\" or \"containing\" that value. This is known as the \"mailbox metaphor.\" However, it's not helpful to think of Python variables in this way.\n",
    "\n",
    "Rather, think of each variable as being a name with an arrow to a value. Every variable refers to a value. More than one variable can refer to the same value.\n",
    "\n",
    "When we call a function, the global (outside) variable and the local (inside) variable (aka the parameter) refer to the same value. Any modification to one will affect the other... which is where immutable types come in handy!"
   ]
  },
  {
   "cell_type": "markdown",
   "id": "ac7ccf3e",
   "metadata": {},
   "source": [
    "# Exercise: `mysum`\n",
    "\n",
    "1. We know (maybe?) that there is a builtin function called `sum`, which takes a list of integers as an argument, and prints the total on the screen.\n",
    "2. Write your own function, `mysum`, which also takes a list of integers as an argument, and prints the total on the screen.\n",
    "3. The difference is that you cannot use `sum` to implement your function!\n",
    "\n",
    "Example:\n",
    "\n",
    "    mysum([10, 20, 30])\n",
    "    Total is 60"
   ]
  },
  {
   "cell_type": "code",
   "execution_count": 34,
   "id": "09968b99",
   "metadata": {},
   "outputs": [],
   "source": [
    "# to create a function, I'll need to use def\n",
    "\n",
    "def mysum(numbers):     # we have a parameter!\n",
    "    total = 0\n",
    "    \n",
    "    for one_number in numbers:\n",
    "        total += one_number\n",
    "        \n",
    "    print(total)"
   ]
  },
  {
   "cell_type": "markdown",
   "id": "d463631f",
   "metadata": {},
   "source": [
    "What happens here?\n",
    "\n",
    "When we call our function, the list of numbers that was passed as an argument is assigned to `numbers`. As soon as the function starts running, it has access to the variable `numbers`, a list of integers.\n",
    "\n",
    "We can use it right away! And we do, iterating over it one element at a time, grabbing a number and adding it to `total`.\n",
    "\n",
    "Finally, when we're done with our loop, we print `total`.\n",
    "\n",
    "Note that if someone passes a non-numeric element in our list, the function will blow up."
   ]
  },
  {
   "cell_type": "markdown",
   "id": "a9e2bbbc",
   "metadata": {},
   "source": [
    "# Next up\n",
    "\n",
    "1. What happens if there's an argument-parameter mismatch?\n",
    "2. Return values\n",
    "3. Keyword arguments\n",
    "4. Default argument values"
   ]
  },
  {
   "cell_type": "code",
   "execution_count": 39,
   "id": "ba7dce15",
   "metadata": {},
   "outputs": [
    {
     "name": "stdout",
     "output_type": "stream",
     "text": [
      "10\n",
      "30\n",
      "60\n"
     ]
    }
   ],
   "source": [
    "def mysum(nums):   # nums will be a list of integers\n",
    "    total = 0\n",
    "    for eachval in nums:\n",
    "        total += eachval\n",
    "        print(total)\n",
    "\n",
    "mysum([10, 20, 30])"
   ]
  },
  {
   "cell_type": "markdown",
   "id": "a3ef32e2",
   "metadata": {},
   "source": [
    "# Mismatched arguments and parameters\n",
    "\n",
    "- What happens if I call a function without parameters, and I pass it an argument?\n",
    "- What happens if I call a function that has a parameter, and I pass none?\n",
    "- What happens generally if I call a function with the wrong number of arguments?\n",
    "\n",
    "It'll fail.\n",
    "\n",
    "When we call the function, Python tries to match up each argument with a paramater. If it cannot match them up, then there's trouble, and it refuses to call the function."
   ]
  },
  {
   "cell_type": "code",
   "execution_count": 40,
   "id": "446262b3",
   "metadata": {},
   "outputs": [
    {
     "name": "stdout",
     "output_type": "stream",
     "text": [
      "Hello, world\n"
     ]
    }
   ],
   "source": [
    "def hello(name):\n",
    "    print(f'Hello, {name}')\n",
    "    \n",
    "hello('world')    "
   ]
  },
  {
   "cell_type": "code",
   "execution_count": 41,
   "id": "fa61d3e9",
   "metadata": {},
   "outputs": [
    {
     "ename": "TypeError",
     "evalue": "hello() missing 1 required positional argument: 'name'",
     "output_type": "error",
     "traceback": [
      "\u001b[0;31m---------------------------------------------------------------------------\u001b[0m",
      "\u001b[0;31mTypeError\u001b[0m                                 Traceback (most recent call last)",
      "Cell \u001b[0;32mIn [41], line 1\u001b[0m\n\u001b[0;32m----> 1\u001b[0m \u001b[43mhello\u001b[49m\u001b[43m(\u001b[49m\u001b[43m)\u001b[49m\n",
      "\u001b[0;31mTypeError\u001b[0m: hello() missing 1 required positional argument: 'name'"
     ]
    }
   ],
   "source": [
    "hello()"
   ]
  },
  {
   "cell_type": "code",
   "execution_count": 42,
   "id": "d7557424",
   "metadata": {},
   "outputs": [
    {
     "name": "stdout",
     "output_type": "stream",
     "text": [
      "Hello, world\n"
     ]
    }
   ],
   "source": [
    "# the most standard kind of argument in Python is a \"positional argument\"\n",
    "# this means that it is assigned to a parameter based on its position among the arguments\n",
    "\n",
    "# Parameters: name\n",
    "# Arguments: 'world'\n",
    "\n",
    "hello('world')"
   ]
  },
  {
   "cell_type": "code",
   "execution_count": 43,
   "id": "63362ec0",
   "metadata": {},
   "outputs": [
    {
     "ename": "TypeError",
     "evalue": "hello() missing 1 required positional argument: 'name'",
     "output_type": "error",
     "traceback": [
      "\u001b[0;31m---------------------------------------------------------------------------\u001b[0m",
      "\u001b[0;31mTypeError\u001b[0m                                 Traceback (most recent call last)",
      "Cell \u001b[0;32mIn [43], line 4\u001b[0m\n\u001b[1;32m      1\u001b[0m \u001b[38;5;66;03m# Parameters: name\u001b[39;00m\n\u001b[1;32m      2\u001b[0m \u001b[38;5;66;03m# Arguments: \u001b[39;00m\n\u001b[0;32m----> 4\u001b[0m \u001b[43mhello\u001b[49m\u001b[43m(\u001b[49m\u001b[43m)\u001b[49m\n",
      "\u001b[0;31mTypeError\u001b[0m: hello() missing 1 required positional argument: 'name'"
     ]
    }
   ],
   "source": [
    "# Parameters: name\n",
    "# Arguments: \n",
    "\n",
    "hello()"
   ]
  },
  {
   "cell_type": "code",
   "execution_count": 49,
   "id": "1f2ee766",
   "metadata": {
    "scrolled": true
   },
   "outputs": [
    {
     "name": "stdout",
     "output_type": "stream",
     "text": [
      "Hello, ('world', 'again')\n"
     ]
    }
   ],
   "source": [
    "# Parameters: name\n",
    "# Arguments: ('world'  , 'again')\n",
    "\n",
    "hello(('world', 'again'))  # double parentheses for a tuple"
   ]
  },
  {
   "cell_type": "code",
   "execution_count": 50,
   "id": "516d5eb1",
   "metadata": {
    "scrolled": true
   },
   "outputs": [
    {
     "ename": "TypeError",
     "evalue": "hello() takes 1 positional argument but 2 were given",
     "output_type": "error",
     "traceback": [
      "\u001b[0;31m---------------------------------------------------------------------------\u001b[0m",
      "\u001b[0;31mTypeError\u001b[0m                                 Traceback (most recent call last)",
      "Cell \u001b[0;32mIn [50], line 4\u001b[0m\n\u001b[1;32m      1\u001b[0m \u001b[38;5;66;03m# Parameters: name\u001b[39;00m\n\u001b[1;32m      2\u001b[0m \u001b[38;5;66;03m# Arguments: 'world'  \u001b[39;00m\n\u001b[0;32m----> 4\u001b[0m \u001b[43mhello\u001b[49m\u001b[43m(\u001b[49m\u001b[38;5;124;43m'\u001b[39;49m\u001b[38;5;124;43mworld\u001b[39;49m\u001b[38;5;124;43m'\u001b[39;49m\u001b[43m,\u001b[49m\u001b[43m \u001b[49m\u001b[38;5;124;43m'\u001b[39;49m\u001b[38;5;124;43magain\u001b[39;49m\u001b[38;5;124;43m'\u001b[39;49m\u001b[43m)\u001b[49m  \n",
      "\u001b[0;31mTypeError\u001b[0m: hello() takes 1 positional argument but 2 were given"
     ]
    }
   ],
   "source": [
    "# Parameters: name\n",
    "# Arguments: 'world'  \n",
    "\n",
    "hello('world', 'again')  "
   ]
  },
  {
   "cell_type": "code",
   "execution_count": 45,
   "id": "658bc62b",
   "metadata": {},
   "outputs": [],
   "source": [
    "def add(first, second):\n",
    "    print(f'{first} + {second} = {first+second}')"
   ]
  },
  {
   "cell_type": "code",
   "execution_count": 46,
   "id": "b37d4cdc",
   "metadata": {},
   "outputs": [
    {
     "name": "stdout",
     "output_type": "stream",
     "text": [
      "3 + 4 = 7\n"
     ]
    }
   ],
   "source": [
    "# parameters:   first   second\n",
    "# arguments:     3        4 \n",
    "\n",
    "add(3, 4)"
   ]
  },
  {
   "cell_type": "markdown",
   "id": "6d10ea83",
   "metadata": {},
   "source": [
    "# Return values\n",
    "\n",
    "When we call a function, we don't just want it to do something. We want it to *return* something to us.\n",
    "\n",
    "Think about it: When we call `len('abcd')`, we want to get a value back, which we can print, assign to a variable, or even pass to another function.\n",
    "\n",
    "So far, our functions haven't returned anything. We generally want them to do so. It's far better for them to return a value, and for the caller to decide what to do with that value, than to print the value on the screen, where we cannot capture it or do anything with it.\n",
    "\n",
    "A function can return *once*. And it can return a value *once*. It does this with the `return` keyword.\n",
    "\n",
    "You can have `return` as many times as you want in a function. But the first time Python encounters `return`, it will return the value and exit the function."
   ]
  },
  {
   "cell_type": "code",
   "execution_count": 52,
   "id": "7f984fa0",
   "metadata": {},
   "outputs": [
    {
     "data": {
      "text/plain": [
       "'Hello, world!'"
      ]
     },
     "execution_count": 52,
     "metadata": {},
     "output_type": "execute_result"
    }
   ],
   "source": [
    "def hello(name):\n",
    "    return f'Hello, {name}!'\n",
    "\n",
    "hello('world')   # here, we get a value back -- it's displayed in an Out line, and we see the quotes"
   ]
  },
  {
   "cell_type": "code",
   "execution_count": 53,
   "id": "de40347f",
   "metadata": {},
   "outputs": [
    {
     "name": "stdout",
     "output_type": "stream",
     "text": [
      "hello\n"
     ]
    }
   ],
   "source": [
    "print('hello')   # printing on the screen, no quotes"
   ]
  },
  {
   "cell_type": "code",
   "execution_count": 55,
   "id": "9949b6a9",
   "metadata": {},
   "outputs": [
    {
     "data": {
      "text/plain": [
       "'hello'"
      ]
     },
     "execution_count": 55,
     "metadata": {},
     "output_type": "execute_result"
    }
   ],
   "source": [
    "'hello'   # getting the printed representation of the string, quotes"
   ]
  },
  {
   "cell_type": "code",
   "execution_count": 56,
   "id": "4018439c",
   "metadata": {},
   "outputs": [],
   "source": [
    "# what will be printed on the screen now?\n",
    "\n",
    "x = hello('world')  "
   ]
  },
  {
   "cell_type": "code",
   "execution_count": 57,
   "id": "c3c9888b",
   "metadata": {},
   "outputs": [
    {
     "name": "stdout",
     "output_type": "stream",
     "text": [
      "Hello, world!\n"
     ]
    }
   ],
   "source": [
    "print(x)"
   ]
  },
  {
   "cell_type": "code",
   "execution_count": 58,
   "id": "c9d52bac",
   "metadata": {},
   "outputs": [
    {
     "data": {
      "text/plain": [
       "13"
      ]
     },
     "execution_count": 58,
     "metadata": {},
     "output_type": "execute_result"
    }
   ],
   "source": [
    "len(x)"
   ]
  },
  {
   "cell_type": "markdown",
   "id": "cc507d8a",
   "metadata": {},
   "source": [
    "# Exercise: Biggest and smallest\n",
    "\n",
    "1. Write a function called `smallest_and_biggest`, which takes a single argument, a list of integers.\n",
    "2. The function should return a two-element list\n",
    "    - The first element will be the smallest number in the argument list\n",
    "    - The second element will be the biggest number in the argument list\n",
    "\n",
    "Examples:\n",
    "\n",
    "```python\n",
    "smallest_and_biggest([10, 20, 30, 40, 50])  # returns [10, 50]\n",
    "smallest_and_biggest([10, -20, 30, -40, 50])  # returns [-40, 50]\n",
    "```    \n",
    "\n",
    "Hint: It's probably easiest to define two variables at the top of the function. Assign them both to be the first element in the list you got. As you go through each element of the list, you can decide whether it's larger than what you have before or smaller than what you have before.\n",
    "\n",
    "There are `min` and `max` functions in Python. So (a) don't use them and (b) don't call your variables `min` and `max`!"
   ]
  },
  {
   "cell_type": "code",
   "execution_count": 59,
   "id": "6206d6a8",
   "metadata": {},
   "outputs": [
    {
     "data": {
      "text/plain": [
       "[10, 50]"
      ]
     },
     "execution_count": 59,
     "metadata": {},
     "output_type": "execute_result"
    }
   ],
   "source": [
    "def smallest_and_biggest(numbers):\n",
    "    smallest = numbers[0]\n",
    "    biggest = numbers[0]\n",
    "    \n",
    "    for one_number in numbers[1:]:\n",
    "        if one_number < smallest:\n",
    "            smallest = one_number\n",
    "        if one_number > biggest:\n",
    "            biggest = one_number\n",
    "            \n",
    "    return [smallest, biggest]\n",
    "\n",
    "smallest_and_biggest([10, 20, 30, 40, 50])"
   ]
  },
  {
   "cell_type": "code",
   "execution_count": 60,
   "id": "7d8eb277",
   "metadata": {},
   "outputs": [
    {
     "data": {
      "text/plain": [
       "[-40, 50]"
      ]
     },
     "execution_count": 60,
     "metadata": {},
     "output_type": "execute_result"
    }
   ],
   "source": [
    "smallest_and_biggest([10, -20, 30, -40, 50])"
   ]
  },
  {
   "cell_type": "code",
   "execution_count": 61,
   "id": "0da079ba",
   "metadata": {},
   "outputs": [
    {
     "data": {
      "text/plain": [
       "['an', 'this']"
      ]
     },
     "execution_count": 61,
     "metadata": {},
     "output_type": "execute_result"
    }
   ],
   "source": [
    "# what if I call this function with a list of strings?\n",
    "# it'll return the earliest and latest (alphabetically) words\n",
    "\n",
    "smallest_and_biggest('this is an experiment for my course'.split())"
   ]
  },
  {
   "cell_type": "code",
   "execution_count": 63,
   "id": "19ceb159",
   "metadata": {},
   "outputs": [
    {
     "data": {
      "text/plain": [
       "13"
      ]
     },
     "execution_count": 63,
     "metadata": {},
     "output_type": "execute_result"
    }
   ],
   "source": [
    "# parameters: first  second\n",
    "# arguments:   10     3 \n",
    "\n",
    "def add(first, second):\n",
    "    return first + second\n",
    "\n",
    "add(10, 3)"
   ]
  },
  {
   "cell_type": "code",
   "execution_count": 64,
   "id": "e714566a",
   "metadata": {},
   "outputs": [
    {
     "data": {
      "text/plain": [
       "13"
      ]
     },
     "execution_count": 64,
     "metadata": {},
     "output_type": "execute_result"
    }
   ],
   "source": [
    "# there is another way that we can ask Python to associated arguments with parameters.\n",
    "# that is by calling a function with *keyword arguments*.\n",
    "\n",
    "# normally, (positional) arguments are assigned to parameters based on their positions\n",
    "# but keyword arguments look different, look like name=value  (yes, with the = sign!)\n",
    "# Python takes the name, and assigns the value to the parameter of that name\n",
    "\n",
    "# paramters: first  second\n",
    "# arguments:   10      3\n",
    "\n",
    "add(first=10, second=3)  # here, we'll calling the function with keyword arguments"
   ]
  },
  {
   "cell_type": "code",
   "execution_count": 65,
   "id": "da472c30",
   "metadata": {},
   "outputs": [
    {
     "data": {
      "text/plain": [
       "13"
      ]
     },
     "execution_count": 65,
     "metadata": {},
     "output_type": "execute_result"
    }
   ],
   "source": [
    "\n",
    "# paramters: first  second\n",
    "# arguments:   3       10\n",
    "\n",
    "add(second=10, first=3)  # here, we'll calling the function with keyword arguments"
   ]
  },
  {
   "cell_type": "markdown",
   "id": "894848af",
   "metadata": {},
   "source": [
    "# Can I mix positional and keyword arguments?\n",
    "\n",
    "Yes, so long as all of the positional arguments come first!"
   ]
  },
  {
   "cell_type": "code",
   "execution_count": 66,
   "id": "4436a720",
   "metadata": {},
   "outputs": [
    {
     "data": {
      "text/plain": [
       "13"
      ]
     },
     "execution_count": 66,
     "metadata": {},
     "output_type": "execute_result"
    }
   ],
   "source": [
    "add(10, second=3)   # just fine, because positional come before keyword"
   ]
  },
  {
   "cell_type": "code",
   "execution_count": 67,
   "id": "4aeec9fa",
   "metadata": {},
   "outputs": [
    {
     "ename": "SyntaxError",
     "evalue": "positional argument follows keyword argument (395736769.py, line 1)",
     "output_type": "error",
     "traceback": [
      "\u001b[0;36m  Cell \u001b[0;32mIn [67], line 1\u001b[0;36m\u001b[0m\n\u001b[0;31m    add(first=10, 3)    # this will not work!\u001b[0m\n\u001b[0m                   ^\u001b[0m\n\u001b[0;31mSyntaxError\u001b[0m\u001b[0;31m:\u001b[0m positional argument follows keyword argument\n"
     ]
    }
   ],
   "source": [
    "add(first=10, 3)    # this will not work!"
   ]
  },
  {
   "cell_type": "code",
   "execution_count": 68,
   "id": "2435e50b",
   "metadata": {},
   "outputs": [],
   "source": [
    "def myfunc(first, second, third):\n",
    "    print(f'{first=}, {second=}, {third=}')   # of Python 3.10, in an f-string, {a=} prints a's name and value"
   ]
  },
  {
   "cell_type": "code",
   "execution_count": 69,
   "id": "1021be8d",
   "metadata": {},
   "outputs": [
    {
     "name": "stdout",
     "output_type": "stream",
     "text": [
      "first=10, second=20, third=30\n"
     ]
    }
   ],
   "source": [
    "myfunc(10, 20, 30)   # three positional"
   ]
  },
  {
   "cell_type": "code",
   "execution_count": 70,
   "id": "12b495b1",
   "metadata": {},
   "outputs": [
    {
     "name": "stdout",
     "output_type": "stream",
     "text": [
      "first=10, second=20, third=30\n"
     ]
    }
   ],
   "source": [
    "myfunc(10, 20, third=30)   # positional before keyword"
   ]
  },
  {
   "cell_type": "code",
   "execution_count": 71,
   "id": "553f97bf",
   "metadata": {},
   "outputs": [
    {
     "name": "stdout",
     "output_type": "stream",
     "text": [
      "first=10, second=20, third=30\n"
     ]
    }
   ],
   "source": [
    "myfunc(10, second=20, third=30)  # positional before keyword"
   ]
  },
  {
   "cell_type": "code",
   "execution_count": 72,
   "id": "36bdab01",
   "metadata": {},
   "outputs": [
    {
     "name": "stdout",
     "output_type": "stream",
     "text": [
      "first=10, second=20, third=30\n"
     ]
    }
   ],
   "source": [
    "myfunc(10, third=30, second=20)  # positional before keyword"
   ]
  },
  {
   "cell_type": "code",
   "execution_count": 73,
   "id": "ad4307b5",
   "metadata": {},
   "outputs": [
    {
     "ename": "SyntaxError",
     "evalue": "positional argument follows keyword argument (2263820547.py, line 3)",
     "output_type": "error",
     "traceback": [
      "\u001b[0;36m  Cell \u001b[0;32mIn [73], line 3\u001b[0;36m\u001b[0m\n\u001b[0;31m    myfunc(first=10, 20, 30)\u001b[0m\n\u001b[0m                           ^\u001b[0m\n\u001b[0;31mSyntaxError\u001b[0m\u001b[0;31m:\u001b[0m positional argument follows keyword argument\n"
     ]
    }
   ],
   "source": [
    "# our trouble is with this\n",
    "\n",
    "myfunc(first=10, 20, 30)"
   ]
  },
  {
   "cell_type": "markdown",
   "id": "4e710303",
   "metadata": {},
   "source": [
    "# Arguments vs. parameters\n",
    "\n",
    "Arguments are value, passed by the caller to a function.\n",
    "\n",
    "Parameters are variables, assigned the values of arguments.\n",
    "\n",
    "Most professional programmers cannot tell you the difference between an argument and a parameter. Most will use the two terms interchangably. \n",
    "\n",
    "It has been pointed out to me that Python also is inconsistent in its naming of arguments vs. parameters."
   ]
  },
  {
   "cell_type": "markdown",
   "id": "982ad442",
   "metadata": {},
   "source": [
    "# How do we know what a function expects?\n",
    "\n",
    "If I want to call a function, I need to know how many arguments to pass, right? How can I know that?\n",
    "\n",
    "If I want to call a builtin function, I can ask Python for `help` -- that is, I pass the function as an argument to the `help` function:"
   ]
  },
  {
   "cell_type": "code",
   "execution_count": 75,
   "id": "64d8d111",
   "metadata": {},
   "outputs": [
    {
     "name": "stdout",
     "output_type": "stream",
     "text": [
      "Help on built-in function len in module builtins:\n",
      "\n",
      "len(obj, /)\n",
      "    Return the number of items in a container.\n",
      "\n"
     ]
    }
   ],
   "source": [
    "help(len)  # we aren't running len -- we're passing it to help -- no parentheses!"
   ]
  },
  {
   "cell_type": "code",
   "execution_count": 76,
   "id": "062cc16b",
   "metadata": {},
   "outputs": [
    {
     "name": "stdout",
     "output_type": "stream",
     "text": [
      "Help on method_descriptor:\n",
      "\n",
      "lower(self, /)\n",
      "    Return a copy of the string converted to lowercase.\n",
      "\n"
     ]
    }
   ],
   "source": [
    "help(str.lower)"
   ]
  },
  {
   "cell_type": "code",
   "execution_count": 77,
   "id": "9debaaac",
   "metadata": {},
   "outputs": [
    {
     "name": "stdout",
     "output_type": "stream",
     "text": [
      "Help on function add in module __main__:\n",
      "\n",
      "add(first, second)\n",
      "\n"
     ]
    }
   ],
   "source": [
    "help(add)"
   ]
  },
  {
   "cell_type": "markdown",
   "id": "dce1b830",
   "metadata": {},
   "source": [
    "# Docstrings\n",
    "\n",
    "If you want to provide users with documentation about your function, you write it as a \"docstring,\" a term used in Lisp and Python (and perhaps other languages).\n",
    "\n",
    "The idea is as follows: If the first line of the function body is a string, and that string isn't assigned to any variable or function, then that string documents the function.\n",
    "\n",
    "It's typically written as a triple-quoted string, meaning `\"\"\"   and \"\"\"`, so that you can have multiple lines.\n",
    "\n",
    "This docstring is what `help` displays. If you're in an IDE/editor, then hovering over the function name will usually show the docstring.\n",
    "\n",
    "The docstring should, at the very least, tell you:\n",
    "\n",
    "- What the function expects\n",
    "- What the function modifies\n",
    "- What the function returns\n",
    "\n"
   ]
  },
  {
   "cell_type": "code",
   "execution_count": 78,
   "id": "457f5549",
   "metadata": {},
   "outputs": [],
   "source": [
    "def add(first, second):\n",
    "    \"\"\"Returns the sum of two values.\n",
    "    \n",
    "    - Expects: Two values that can be added together\n",
    "    - Modifies: Nothing\n",
    "    - Returns: The sum of the two values.\n",
    "    \"\"\"\n",
    "    \n",
    "    return first + second"
   ]
  },
  {
   "cell_type": "code",
   "execution_count": 79,
   "id": "84b4da96",
   "metadata": {},
   "outputs": [
    {
     "data": {
      "text/plain": [
       "13"
      ]
     },
     "execution_count": 79,
     "metadata": {},
     "output_type": "execute_result"
    }
   ],
   "source": [
    "add(10, 3)"
   ]
  },
  {
   "cell_type": "code",
   "execution_count": 80,
   "id": "f56b7cd3",
   "metadata": {},
   "outputs": [
    {
     "data": {
      "text/plain": [
       "'abcdef'"
      ]
     },
     "execution_count": 80,
     "metadata": {},
     "output_type": "execute_result"
    }
   ],
   "source": [
    "add('abcd', 'ef')"
   ]
  },
  {
   "cell_type": "code",
   "execution_count": 81,
   "id": "29a84e51",
   "metadata": {},
   "outputs": [
    {
     "name": "stdout",
     "output_type": "stream",
     "text": [
      "Help on function add in module __main__:\n",
      "\n",
      "add(first, second)\n",
      "    Returns the sum of two values.\n",
      "    \n",
      "    - Expects: Two values that can be added together\n",
      "    - Modifies: Nothing\n",
      "    - Returns: The sum of the two values.\n",
      "\n"
     ]
    }
   ],
   "source": [
    "help(add)"
   ]
  },
  {
   "cell_type": "code",
   "execution_count": 82,
   "id": "db8e1fb4",
   "metadata": {},
   "outputs": [],
   "source": [
    "# in Jupyter, you can put ? before or after a name to get its docstring"
   ]
  },
  {
   "cell_type": "code",
   "execution_count": 83,
   "id": "699d4d95",
   "metadata": {},
   "outputs": [],
   "source": [
    "?add"
   ]
  },
  {
   "cell_type": "code",
   "execution_count": 84,
   "id": "f5907eb8",
   "metadata": {},
   "outputs": [],
   "source": [
    "??add"
   ]
  },
  {
   "cell_type": "code",
   "execution_count": 86,
   "id": "15f24b41",
   "metadata": {},
   "outputs": [
    {
     "name": "stdout",
     "output_type": "stream",
     "text": [
      "50 -10\n"
     ]
    }
   ],
   "source": [
    "def smallest_and_biggest(nums):\n",
    "\n",
    "    minnum = nums[0]    # minnum is a *local* variable, not available outside of the function\n",
    "    maxnum = nums[0]    # maxnum is a local variable, not available outside of the function\n",
    "\n",
    "    for eachval in nums[1::]:\n",
    "        if eachval > maxnum:\n",
    "            maxnum = eachval\n",
    "\n",
    "        if eachval < minnum:\n",
    "            minnum = eachval\n",
    "    return [maxnum, minnum]\n",
    "\n",
    "\n",
    "global_maxnum, global_minnum = smallest_and_biggest([-10,20,30,50])\n",
    "\n",
    "print(global_maxnum, global_minnum)"
   ]
  },
  {
   "cell_type": "markdown",
   "id": "0d06d287",
   "metadata": {},
   "source": [
    "# Next up\n",
    "\n",
    "- Default argument values\n",
    "- Complex return values\n",
    "- Local vs. global variables"
   ]
  },
  {
   "cell_type": "markdown",
   "id": "f2ac6178",
   "metadata": {},
   "source": [
    "# Default argument values\n",
    "\n",
    "We've already seen some examples of functions (and methods) that take *optional* arguments. That is, we can call them with arguments, but we can also call them without any arguments.\n",
    "\n",
    "How is that possible?\n",
    "\n",
    "Answer: Default argument values.  Meaning: We'll define our function, and we'll indicate that one or more parameters have default values, which are used if the caller doesn't pass any."
   ]
  },
  {
   "cell_type": "code",
   "execution_count": 87,
   "id": "d8fa8e76",
   "metadata": {},
   "outputs": [],
   "source": [
    "def add(first, second):\n",
    "    return first + second"
   ]
  },
  {
   "cell_type": "code",
   "execution_count": 88,
   "id": "b9e6277d",
   "metadata": {},
   "outputs": [
    {
     "data": {
      "text/plain": [
       "7"
      ]
     },
     "execution_count": 88,
     "metadata": {},
     "output_type": "execute_result"
    }
   ],
   "source": [
    "# what happens if I call add with 2 arguments?\n",
    "add(3, 4)"
   ]
  },
  {
   "cell_type": "code",
   "execution_count": 89,
   "id": "a062d23c",
   "metadata": {},
   "outputs": [
    {
     "ename": "TypeError",
     "evalue": "add() missing 1 required positional argument: 'second'",
     "output_type": "error",
     "traceback": [
      "\u001b[0;31m---------------------------------------------------------------------------\u001b[0m",
      "\u001b[0;31mTypeError\u001b[0m                                 Traceback (most recent call last)",
      "Cell \u001b[0;32mIn [89], line 2\u001b[0m\n\u001b[1;32m      1\u001b[0m \u001b[38;5;66;03m# what happens if I call add with 1 argument?\u001b[39;00m\n\u001b[0;32m----> 2\u001b[0m \u001b[43madd\u001b[49m\u001b[43m(\u001b[49m\u001b[38;5;241;43m3\u001b[39;49m\u001b[43m)\u001b[49m\n",
      "\u001b[0;31mTypeError\u001b[0m: add() missing 1 required positional argument: 'second'"
     ]
    }
   ],
   "source": [
    "# what happens if I call add with 1 argument?\n",
    "add(3)"
   ]
  },
  {
   "cell_type": "code",
   "execution_count": 90,
   "id": "d6753a1f",
   "metadata": {},
   "outputs": [],
   "source": [
    "# let's redefine add, such that second is optional\n",
    "\n",
    "def add(first, second=3):   # first is mandatory, and second is optional\n",
    "    return first + second"
   ]
  },
  {
   "cell_type": "code",
   "execution_count": 91,
   "id": "04f51581",
   "metadata": {},
   "outputs": [
    {
     "data": {
      "text/plain": [
       "11"
      ]
     },
     "execution_count": 91,
     "metadata": {},
     "output_type": "execute_result"
    }
   ],
   "source": [
    "# when I call add, we'll still have two parameters -- and they need to be assigned arguments\n",
    "\n",
    "# parameters: first second\n",
    "# arguments:   3      8\n",
    "\n",
    "add(3, 8)"
   ]
  },
  {
   "cell_type": "code",
   "execution_count": 92,
   "id": "f2080bba",
   "metadata": {},
   "outputs": [
    {
     "data": {
      "text/plain": [
       "6"
      ]
     },
     "execution_count": 92,
     "metadata": {},
     "output_type": "execute_result"
    }
   ],
   "source": [
    "# parameters: first second\n",
    "# arguments:   3      3 (from the default)\n",
    "\n",
    "add(3)"
   ]
  },
  {
   "cell_type": "markdown",
   "id": "49d8b8c6",
   "metadata": {},
   "source": [
    "# Optional parameters\n",
    "\n",
    "If you want a parameter to be optional, just name it in the function with `=` and its value.\n",
    "\n",
    "You can have as many optional parameters as you like, but all parameters with defaults must come after all parameters without defaults.\n",
    "\n",
    "(This is different from, but feels similar to, the issue of positional before keyword.  Here, we're talking about the function definition. Positional-before-keyword is all about the function invocation.)"
   ]
  },
  {
   "cell_type": "code",
   "execution_count": 93,
   "id": "7b365d72",
   "metadata": {},
   "outputs": [
    {
     "ename": "SyntaxError",
     "evalue": "non-default argument follows default argument (3055681578.py, line 1)",
     "output_type": "error",
     "traceback": [
      "\u001b[0;36m  Cell \u001b[0;32mIn [93], line 1\u001b[0;36m\u001b[0m\n\u001b[0;31m    def add(first=3, second):  # this won't work -- default before non-default\u001b[0m\n\u001b[0m                     ^\u001b[0m\n\u001b[0;31mSyntaxError\u001b[0m\u001b[0;31m:\u001b[0m non-default argument follows default argument\n"
     ]
    }
   ],
   "source": [
    "def add(first=3, second):  # this won't work -- default before non-default\n",
    "    return first + second"
   ]
  },
  {
   "cell_type": "markdown",
   "id": "6f1ed92b",
   "metadata": {},
   "source": [
    "# Warning: Only use immutable defaults!\n",
    "\n",
    "Python won't stop you from using mutable data (e.g., lists and dicts) for your default values.\n",
    "\n",
    "But you should avoid them anyway, using immutable data -- `True`, `False`, integers, floats, strings, and tuples.  "
   ]
  },
  {
   "cell_type": "markdown",
   "id": "15d64611",
   "metadata": {},
   "source": [
    "# Exercise: `count_characters`\n",
    "\n",
    "1. Define a function, `count_charcters`, that takes two arguments:\n",
    "    - `filename`, the name of a text file you'll open and go through\n",
    "    - `characters`, a string containing the letters you want to count.\n",
    "2. The function should go through the named file, one character at a time.\n",
    "3. The return value from the function should be a dict, whose keys are the characters you're intrested in, and whose values are integers, the count of each character that appears in the file.\n",
    "4. If you don't specify a value for `characters`, then it should count vowels (a, e, i, o, and u).\n",
    "\n",
    "Example: \n",
    "\n",
    "    count_characters('myfile.txt')  # it'll count vowels; we'll get back {'a':5, 'e':3, 'i':2, 'o':16, 'u':4}\n",
    "    count_characters('myfile.txt', 'xyz')  # it'll count x-y-z; we'll get back {'x':5, 'y':3, 'z':2}\n",
    "    "
   ]
  },
  {
   "cell_type": "code",
   "execution_count": 94,
   "id": "d77be06a",
   "metadata": {},
   "outputs": [
    {
     "name": "stdout",
     "output_type": "stream",
     "text": [
      "linux-etc-passwd.txt  myconfig.txt  nums.txt\t   wcfile.txt\r\n",
      "mini-access-log.txt   myfile.txt    shoe-data.txt\r\n"
     ]
    }
   ],
   "source": [
    "!ls *.txt"
   ]
  },
  {
   "cell_type": "code",
   "execution_count": 95,
   "id": "023b8edb",
   "metadata": {},
   "outputs": [
    {
     "name": "stdout",
     "output_type": "stream",
     "text": [
      "abcd\r\n",
      "efgh\r\n"
     ]
    }
   ],
   "source": [
    "!cat myfile.txt"
   ]
  },
  {
   "cell_type": "code",
   "execution_count": 100,
   "id": "e8c0d70c",
   "metadata": {},
   "outputs": [],
   "source": [
    "def count_characters(filename, characters='aeiou'):\n",
    "    output = {}\n",
    "\n",
    "    for one_character in characters:\n",
    "        output[one_character] = 0\n",
    "        \n",
    "    for one_line in open(filename):         # go through the file one line at a time\n",
    "        for one_character in one_line:      # go through the line one character at a time\n",
    "            if one_character in output:     # is this a character we care about?\n",
    "                output[one_character] += 1  # add 1 to this character's count\n",
    "                \n",
    "    return output"
   ]
  },
  {
   "cell_type": "code",
   "execution_count": 101,
   "id": "2c990af0",
   "metadata": {},
   "outputs": [
    {
     "data": {
      "text/plain": [
       "{'a': 11, 'b': 0, 'c': 5, 'd': 4, 'e': 10}"
      ]
     },
     "execution_count": 101,
     "metadata": {},
     "output_type": "execute_result"
    }
   ],
   "source": [
    "count_characters('wcfile.txt', 'abcde')"
   ]
  },
  {
   "cell_type": "code",
   "execution_count": 102,
   "id": "fdcb47d5",
   "metadata": {},
   "outputs": [
    {
     "data": {
      "text/plain": [
       "{'a': 11, 'e': 10, 'i': 10, 'o': 9, 'u': 0}"
      ]
     },
     "execution_count": 102,
     "metadata": {},
     "output_type": "execute_result"
    }
   ],
   "source": [
    "count_characters('wcfile.txt')  # no argument here, so we'll get the default of aeiou"
   ]
  },
  {
   "cell_type": "code",
   "execution_count": null,
   "id": "4b0b22d9",
   "metadata": {},
   "outputs": [],
   "source": [
    "def count_characters(filename, character_find='aeiou'):\n",
    "    \"\"\"default of aeiou\"\"\"\n",
    "    answer = {}\n",
    "    \n",
    "    for one_character in character_find:\n",
    "        answer[one_character] = 0\n",
    "    \n",
    "    for one_line in filename:  # go through filename, one item at a time -- one character at a time\n",
    "        for one_character in one_line:   # go through one_line (really 1 character)\n",
    "            if one_character in character_find:\n",
    "                answer[one_character] %2B= 1\n",
    "            else:\n",
    "                answer[one_character] = 1\n",
    "    return answer"
   ]
  },
  {
   "cell_type": "code",
   "execution_count": 106,
   "id": "4b6748e0",
   "metadata": {},
   "outputs": [],
   "source": [
    "def count_characters(filename, character_find='aeiou'):\n",
    "    \"\"\"default of aeiou\"\"\"\n",
    "    answer = {}\n",
    "    \n",
    "    for one_character in character_find:\n",
    "        answer[one_character] = 0\n",
    "    \n",
    "    for one_line in open(filename):  # go through the file\n",
    "        for one_character in one_line:   # go through one_line (really 1 character)\n",
    "            if one_character in character_find:\n",
    "                answer[one_character] += 1\n",
    "    return answer"
   ]
  },
  {
   "cell_type": "code",
   "execution_count": 107,
   "id": "c0a74562",
   "metadata": {},
   "outputs": [
    {
     "data": {
      "text/plain": [
       "{'a': 11, 'e': 10, 'i': 10, 'o': 9, 'u': 0}"
      ]
     },
     "execution_count": 107,
     "metadata": {},
     "output_type": "execute_result"
    }
   ],
   "source": [
    "count_characters('wcfile.txt')"
   ]
  },
  {
   "cell_type": "markdown",
   "id": "467efbd9",
   "metadata": {},
   "source": [
    "# Complex return values\n",
    "\n",
    "We've already seen that functions can return integers and strings -- but that's easy.\n",
    "\n",
    "They can also (as we've seen a bit) return more complex types:\n",
    "\n",
    "- Lists\n",
    "- Tuples\n",
    "- Dictionaries\n",
    "\n",
    "A Python function can return any valid Python object at all.\n",
    "\n",
    "If we can return complex types, then we can pass that information between functions easily.\n",
    "\n",
    "Return a list:\n",
    "- You're returning several items of the same type\n",
    "- This way, you can accumulate them as the function runs\n",
    "\n",
    "Return a dict:\n",
    "- You're returning a complex structure -- perhaps counting things (as in our `count_characters` functions), and perhaps keeping track of our data in other ways\n",
    "- This way, you can put the dict together over time\n",
    "\n",
    "Return a tuple:\n",
    "- This is a cheap way to pretend that we're returning multiple values\n",
    "- You can only return one value from a function, but if it's a tuple, then you basically get multiple values\n",
    "- This is especially true if you want to capture them with unpacking"
   ]
  },
  {
   "cell_type": "code",
   "execution_count": 108,
   "id": "a850638e",
   "metadata": {},
   "outputs": [],
   "source": [
    "def get_status():\n",
    "\n",
    "    # traditional not to use parentheses when returning values\n",
    "    return 'OK', {'code':200, 'url':'https://python.org'}"
   ]
  },
  {
   "cell_type": "code",
   "execution_count": 110,
   "id": "5114720f",
   "metadata": {},
   "outputs": [
    {
     "data": {
      "text/plain": [
       "('OK', {'code': 200, 'url': 'https://python.org'})"
      ]
     },
     "execution_count": 110,
     "metadata": {},
     "output_type": "execute_result"
    }
   ],
   "source": [
    "get_status()"
   ]
  },
  {
   "cell_type": "code",
   "execution_count": 112,
   "id": "aaa39f1c",
   "metadata": {},
   "outputs": [
    {
     "name": "stdout",
     "output_type": "stream",
     "text": [
      "200\n",
      "https://python.org\n"
     ]
    }
   ],
   "source": [
    "# when I get a tuple back, I can assign it and break it apart\n",
    "\n",
    "t = get_status()\n",
    "\n",
    "text_status = t[0]\n",
    "d = t[1]\n",
    "\n",
    "print(d['code'])\n",
    "print(d['url'])"
   ]
  },
  {
   "cell_type": "code",
   "execution_count": 114,
   "id": "183d7be5",
   "metadata": {},
   "outputs": [],
   "source": [
    "# easier to use unpacking!\n",
    "\n",
    "text_status, d = get_status()"
   ]
  },
  {
   "cell_type": "code",
   "execution_count": 116,
   "id": "f4e0fa1e",
   "metadata": {},
   "outputs": [
    {
     "name": "stdout",
     "output_type": "stream",
     "text": [
      "{'a': 11, 'b': 0, 'c': 5, 'd': 4, 'e': 10}\n"
     ]
    }
   ],
   "source": [
    "def count_chars(fname, selchars='aeiou'):\n",
    "    output = {} #define output dict\n",
    "    myfile = open(fname)\n",
    "    \n",
    "    for one_char in selchars:\n",
    "        output[one_char] = 0\n",
    "    for eachline in myfile:\n",
    "        linechars = eachline.strip()\n",
    "        for eachchar in linechars:\n",
    "            if eachchar in selchars:\n",
    "                output[eachchar]+=1\n",
    "    return output\n",
    "\n",
    "global_output = count_chars('wcfile.txt', 'abcde')\n",
    "\n",
    "print(global_output)"
   ]
  },
  {
   "cell_type": "code",
   "execution_count": null,
   "id": "3edf8d68",
   "metadata": {},
   "outputs": [],
   "source": []
  },
  {
   "cell_type": "markdown",
   "id": "a4aa2955",
   "metadata": {},
   "source": [
    "# Exercise: Evens and odds\n",
    "\n",
    "1. Define a function, `evens_and_odds`, that takes a single argument, a list of integers.\n",
    "2. The return value from this function will be a 2-element tuple of lists. The first list will contain even integers from the input argument. The second list will be odd integers from the input argument.\n",
    "\n",
    "```python\n",
    "evens_and_odds(10, 11, 12, 13)  # return value will be the tuple ([10, 12], [11, 13])\n",
    "\n",
    "```\n",
    "\n",
    "Remember that you can check if an integer is even by dividing it by 2 and checking if the remainder (`%`) is zero."
   ]
  },
  {
   "cell_type": "code",
   "execution_count": 117,
   "id": "559c8c5a",
   "metadata": {},
   "outputs": [],
   "source": [
    "def evens_and_odds(numbers):\n",
    "    evens = []\n",
    "    odds = []\n",
    "    \n",
    "    for one_number in numbers:\n",
    "        if one_number % 2 == 0:  # it must be even\n",
    "            evens.append(one_number)\n",
    "        else:\n",
    "            odds.append(one_number)\n",
    "            \n",
    "    return evens, odds   # returning a 2-element tuple of lists!"
   ]
  },
  {
   "cell_type": "code",
   "execution_count": 118,
   "id": "f4b4dade",
   "metadata": {},
   "outputs": [
    {
     "data": {
      "text/plain": [
       "([10, 12], [11, 13])"
      ]
     },
     "execution_count": 118,
     "metadata": {},
     "output_type": "execute_result"
    }
   ],
   "source": [
    "evens_and_odds([10, 11, 12, 13])"
   ]
  },
  {
   "cell_type": "code",
   "execution_count": 119,
   "id": "3136df73",
   "metadata": {},
   "outputs": [],
   "source": [
    "my_evens, my_odds = evens_and_odds([10, 11, 12, 13])"
   ]
  },
  {
   "cell_type": "code",
   "execution_count": 120,
   "id": "bdf87cf8",
   "metadata": {},
   "outputs": [
    {
     "data": {
      "text/plain": [
       "[10, 12]"
      ]
     },
     "execution_count": 120,
     "metadata": {},
     "output_type": "execute_result"
    }
   ],
   "source": [
    "my_evens"
   ]
  },
  {
   "cell_type": "code",
   "execution_count": 121,
   "id": "093acacb",
   "metadata": {},
   "outputs": [
    {
     "data": {
      "text/plain": [
       "[11, 13]"
      ]
     },
     "execution_count": 121,
     "metadata": {},
     "output_type": "execute_result"
    }
   ],
   "source": [
    "my_odds"
   ]
  },
  {
   "cell_type": "markdown",
   "id": "1f97b685",
   "metadata": {},
   "source": [
    "# Next up\n",
    "\n",
    "Local vs. global variables"
   ]
  },
  {
   "cell_type": "markdown",
   "id": "2c0ebb4d",
   "metadata": {},
   "source": [
    "# Variable scoping\n",
    "\n",
    "\"Scoping\" is the term used in programming to describe where a variable is available:\n",
    "\n",
    "- If I am inside of a function, do I have access to global variables?\n",
    "- If I'm outside of a function, do I have access to local variables?\n",
    "- When can I modify a global variable from inside of a function?\n",
    "\n",
    "Every programming language makes its own decisions regarding scoping.  \n",
    "\n",
    "As a general rule: If you aren't in a function, then you have global variables.\n",
    "\n",
    "Even inside of an `if`, `while`, or `for` intented block, you're still dealing with global variables.\n",
    "\n",
    "Only when we define a function do we start to see local variables. Those exist only inside of the local function. They cannot, by definition, exist outside of it.\n",
    "\n",
    "If I'm outside of a function, then I have *ZERO* access to the function's local variables."
   ]
  },
  {
   "cell_type": "code",
   "execution_count": 122,
   "id": "bc4a1309",
   "metadata": {},
   "outputs": [],
   "source": [
    "def mysum(numbers):\n",
    "    total = 0\n",
    "    \n",
    "    for one_number in numbers:\n",
    "        total += one_number\n",
    "        \n",
    "    return total"
   ]
  },
  {
   "cell_type": "code",
   "execution_count": 123,
   "id": "cefda0b5",
   "metadata": {},
   "outputs": [
    {
     "ename": "NameError",
     "evalue": "name 'numbers' is not defined",
     "output_type": "error",
     "traceback": [
      "\u001b[0;31m---------------------------------------------------------------------------\u001b[0m",
      "\u001b[0;31mNameError\u001b[0m                                 Traceback (most recent call last)",
      "Cell \u001b[0;32mIn [123], line 1\u001b[0m\n\u001b[0;32m----> 1\u001b[0m mysum(\u001b[43mnumbers\u001b[49m)   \u001b[38;5;66;03m# here, Python will look for a global variable \"numbers\" and pass it to mysum\u001b[39;00m\n",
      "\u001b[0;31mNameError\u001b[0m: name 'numbers' is not defined"
     ]
    }
   ],
   "source": [
    "mysum(numbers)   # here, Python will look for a global variable \"numbers\" and pass it to mysum"
   ]
  },
  {
   "cell_type": "code",
   "execution_count": 124,
   "id": "acbf092a",
   "metadata": {},
   "outputs": [
    {
     "name": "stdout",
     "output_type": "stream",
     "text": [
      "x = 100\n"
     ]
    }
   ],
   "source": [
    "# a little experiment\n",
    "\n",
    "x = 100\n",
    "\n",
    "print(f'x = {x}')   # what will this print?"
   ]
  },
  {
   "cell_type": "markdown",
   "id": "4f464191",
   "metadata": {},
   "source": [
    "# Why did Python print 100?\n",
    "\n",
    "Besides \"duh,\" there is actually some logic here:\n",
    "\n",
    "- We are outside of a function,\n",
    "- All variables outside of a function are global\n",
    "\n",
    "So Python asks: Do I have a global variable `x`? \n",
    "\n",
    "Answer: Yes!\n",
    "\n",
    "And so, Python retrieves the value of `x`, and prints it.\n",
    "\n",
    "This is part of the LEGB name-lookup system in Python:\n",
    "\n",
    "- L -- local  -- start here if we're inside of a function\n",
    "- (E -- enclosing function)\n",
    "- G -- global -- start here if we're outside of a function\n",
    "- B -- builtin\n",
    "\n",
    "Python searches for names in that order. If you're inside of a function, then it starts with local variables. If you're outside of a function, then it starts with global variables.\n",
    "\n",
    "It then continues down until either finding the variable we're looking for *or* giving up.\n",
    "\n",
    "This explains why if you define a variable called `sum`, the builtin `sum` function is no longer available. Because globals come before builtins in Python.  `sum` still exists, but you can't easily get to it."
   ]
  },
  {
   "cell_type": "code",
   "execution_count": 125,
   "id": "64a43fa4",
   "metadata": {},
   "outputs": [
    {
     "name": "stdout",
     "output_type": "stream",
     "text": [
      "Before, x=100\n",
      "In myfunc, x=100\n",
      "After, x=100\n"
     ]
    }
   ],
   "source": [
    "x = 100      # global x is 100\n",
    "\n",
    "def myfunc():\n",
    "    print(f'In myfunc, {x=}')  # Is there a local x? Answer: No. Is there a global x? Yes! Its value? 100.\n",
    "    \n",
    "print(f'Before, {x=}')    # here, it's just like before -- is there a global x? Yes. Its value? 100. \n",
    "myfunc()\n",
    "print(f'After, {x=}')"
   ]
  },
  {
   "cell_type": "code",
   "execution_count": 126,
   "id": "b1b61204",
   "metadata": {},
   "outputs": [
    {
     "name": "stdout",
     "output_type": "stream",
     "text": [
      "Before, x=100\n",
      "In myfunc, x=200\n",
      "After, x=100\n"
     ]
    }
   ],
   "source": [
    "x = 100      # global x is 100\n",
    "\n",
    "def myfunc():\n",
    "    x = 200                      # here, we define a local x!\n",
    "    print(f'In myfunc, {x=}')    # when we ask: Is there a local x? Answer: Yes! Its value is 200\n",
    "    \n",
    "print(f'Before, {x=}')    # once again, we ask: is there a global x? Yes, its value is 100. Done.\n",
    "myfunc()\n",
    "print(f'After, {x=}')    # the local x, and function, are gone. All that's left is x of 100"
   ]
  },
  {
   "cell_type": "markdown",
   "id": "b45fd2f8",
   "metadata": {},
   "source": [
    "Try to avoid using global variables in your function, so that things won't be as confusing."
   ]
  },
  {
   "cell_type": "code",
   "execution_count": 127,
   "id": "dd5c3860",
   "metadata": {},
   "outputs": [
    {
     "name": "stdout",
     "output_type": "stream",
     "text": [
      "Before, x=100\n"
     ]
    },
    {
     "ename": "UnboundLocalError",
     "evalue": "cannot access local variable 'x' where it is not associated with a value",
     "output_type": "error",
     "traceback": [
      "\u001b[0;31m---------------------------------------------------------------------------\u001b[0m",
      "\u001b[0;31mUnboundLocalError\u001b[0m                         Traceback (most recent call last)",
      "Cell \u001b[0;32mIn [127], line 10\u001b[0m\n\u001b[1;32m      7\u001b[0m     x \u001b[38;5;241m=\u001b[39m \u001b[38;5;241m200\u001b[39m   \n\u001b[1;32m      9\u001b[0m \u001b[38;5;28mprint\u001b[39m(\u001b[38;5;124mf\u001b[39m\u001b[38;5;124m'\u001b[39m\u001b[38;5;124mBefore, \u001b[39m\u001b[38;5;132;01m{\u001b[39;00mx\u001b[38;5;132;01m=}\u001b[39;00m\u001b[38;5;124m'\u001b[39m)    \n\u001b[0;32m---> 10\u001b[0m \u001b[43mmyfunc\u001b[49m\u001b[43m(\u001b[49m\u001b[43m)\u001b[49m\n\u001b[1;32m     11\u001b[0m \u001b[38;5;28mprint\u001b[39m(\u001b[38;5;124mf\u001b[39m\u001b[38;5;124m'\u001b[39m\u001b[38;5;124mAfter, \u001b[39m\u001b[38;5;132;01m{\u001b[39;00mx\u001b[38;5;132;01m=}\u001b[39;00m\u001b[38;5;124m'\u001b[39m)   \n",
      "Cell \u001b[0;32mIn [127], line 6\u001b[0m, in \u001b[0;36mmyfunc\u001b[0;34m()\u001b[0m\n\u001b[1;32m      5\u001b[0m \u001b[38;5;28;01mdef\u001b[39;00m \u001b[38;5;21mmyfunc\u001b[39m():\n\u001b[0;32m----> 6\u001b[0m     \u001b[38;5;28mprint\u001b[39m(\u001b[38;5;124mf\u001b[39m\u001b[38;5;124m'\u001b[39m\u001b[38;5;124mIn myfunc, \u001b[39m\u001b[38;5;132;01m{\u001b[39;00m\u001b[43mx\u001b[49m\u001b[38;5;132;01m=}\u001b[39;00m\u001b[38;5;124m'\u001b[39m)   \n\u001b[1;32m      7\u001b[0m     x \u001b[38;5;241m=\u001b[39m \u001b[38;5;241m200\u001b[39m\n",
      "\u001b[0;31mUnboundLocalError\u001b[0m: cannot access local variable 'x' where it is not associated with a value"
     ]
    }
   ],
   "source": [
    "# I'm going to swap the two lines in our function\n",
    "\n",
    "x = 100      \n",
    "\n",
    "def myfunc():\n",
    "    print(f'In myfunc, {x=}')   # what is the value of x? Is x local? YES. What is its value? Uh oh\n",
    "    x = 200                     # assignment to x ANYWHERE in the function makes x a local variable\n",
    "    \n",
    "print(f'Before, {x=}')    \n",
    "myfunc()\n",
    "print(f'After, {x=}')   "
   ]
  },
  {
   "cell_type": "markdown",
   "id": "a54ea30f",
   "metadata": {},
   "source": [
    "# What does this mean?\n",
    "\n",
    "- Try to have different variable names inside of your function and outside. \n",
    "- If you want to read from a variable in your function it'll work. (Sometimes, it's even needed, such as when you call a function from within another function.)\n",
    "- BUT if you assign to a variable within a function, that variable is now local. It's no longer (if it ever was) global."
   ]
  },
  {
   "cell_type": "code",
   "execution_count": 128,
   "id": "1ec5568c",
   "metadata": {},
   "outputs": [
    {
     "name": "stdout",
     "output_type": "stream",
     "text": [
      "Before\n",
      "Hello, world!\n",
      "After\n"
     ]
    }
   ],
   "source": [
    "def hello(name):\n",
    "    return f'Hello, {name}!'\n",
    "\n",
    "def myfunc():\n",
    "    print('Before')\n",
    "    print(hello('world'))\n",
    "    print('After')\n",
    "    \n",
    "myfunc()    "
   ]
  },
  {
   "cell_type": "code",
   "execution_count": null,
   "id": "fa6cb1be",
   "metadata": {},
   "outputs": [],
   "source": []
  },
  {
   "cell_type": "markdown",
   "id": "ccd294e4",
   "metadata": {},
   "source": [
    "# Parameters, so far\n",
    "\n",
    "We've seen that we can define two types of parameters in our functions:\n",
    "\n",
    "1. Regular, mandatory parameters that can be passed positional or keyword arguments\n",
    "2. Optional parameters that have default argument values (also can be passed positional or keyword)\n",
    "\n",
    "What if I don't know how many arguments I'm going to get?\n",
    "\n",
    "Let's revisit `mysum` again..."
   ]
  },
  {
   "cell_type": "code",
   "execution_count": 129,
   "id": "cb0cf23a",
   "metadata": {},
   "outputs": [],
   "source": [
    "def mysum(numbers):\n",
    "    total = 0\n",
    "    \n",
    "    for one_number in numbers:\n",
    "        total += one_number\n",
    "        \n",
    "    return total"
   ]
  },
  {
   "cell_type": "code",
   "execution_count": 130,
   "id": "e8635995",
   "metadata": {},
   "outputs": [
    {
     "data": {
      "text/plain": [
       "60"
      ]
     },
     "execution_count": 130,
     "metadata": {},
     "output_type": "execute_result"
    }
   ],
   "source": [
    "mysum([10, 20, 30])"
   ]
  },
  {
   "cell_type": "code",
   "execution_count": 131,
   "id": "7f663ea0",
   "metadata": {},
   "outputs": [
    {
     "data": {
      "text/plain": [
       "1000"
      ]
     },
     "execution_count": 131,
     "metadata": {},
     "output_type": "execute_result"
    }
   ],
   "source": [
    "mysum([100, 200, 300, 400])"
   ]
  },
  {
   "cell_type": "code",
   "execution_count": 132,
   "id": "9770102c",
   "metadata": {},
   "outputs": [
    {
     "ename": "TypeError",
     "evalue": "mysum() takes 1 positional argument but 4 were given",
     "output_type": "error",
     "traceback": [
      "\u001b[0;31m---------------------------------------------------------------------------\u001b[0m",
      "\u001b[0;31mTypeError\u001b[0m                                 Traceback (most recent call last)",
      "Cell \u001b[0;32mIn [132], line 4\u001b[0m\n\u001b[1;32m      1\u001b[0m \u001b[38;5;66;03m# why in the world do I have to pass a list?\u001b[39;00m\n\u001b[1;32m      2\u001b[0m \u001b[38;5;66;03m# why not just pass all of the numbers?\u001b[39;00m\n\u001b[0;32m----> 4\u001b[0m \u001b[43mmysum\u001b[49m\u001b[43m(\u001b[49m\u001b[38;5;241;43m100\u001b[39;49m\u001b[43m,\u001b[49m\u001b[43m \u001b[49m\u001b[38;5;241;43m200\u001b[39;49m\u001b[43m,\u001b[49m\u001b[43m \u001b[49m\u001b[38;5;241;43m300\u001b[39;49m\u001b[43m,\u001b[49m\u001b[43m \u001b[49m\u001b[38;5;241;43m400\u001b[39;49m\u001b[43m)\u001b[49m\n",
      "\u001b[0;31mTypeError\u001b[0m: mysum() takes 1 positional argument but 4 were given"
     ]
    }
   ],
   "source": [
    "# why in the world do I have to pass a list?\n",
    "# why not just pass all of the numbers?\n",
    "\n",
    "mysum(100, 200, 300, 400)"
   ]
  },
  {
   "cell_type": "markdown",
   "id": "4bb320a0",
   "metadata": {},
   "source": [
    "# `*args` (pronounced \"splat args\")\n",
    "\n",
    "If we have, at the end of our parameters, a special one called `*args` (the name can be different, but the `*` must be there), it will get the values of all positional arguments that no other paramter took.\n",
    "\n",
    "If we have only `*args` as a parameter, then all arguments must be positional, and they'll all be put into `args`.\n",
    "\n",
    "`args` will always be a tuple."
   ]
  },
  {
   "cell_type": "code",
   "execution_count": 133,
   "id": "31d826cb",
   "metadata": {},
   "outputs": [],
   "source": [
    "def mysum(*numbers):   # numbers will be a tuple, with all of the positional arguments\n",
    "    total = 0\n",
    "    \n",
    "    for one_number in numbers:\n",
    "        total += one_number\n",
    "        \n",
    "    return total"
   ]
  },
  {
   "cell_type": "code",
   "execution_count": 134,
   "id": "715f3996",
   "metadata": {},
   "outputs": [
    {
     "data": {
      "text/plain": [
       "60"
      ]
     },
     "execution_count": 134,
     "metadata": {},
     "output_type": "execute_result"
    }
   ],
   "source": [
    "mysum(10, 20, 30)   # no brackets!"
   ]
  },
  {
   "cell_type": "markdown",
   "id": "9f8bbffe",
   "metadata": {},
   "source": [
    "# Some `*args` hints\n",
    "\n",
    "1. Don't check the length, and don't retrieve individual elements. Rather, run a `for` loop on `*args`.\n",
    "2. It must come after all mandatory and optional parameters.\n",
    "3. It's a tuple\n",
    "4. The `*` only needs to appear in the function signature, not when you're retrieving the variable value."
   ]
  },
  {
   "cell_type": "markdown",
   "id": "4cfcf37c",
   "metadata": {},
   "source": [
    "# Exercise: `count_vowels_files`\n",
    "\n",
    "Let's revisit our `count_vowels` function from earlier and last time. We're going to write a new version, one that can handle multiple filenames.\n",
    "\n",
    "Define `count_vowels` such that it takes a filename as an argument, and returns an integer as its return value.\n",
    "\n",
    "Now redefine `count_vowels` to take any number of filenames as arguments. The integer returned should reflect all of the named files."
   ]
  },
  {
   "cell_type": "code",
   "execution_count": 136,
   "id": "c85e2daf",
   "metadata": {},
   "outputs": [],
   "source": [
    "def count_vowels(filename):\n",
    "    total = 0\n",
    "    for one_line in open(filename):\n",
    "        for one_character in one_line:\n",
    "            if one_character in 'aeiou':\n",
    "                total += 1\n",
    "    return total"
   ]
  },
  {
   "cell_type": "code",
   "execution_count": 137,
   "id": "bfa65ff1",
   "metadata": {},
   "outputs": [
    {
     "data": {
      "text/plain": [
       "40"
      ]
     },
     "execution_count": 137,
     "metadata": {},
     "output_type": "execute_result"
    }
   ],
   "source": [
    "count_vowels('wcfile.txt')"
   ]
  },
  {
   "cell_type": "code",
   "execution_count": 138,
   "id": "e8ceaa26",
   "metadata": {},
   "outputs": [],
   "source": [
    "def count_vowels(*args):   # args will be a tuple containing one or more filenames\n",
    "    total = 0\n",
    "    for one_filename in args:\n",
    "        for one_line in open(one_filename):\n",
    "            for one_character in one_line:\n",
    "                if one_character in 'aeiou':\n",
    "                    total += 1\n",
    "    return total"
   ]
  },
  {
   "cell_type": "code",
   "execution_count": 139,
   "id": "b75e2bda",
   "metadata": {},
   "outputs": [
    {
     "data": {
      "text/plain": [
       "4766"
      ]
     },
     "execution_count": 139,
     "metadata": {},
     "output_type": "execute_result"
    }
   ],
   "source": [
    "count_vowels('wcfile.txt', 'myfile.txt', 'mini-access-log.txt')"
   ]
  },
  {
   "cell_type": "code",
   "execution_count": 140,
   "id": "66ca8dee",
   "metadata": {},
   "outputs": [
    {
     "data": {
      "text/plain": [
       "40"
      ]
     },
     "execution_count": 140,
     "metadata": {},
     "output_type": "execute_result"
    }
   ],
   "source": [
    "count_vowels('wcfile.txt')"
   ]
  },
  {
   "cell_type": "code",
   "execution_count": 141,
   "id": "99606c59",
   "metadata": {},
   "outputs": [
    {
     "name": "stdout",
     "output_type": "stream",
     "text": [
      "a\n"
     ]
    }
   ],
   "source": [
    "# print uses *args!\n",
    "\n",
    "print('a')"
   ]
  },
  {
   "cell_type": "code",
   "execution_count": 142,
   "id": "48ebcf19",
   "metadata": {},
   "outputs": [
    {
     "name": "stdout",
     "output_type": "stream",
     "text": [
      "a b\n"
     ]
    }
   ],
   "source": [
    "print('a', 'b')"
   ]
  },
  {
   "cell_type": "code",
   "execution_count": 143,
   "id": "67e5881c",
   "metadata": {},
   "outputs": [
    {
     "name": "stdout",
     "output_type": "stream",
     "text": [
      "a b c\n"
     ]
    }
   ],
   "source": [
    "print('a', 'b', 'c')"
   ]
  },
  {
   "cell_type": "code",
   "execution_count": 144,
   "id": "a8daea39",
   "metadata": {},
   "outputs": [
    {
     "data": {
      "text/plain": [
       "{'wcfile.txt': 40, 'myfile.txt': 2, 'mini-access-log.txt': 4724}"
      ]
     },
     "execution_count": 144,
     "metadata": {},
     "output_type": "execute_result"
    }
   ],
   "source": [
    "# you cannot return more than once from a function. But you could return a dict whose keys are filenames\n",
    "# and whose values are vowels counts\n",
    "\n",
    "def count_vowels(*args):   # args will be a tuple containing one or more filenames\n",
    "    output = {}\n",
    "    for one_filename in args:\n",
    "        output[one_filename] = 0\n",
    "        for one_line in open(one_filename):\n",
    "            for one_character in one_line:\n",
    "                if one_character in 'aeiou':\n",
    "                    output[one_filename] += 1\n",
    "    return output\n",
    "\n",
    "count_vowels('wcfile.txt', 'myfile.txt', 'mini-access-log.txt')"
   ]
  },
  {
   "cell_type": "code",
   "execution_count": null,
   "id": "224debcf",
   "metadata": {},
   "outputs": [],
   "source": [
    "# poor man's \"chain\" function -- taking any number of iterables, and returning a list of their elements\n",
    "# \"chain\" is a function where each ar"
   ]
  }
 ],
 "metadata": {
  "kernelspec": {
   "display_name": "Python 3 (ipykernel)",
   "language": "python",
   "name": "python3"
  },
  "language_info": {
   "codemirror_mode": {
    "name": "ipython",
    "version": 3
   },
   "file_extension": ".py",
   "mimetype": "text/x-python",
   "name": "python",
   "nbconvert_exporter": "python",
   "pygments_lexer": "ipython3",
   "version": "3.11.3"
  }
 },
 "nbformat": 4,
 "nbformat_minor": 5
}
