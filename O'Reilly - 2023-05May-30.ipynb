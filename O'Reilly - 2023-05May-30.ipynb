{
 "cells": [
  {
   "cell_type": "markdown",
   "id": "ee57014d",
   "metadata": {},
   "source": [
    "# Agenda: Week 5 (Modules and packages)\n",
    "\n",
    "1. Recap and Q&A\n",
    "2. Intro to modules\n",
    "3. What do modules contain?\n",
    "4. The different forms of `import`\n",
    "5. Developing a module\n",
    "6. Python's standard library\n",
    "7. Modules vs. packages\n",
    "8. PyPI and third-party modules\n",
    "9. Installing things with `pip`\n",
    "10. What's next?"
   ]
  },
  {
   "cell_type": "markdown",
   "id": "292a23af",
   "metadata": {},
   "source": [
    "# Local and global variables\n",
    "\n",
    "Remember that outside of a function definition, all variables are *global*. \n",
    "\n",
    "Inside of a function:\n",
    "\n",
    "- If we *set* a variable, then that variable is considered *local*.\n",
    "- If we ask for a variable value, then Python:\n",
    "    - First looks inside of the function for a local variable of that name\n",
    "    - If it doesn't find a local variable of that name, then it looks for a global of that name\n",
    "    \n",
    "LEGB -- local, enclosing, global, and builtin -- is the way that Python searches for variables.\n",
    "\n",
    "If I'm inside of a function, we might very well encounter a situation where there is a local variable with the same name as a global variable. However, based on what we've seen so far, there is no way for us to assign to the global variable of that same name. Once there's a local variable \"shadowing\" the global, we're out of luck.\n",
    "\n",
    "There are two ways to get around this:\n",
    "\n",
    "1. Use the `global` declaration in the function. This gets rid of the local variable; all references to that name are now global.\n",
    "2. Import the `__main__` module from the Python standard library. That gives you access to all of the global variables via that namespace/module."
   ]
  },
  {
   "cell_type": "code",
   "execution_count": 1,
   "id": "767f6b71",
   "metadata": {},
   "outputs": [
    {
     "name": "stdout",
     "output_type": "stream",
     "text": [
      "Before, x = 100\n",
      "In myfunc, the value of x is 200\n",
      "After, x = 100\n"
     ]
    }
   ],
   "source": [
    "# example 1, using nothing -- default, problematic situation\n",
    "\n",
    "x = 100\n",
    "\n",
    "def myfunc():\n",
    "    x = 200\n",
    "    print(f'In myfunc, the value of x is {x}')\n",
    "    \n",
    "print(f'Before, x = {x}')    \n",
    "myfunc()\n",
    "print(f'After, x = {x}')"
   ]
  },
  {
   "cell_type": "code",
   "execution_count": 2,
   "id": "e9165354",
   "metadata": {},
   "outputs": [
    {
     "name": "stdout",
     "output_type": "stream",
     "text": [
      "Before, x = 100\n",
      "In myfunc, the value of x is 200\n",
      "After, x = 200\n"
     ]
    }
   ],
   "source": [
    "# example 2, using global -- this means that assigning to x on line 6 does *NOT* create\n",
    "# a local variable. All assignments to x then go to the global\n",
    "\n",
    "# please *NEVER* use \"global\" in your programs unless you are absolutely, positively desperate\n",
    "\n",
    "x = 100\n",
    "\n",
    "def myfunc():\n",
    "    global x    # this tells Python not to create a local variable for the function\n",
    "    x = 200\n",
    "    print(f'In myfunc, the value of x is {x}')\n",
    "    \n",
    "print(f'Before, x = {x}')    \n",
    "myfunc()\n",
    "print(f'After, x = {x}')"
   ]
  },
  {
   "cell_type": "code",
   "execution_count": 4,
   "id": "a015850f",
   "metadata": {},
   "outputs": [
    {
     "name": "stdout",
     "output_type": "stream",
     "text": [
      "Before, x = 100\n",
      "In myfunc, the value of x is 300\n",
      "After, x = 200\n"
     ]
    }
   ],
   "source": [
    "# example 3, using __main__\n",
    "# if you need to assign to a global variable, this is my preferred way of doing it\n",
    "\n",
    "import __main__\n",
    "x = 100\n",
    "\n",
    "def myfunc():\n",
    "    x = 300            # assigns to the local variable\n",
    "    __main__.x = 200   # assigns to the global variable via the __main__ namespace\n",
    "    print(f'In myfunc, the value of x is {x}')   # this retrieves the local value\n",
    "    \n",
    "print(f'Before, x = {x}')    \n",
    "myfunc()\n",
    "print(f'After, x = {x}')"
   ]
  },
  {
   "cell_type": "markdown",
   "id": "f1dc3132",
   "metadata": {},
   "source": [
    "# Modules -- what are they good for?\n",
    "\n",
    "We've talked about the \"DRY\" (don't repeat yourself) rule in programming.\n",
    "\n",
    "It cleans up our code, making it easier to (a) write, (b) maintain, and (c) think about.\n",
    "\n",
    "1. If you have the same code several lines in a row, then you should replace that code with a loop.\n",
    "2. If you have the same code in several different parts of your program, you should write a function and then invoke the function in all of those places.\n",
    "3. If you have the same code in several different programs, I can write the functionality once, and refer to it whenever I need it. This is known in the programming world as a \"library,\" and in Python, libraries are implemented using \"modules.\"\n",
    "\n",
    "But modules do more than that in Python: They also provide us with *namespaces*, ensuring that we don't have \"namespace collisions\" -- when two or more parts of a program use the same variable name, and then end up assigning their own values to the other part's variables.\n",
    "\n",
    "The way that modules handle this is by treating their variables as \"attributes,\" names that come after `.`. If I collaborate with someone else on a Python program, then if I write my things in a module, and they write their things in a module, we cannot have a namespace collision, because the names will be in separate modules!"
   ]
  },
  {
   "cell_type": "code",
   "execution_count": 5,
   "id": "7f641f26",
   "metadata": {},
   "outputs": [],
   "source": [
    "# we've already used a module -- let's see how we can use it!\n",
    "\n",
    "# we use \"import\" to load a module\n",
    "# import:\n",
    "# (a) is not a function! Don't use parentheses!\n",
    "# (b) the argument that we give it is not a string! \n",
    "# (c) the argument is not a filename! \n",
    "\n",
    "# the argument to import is actually the name of the module variable we want to define\n",
    "\n",
    "# import \n",
    "# (a) creates a module object and\n",
    "# (b) assigns that module object to a variable\n",
    "\n",
    "import random"
   ]
  },
  {
   "cell_type": "code",
   "execution_count": 6,
   "id": "69605511",
   "metadata": {},
   "outputs": [
    {
     "data": {
      "text/plain": [
       "module"
      ]
     },
     "execution_count": 6,
     "metadata": {},
     "output_type": "execute_result"
    }
   ],
   "source": [
    "# what is random?\n",
    "type(random)"
   ]
  },
  {
   "cell_type": "markdown",
   "id": "dd1675dc",
   "metadata": {},
   "source": [
    "# What does a module contain?\n",
    "\n",
    "Python code, most typically:\n",
    "\n",
    "- Function definitions\n",
    "- Data definitions\n",
    "- Class definitions, for new types of data we want to work with\n",
    "\n",
    "This means that when I say `import random`, I have access to all of the functions that the author wrote for the `random` module. Over time, if they add new functionality there, I'll benefit; all I have to do is say `import random`."
   ]
  },
  {
   "cell_type": "code",
   "execution_count": 8,
   "id": "d5976470",
   "metadata": {},
   "outputs": [
    {
     "data": {
      "text/plain": [
       "19"
      ]
     },
     "execution_count": 8,
     "metadata": {},
     "output_type": "execute_result"
    }
   ],
   "source": [
    "# if I want to use functionality from random, it'll all be as attributes under \"random.\"\n",
    "\n",
    "# get a random integer from 0-100\n",
    "\n",
    "# we ask Python to go into the \"random\" namespace\n",
    "# execute the function \"randint\" in that namespace, passing it (0, 100) as arguments.\n",
    "random.randint(0, 100)"
   ]
  },
  {
   "cell_type": "code",
   "execution_count": 9,
   "id": "6452a4ac",
   "metadata": {},
   "outputs": [],
   "source": [
    "# in Jupyter, we can see the definition of a function by putting ?? after its name\n",
    "random.randint??"
   ]
  },
  {
   "cell_type": "markdown",
   "id": "82d816de",
   "metadata": {},
   "source": [
    "# Exercise: Guessing game\n",
    "\n",
    "1. Choose a random integer (using `random.randint` from 0-100).\n",
    "2. Ask the user to enter a guess.\n",
    "3. Print whether the guess is right, too high, or too low.\n",
    "    - If the user guessed correctly, then exit the program\n",
    "    - Otherwise, have them try again.\n",
    "    \n",
    "Example:\n",
    "\n",
    "    Guess a number: 50\n",
    "    Too low!\n",
    "    Guess a number: 90\n",
    "    Too high!\n",
    "    Guess a number: 80\n",
    "    Too low!\n",
    "    Guess a number: 86\n",
    "    You got it!\n",
    "    "
   ]
  },
  {
   "cell_type": "code",
   "execution_count": 11,
   "id": "fa59fd6b",
   "metadata": {},
   "outputs": [
    {
     "name": "stdout",
     "output_type": "stream",
     "text": [
      "Guess: 50\n",
      "Too high!\n",
      "Guess: asdfafa\n",
      "Not numeric! Try again!\n",
      "Guess: 25\n",
      "Too high!\n",
      "Guess: 12\n",
      "Too high!\n",
      "Guess: 6\n",
      "Too high!\n",
      "Guess: 3\n",
      "You got it!\n"
     ]
    }
   ],
   "source": [
    "import random    # I must import the module\n",
    "\n",
    "number = random.randint(0, 100)    # choose a random number, and put it in \"number\"\n",
    "\n",
    "while True:\n",
    "    guess = input('Guess: ').strip()\n",
    "    \n",
    "    if not guess.isdigit():\n",
    "        print(f'Not numeric! Try again!')\n",
    "        continue\n",
    "        \n",
    "    n = int(guess)\n",
    "    \n",
    "    if n == number:\n",
    "        print('You got it!')\n",
    "        break\n",
    "        \n",
    "    elif n < number:\n",
    "        print('Too low!')\n",
    "        \n",
    "    else:\n",
    "        print('Too high!')"
   ]
  },
  {
   "cell_type": "markdown",
   "id": "d66c80d2",
   "metadata": {},
   "source": [
    "# What else does `random` contain?\n",
    "\n",
    "`random` is a module, which makes it a container for other names (and thus definitions). How can we find out what else it contains?\n",
    "\n",
    "1. We use the builtin `dir` function on the `random` module, and get a list of names available in `random`.\n",
    "2. In Jupyter (or a similar system), we can get help on the module by invoking `help(random)`.\n",
    "3. Go to the site for Python documentation, assuming that we're using something from the standard library."
   ]
  },
  {
   "cell_type": "code",
   "execution_count": 12,
   "id": "65b39cc4",
   "metadata": {},
   "outputs": [
    {
     "data": {
      "text/plain": [
       "['BPF',\n",
       " 'LOG4',\n",
       " 'NV_MAGICCONST',\n",
       " 'RECIP_BPF',\n",
       " 'Random',\n",
       " 'SG_MAGICCONST',\n",
       " 'SystemRandom',\n",
       " 'TWOPI',\n",
       " '_ONE',\n",
       " '_Sequence',\n",
       " '_Set',\n",
       " '__all__',\n",
       " '__builtins__',\n",
       " '__cached__',\n",
       " '__doc__',\n",
       " '__file__',\n",
       " '__loader__',\n",
       " '__name__',\n",
       " '__package__',\n",
       " '__spec__',\n",
       " '_accumulate',\n",
       " '_acos',\n",
       " '_bisect',\n",
       " '_ceil',\n",
       " '_cos',\n",
       " '_e',\n",
       " '_exp',\n",
       " '_floor',\n",
       " '_index',\n",
       " '_inst',\n",
       " '_isfinite',\n",
       " '_log',\n",
       " '_os',\n",
       " '_pi',\n",
       " '_random',\n",
       " '_repeat',\n",
       " '_sha512',\n",
       " '_sin',\n",
       " '_sqrt',\n",
       " '_test',\n",
       " '_test_generator',\n",
       " '_urandom',\n",
       " '_warn',\n",
       " 'betavariate',\n",
       " 'choice',\n",
       " 'choices',\n",
       " 'expovariate',\n",
       " 'gammavariate',\n",
       " 'gauss',\n",
       " 'getrandbits',\n",
       " 'getstate',\n",
       " 'lognormvariate',\n",
       " 'normalvariate',\n",
       " 'paretovariate',\n",
       " 'randbytes',\n",
       " 'randint',\n",
       " 'random',\n",
       " 'randrange',\n",
       " 'sample',\n",
       " 'seed',\n",
       " 'setstate',\n",
       " 'shuffle',\n",
       " 'triangular',\n",
       " 'uniform',\n",
       " 'vonmisesvariate',\n",
       " 'weibullvariate']"
      ]
     },
     "execution_count": 12,
     "metadata": {},
     "output_type": "execute_result"
    }
   ],
   "source": [
    "# use dir\n",
    "\n",
    "dir(random)"
   ]
  },
  {
   "cell_type": "code",
   "execution_count": 13,
   "id": "b1318771",
   "metadata": {},
   "outputs": [
    {
     "name": "stdout",
     "output_type": "stream",
     "text": [
      "Help on module random:\n",
      "\n",
      "NAME\n",
      "    random - Random variable generators.\n",
      "\n",
      "DESCRIPTION\n",
      "        bytes\n",
      "        -----\n",
      "               uniform bytes (values between 0 and 255)\n",
      "    \n",
      "        integers\n",
      "        --------\n",
      "               uniform within range\n",
      "    \n",
      "        sequences\n",
      "        ---------\n",
      "               pick random element\n",
      "               pick random sample\n",
      "               pick weighted random sample\n",
      "               generate random permutation\n",
      "    \n",
      "        distributions on the real line:\n",
      "        ------------------------------\n",
      "               uniform\n",
      "               triangular\n",
      "               normal (Gaussian)\n",
      "               lognormal\n",
      "               negative exponential\n",
      "               gamma\n",
      "               beta\n",
      "               pareto\n",
      "               Weibull\n",
      "    \n",
      "        distributions on the circle (angles 0 to 2pi)\n",
      "        ---------------------------------------------\n",
      "               circular uniform\n",
      "               von Mises\n",
      "    \n",
      "    General notes on the underlying Mersenne Twister core generator:\n",
      "    \n",
      "    * The period is 2**19937-1.\n",
      "    * It is one of the most extensively tested generators in existence.\n",
      "    * The random() method is implemented in C, executes in a single Python step,\n",
      "      and is, therefore, threadsafe.\n",
      "\n",
      "CLASSES\n",
      "    _random.Random(builtins.object)\n",
      "        Random\n",
      "            SystemRandom\n",
      "    \n",
      "    class Random(_random.Random)\n",
      "     |  Random(x=None)\n",
      "     |  \n",
      "     |  Random number generator base class used by bound module functions.\n",
      "     |  \n",
      "     |  Used to instantiate instances of Random to get generators that don't\n",
      "     |  share state.\n",
      "     |  \n",
      "     |  Class Random can also be subclassed if you want to use a different basic\n",
      "     |  generator of your own devising: in that case, override the following\n",
      "     |  methods:  random(), seed(), getstate(), and setstate().\n",
      "     |  Optionally, implement a getrandbits() method so that randrange()\n",
      "     |  can cover arbitrarily large ranges.\n",
      "     |  \n",
      "     |  Method resolution order:\n",
      "     |      Random\n",
      "     |      _random.Random\n",
      "     |      builtins.object\n",
      "     |  \n",
      "     |  Methods defined here:\n",
      "     |  \n",
      "     |  __getstate__(self)\n",
      "     |      Helper for pickle.\n",
      "     |  \n",
      "     |  __init__(self, x=None)\n",
      "     |      Initialize an instance.\n",
      "     |      \n",
      "     |      Optional argument x controls seeding, as for Random.seed().\n",
      "     |  \n",
      "     |  __reduce__(self)\n",
      "     |      Helper for pickle.\n",
      "     |  \n",
      "     |  __setstate__(self, state)\n",
      "     |  \n",
      "     |  betavariate(self, alpha, beta)\n",
      "     |      Beta distribution.\n",
      "     |      \n",
      "     |      Conditions on the parameters are alpha > 0 and beta > 0.\n",
      "     |      Returned values range between 0 and 1.\n",
      "     |  \n",
      "     |  choice(self, seq)\n",
      "     |      Choose a random element from a non-empty sequence.\n",
      "     |  \n",
      "     |  choices(self, population, weights=None, *, cum_weights=None, k=1)\n",
      "     |      Return a k sized list of population elements chosen with replacement.\n",
      "     |      \n",
      "     |      If the relative weights or cumulative weights are not specified,\n",
      "     |      the selections are made with equal probability.\n",
      "     |  \n",
      "     |  expovariate(self, lambd)\n",
      "     |      Exponential distribution.\n",
      "     |      \n",
      "     |      lambd is 1.0 divided by the desired mean.  It should be\n",
      "     |      nonzero.  (The parameter would be called \"lambda\", but that is\n",
      "     |      a reserved word in Python.)  Returned values range from 0 to\n",
      "     |      positive infinity if lambd is positive, and from negative\n",
      "     |      infinity to 0 if lambd is negative.\n",
      "     |  \n",
      "     |  gammavariate(self, alpha, beta)\n",
      "     |      Gamma distribution.  Not the gamma function!\n",
      "     |      \n",
      "     |      Conditions on the parameters are alpha > 0 and beta > 0.\n",
      "     |      \n",
      "     |      The probability distribution function is:\n",
      "     |      \n",
      "     |                  x ** (alpha - 1) * math.exp(-x / beta)\n",
      "     |        pdf(x) =  --------------------------------------\n",
      "     |                    math.gamma(alpha) * beta ** alpha\n",
      "     |  \n",
      "     |  gauss(self, mu=0.0, sigma=1.0)\n",
      "     |      Gaussian distribution.\n",
      "     |      \n",
      "     |      mu is the mean, and sigma is the standard deviation.  This is\n",
      "     |      slightly faster than the normalvariate() function.\n",
      "     |      \n",
      "     |      Not thread-safe without a lock around calls.\n",
      "     |  \n",
      "     |  getstate(self)\n",
      "     |      Return internal state; can be passed to setstate() later.\n",
      "     |  \n",
      "     |  lognormvariate(self, mu, sigma)\n",
      "     |      Log normal distribution.\n",
      "     |      \n",
      "     |      If you take the natural logarithm of this distribution, you'll get a\n",
      "     |      normal distribution with mean mu and standard deviation sigma.\n",
      "     |      mu can have any value, and sigma must be greater than zero.\n",
      "     |  \n",
      "     |  normalvariate(self, mu=0.0, sigma=1.0)\n",
      "     |      Normal distribution.\n",
      "     |      \n",
      "     |      mu is the mean, and sigma is the standard deviation.\n",
      "     |  \n",
      "     |  paretovariate(self, alpha)\n",
      "     |      Pareto distribution.  alpha is the shape parameter.\n",
      "     |  \n",
      "     |  randbytes(self, n)\n",
      "     |      Generate n random bytes.\n",
      "     |  \n",
      "     |  randint(self, a, b)\n",
      "     |      Return random integer in range [a, b], including both end points.\n",
      "     |  \n",
      "     |  randrange(self, start, stop=None, step=1)\n",
      "     |      Choose a random item from range(stop) or range(start, stop[, step]).\n",
      "     |      \n",
      "     |      Roughly equivalent to ``choice(range(start, stop, step))`` but\n",
      "     |      supports arbitrarily large ranges and is optimized for common cases.\n",
      "     |  \n",
      "     |  sample(self, population, k, *, counts=None)\n",
      "     |      Chooses k unique random elements from a population sequence.\n",
      "     |      \n",
      "     |      Returns a new list containing elements from the population while\n",
      "     |      leaving the original population unchanged.  The resulting list is\n",
      "     |      in selection order so that all sub-slices will also be valid random\n",
      "     |      samples.  This allows raffle winners (the sample) to be partitioned\n",
      "     |      into grand prize and second place winners (the subslices).\n",
      "     |      \n",
      "     |      Members of the population need not be hashable or unique.  If the\n",
      "     |      population contains repeats, then each occurrence is a possible\n",
      "     |      selection in the sample.\n",
      "     |      \n",
      "     |      Repeated elements can be specified one at a time or with the optional\n",
      "     |      counts parameter.  For example:\n",
      "     |      \n",
      "     |          sample(['red', 'blue'], counts=[4, 2], k=5)\n",
      "     |      \n",
      "     |      is equivalent to:\n",
      "     |      \n",
      "     |          sample(['red', 'red', 'red', 'red', 'blue', 'blue'], k=5)\n",
      "     |      \n",
      "     |      To choose a sample from a range of integers, use range() for the\n",
      "     |      population argument.  This is especially fast and space efficient\n",
      "     |      for sampling from a large population:\n",
      "     |      \n",
      "     |          sample(range(10000000), 60)\n",
      "     |  \n",
      "     |  seed(self, a=None, version=2)\n",
      "     |      Initialize internal state from a seed.\n",
      "     |      \n",
      "     |      The only supported seed types are None, int, float,\n",
      "     |      str, bytes, and bytearray.\n",
      "     |      \n",
      "     |      None or no argument seeds from current time or from an operating\n",
      "     |      system specific randomness source if available.\n",
      "     |      \n",
      "     |      If *a* is an int, all bits are used.\n",
      "     |      \n",
      "     |      For version 2 (the default), all of the bits are used if *a* is a str,\n",
      "     |      bytes, or bytearray.  For version 1 (provided for reproducing random\n",
      "     |      sequences from older versions of Python), the algorithm for str and\n",
      "     |      bytes generates a narrower range of seeds.\n",
      "     |  \n",
      "     |  setstate(self, state)\n",
      "     |      Restore internal state from object returned by getstate().\n",
      "     |  \n",
      "     |  shuffle(self, x)\n",
      "     |      Shuffle list x in place, and return None.\n",
      "     |  \n",
      "     |  triangular(self, low=0.0, high=1.0, mode=None)\n",
      "     |      Triangular distribution.\n",
      "     |      \n",
      "     |      Continuous distribution bounded by given lower and upper limits,\n",
      "     |      and having a given mode value in-between.\n",
      "     |      \n",
      "     |      http://en.wikipedia.org/wiki/Triangular_distribution\n",
      "     |  \n",
      "     |  uniform(self, a, b)\n",
      "     |      Get a random number in the range [a, b) or [a, b] depending on rounding.\n",
      "     |  \n",
      "     |  vonmisesvariate(self, mu, kappa)\n",
      "     |      Circular data distribution.\n",
      "     |      \n",
      "     |      mu is the mean angle, expressed in radians between 0 and 2*pi, and\n",
      "     |      kappa is the concentration parameter, which must be greater than or\n",
      "     |      equal to zero.  If kappa is equal to zero, this distribution reduces\n",
      "     |      to a uniform random angle over the range 0 to 2*pi.\n",
      "     |  \n",
      "     |  weibullvariate(self, alpha, beta)\n",
      "     |      Weibull distribution.\n",
      "     |      \n",
      "     |      alpha is the scale parameter and beta is the shape parameter.\n",
      "     |  \n",
      "     |  ----------------------------------------------------------------------\n",
      "     |  Class methods defined here:\n",
      "     |  \n",
      "     |  __init_subclass__(**kwargs) from builtins.type\n",
      "     |      Control how subclasses generate random integers.\n",
      "     |      \n",
      "     |      The algorithm a subclass can use depends on the random() and/or\n",
      "     |      getrandbits() implementation available to it and determines\n",
      "     |      whether it can generate random integers from arbitrarily large\n",
      "     |      ranges.\n",
      "     |  \n",
      "     |  ----------------------------------------------------------------------\n",
      "     |  Data descriptors defined here:\n",
      "     |  \n",
      "     |  __dict__\n",
      "     |      dictionary for instance variables (if defined)\n",
      "     |  \n",
      "     |  __weakref__\n",
      "     |      list of weak references to the object (if defined)\n",
      "     |  \n",
      "     |  ----------------------------------------------------------------------\n",
      "     |  Data and other attributes defined here:\n",
      "     |  \n",
      "     |  VERSION = 3\n",
      "     |  \n",
      "     |  ----------------------------------------------------------------------\n",
      "     |  Methods inherited from _random.Random:\n",
      "     |  \n",
      "     |  getrandbits(self, k, /)\n",
      "     |      getrandbits(k) -> x.  Generates an int with k random bits.\n",
      "     |  \n",
      "     |  random(self, /)\n",
      "     |      random() -> x in the interval [0, 1).\n",
      "     |  \n",
      "     |  ----------------------------------------------------------------------\n",
      "     |  Static methods inherited from _random.Random:\n",
      "     |  \n",
      "     |  __new__(*args, **kwargs) from builtins.type\n",
      "     |      Create and return a new object.  See help(type) for accurate signature.\n",
      "    \n",
      "    class SystemRandom(Random)\n",
      "     |  SystemRandom(x=None)\n",
      "     |  \n",
      "     |  Alternate random number generator using sources provided\n",
      "     |  by the operating system (such as /dev/urandom on Unix or\n",
      "     |  CryptGenRandom on Windows).\n",
      "     |  \n",
      "     |   Not available on all systems (see os.urandom() for details).\n",
      "     |  \n",
      "     |  Method resolution order:\n",
      "     |      SystemRandom\n",
      "     |      Random\n",
      "     |      _random.Random\n",
      "     |      builtins.object\n",
      "     |  \n",
      "     |  Methods defined here:\n",
      "     |  \n",
      "     |  getrandbits(self, k)\n",
      "     |      getrandbits(k) -> x.  Generates an int with k random bits.\n",
      "     |  \n",
      "     |  getstate = _notimplemented(self, *args, **kwds)\n",
      "     |  \n",
      "     |  randbytes(self, n)\n",
      "     |      Generate n random bytes.\n",
      "     |  \n",
      "     |  random(self)\n",
      "     |      Get the next random number in the range 0.0 <= X < 1.0.\n",
      "     |  \n",
      "     |  seed(self, *args, **kwds)\n",
      "     |      Stub method.  Not used for a system random number generator.\n",
      "     |  \n",
      "     |  setstate = _notimplemented(self, *args, **kwds)\n",
      "     |  \n",
      "     |  ----------------------------------------------------------------------\n",
      "     |  Methods inherited from Random:\n",
      "     |  \n",
      "     |  __getstate__(self)\n",
      "     |      Helper for pickle.\n",
      "     |  \n",
      "     |  __init__(self, x=None)\n",
      "     |      Initialize an instance.\n",
      "     |      \n",
      "     |      Optional argument x controls seeding, as for Random.seed().\n",
      "     |  \n",
      "     |  __reduce__(self)\n",
      "     |      Helper for pickle.\n",
      "     |  \n",
      "     |  __setstate__(self, state)\n",
      "     |  \n",
      "     |  betavariate(self, alpha, beta)\n",
      "     |      Beta distribution.\n",
      "     |      \n",
      "     |      Conditions on the parameters are alpha > 0 and beta > 0.\n",
      "     |      Returned values range between 0 and 1.\n",
      "     |  \n",
      "     |  choice(self, seq)\n",
      "     |      Choose a random element from a non-empty sequence.\n",
      "     |  \n",
      "     |  choices(self, population, weights=None, *, cum_weights=None, k=1)\n",
      "     |      Return a k sized list of population elements chosen with replacement.\n",
      "     |      \n",
      "     |      If the relative weights or cumulative weights are not specified,\n",
      "     |      the selections are made with equal probability.\n",
      "     |  \n",
      "     |  expovariate(self, lambd)\n",
      "     |      Exponential distribution.\n",
      "     |      \n",
      "     |      lambd is 1.0 divided by the desired mean.  It should be\n",
      "     |      nonzero.  (The parameter would be called \"lambda\", but that is\n",
      "     |      a reserved word in Python.)  Returned values range from 0 to\n",
      "     |      positive infinity if lambd is positive, and from negative\n",
      "     |      infinity to 0 if lambd is negative.\n",
      "     |  \n",
      "     |  gammavariate(self, alpha, beta)\n",
      "     |      Gamma distribution.  Not the gamma function!\n",
      "     |      \n",
      "     |      Conditions on the parameters are alpha > 0 and beta > 0.\n",
      "     |      \n",
      "     |      The probability distribution function is:\n",
      "     |      \n",
      "     |                  x ** (alpha - 1) * math.exp(-x / beta)\n",
      "     |        pdf(x) =  --------------------------------------\n",
      "     |                    math.gamma(alpha) * beta ** alpha\n",
      "     |  \n",
      "     |  gauss(self, mu=0.0, sigma=1.0)\n",
      "     |      Gaussian distribution.\n",
      "     |      \n",
      "     |      mu is the mean, and sigma is the standard deviation.  This is\n",
      "     |      slightly faster than the normalvariate() function.\n",
      "     |      \n",
      "     |      Not thread-safe without a lock around calls.\n",
      "     |  \n",
      "     |  lognormvariate(self, mu, sigma)\n",
      "     |      Log normal distribution.\n",
      "     |      \n",
      "     |      If you take the natural logarithm of this distribution, you'll get a\n",
      "     |      normal distribution with mean mu and standard deviation sigma.\n",
      "     |      mu can have any value, and sigma must be greater than zero.\n",
      "     |  \n",
      "     |  normalvariate(self, mu=0.0, sigma=1.0)\n",
      "     |      Normal distribution.\n",
      "     |      \n",
      "     |      mu is the mean, and sigma is the standard deviation.\n",
      "     |  \n",
      "     |  paretovariate(self, alpha)\n",
      "     |      Pareto distribution.  alpha is the shape parameter.\n",
      "     |  \n",
      "     |  randint(self, a, b)\n",
      "     |      Return random integer in range [a, b], including both end points.\n",
      "     |  \n",
      "     |  randrange(self, start, stop=None, step=1)\n",
      "     |      Choose a random item from range(stop) or range(start, stop[, step]).\n",
      "     |      \n",
      "     |      Roughly equivalent to ``choice(range(start, stop, step))`` but\n",
      "     |      supports arbitrarily large ranges and is optimized for common cases.\n",
      "     |  \n",
      "     |  sample(self, population, k, *, counts=None)\n",
      "     |      Chooses k unique random elements from a population sequence.\n",
      "     |      \n",
      "     |      Returns a new list containing elements from the population while\n",
      "     |      leaving the original population unchanged.  The resulting list is\n",
      "     |      in selection order so that all sub-slices will also be valid random\n",
      "     |      samples.  This allows raffle winners (the sample) to be partitioned\n",
      "     |      into grand prize and second place winners (the subslices).\n",
      "     |      \n",
      "     |      Members of the population need not be hashable or unique.  If the\n",
      "     |      population contains repeats, then each occurrence is a possible\n",
      "     |      selection in the sample.\n",
      "     |      \n",
      "     |      Repeated elements can be specified one at a time or with the optional\n",
      "     |      counts parameter.  For example:\n",
      "     |      \n",
      "     |          sample(['red', 'blue'], counts=[4, 2], k=5)\n",
      "     |      \n",
      "     |      is equivalent to:\n",
      "     |      \n",
      "     |          sample(['red', 'red', 'red', 'red', 'blue', 'blue'], k=5)\n",
      "     |      \n",
      "     |      To choose a sample from a range of integers, use range() for the\n",
      "     |      population argument.  This is especially fast and space efficient\n",
      "     |      for sampling from a large population:\n",
      "     |      \n",
      "     |          sample(range(10000000), 60)\n",
      "     |  \n",
      "     |  shuffle(self, x)\n",
      "     |      Shuffle list x in place, and return None.\n",
      "     |  \n",
      "     |  triangular(self, low=0.0, high=1.0, mode=None)\n",
      "     |      Triangular distribution.\n",
      "     |      \n",
      "     |      Continuous distribution bounded by given lower and upper limits,\n",
      "     |      and having a given mode value in-between.\n",
      "     |      \n",
      "     |      http://en.wikipedia.org/wiki/Triangular_distribution\n",
      "     |  \n",
      "     |  uniform(self, a, b)\n",
      "     |      Get a random number in the range [a, b) or [a, b] depending on rounding.\n",
      "     |  \n",
      "     |  vonmisesvariate(self, mu, kappa)\n",
      "     |      Circular data distribution.\n",
      "     |      \n",
      "     |      mu is the mean angle, expressed in radians between 0 and 2*pi, and\n",
      "     |      kappa is the concentration parameter, which must be greater than or\n",
      "     |      equal to zero.  If kappa is equal to zero, this distribution reduces\n",
      "     |      to a uniform random angle over the range 0 to 2*pi.\n",
      "     |  \n",
      "     |  weibullvariate(self, alpha, beta)\n",
      "     |      Weibull distribution.\n",
      "     |      \n",
      "     |      alpha is the scale parameter and beta is the shape parameter.\n",
      "     |  \n",
      "     |  ----------------------------------------------------------------------\n",
      "     |  Class methods inherited from Random:\n",
      "     |  \n",
      "     |  __init_subclass__(**kwargs) from builtins.type\n",
      "     |      Control how subclasses generate random integers.\n",
      "     |      \n",
      "     |      The algorithm a subclass can use depends on the random() and/or\n",
      "     |      getrandbits() implementation available to it and determines\n",
      "     |      whether it can generate random integers from arbitrarily large\n",
      "     |      ranges.\n",
      "     |  \n",
      "     |  ----------------------------------------------------------------------\n",
      "     |  Data descriptors inherited from Random:\n",
      "     |  \n",
      "     |  __dict__\n",
      "     |      dictionary for instance variables (if defined)\n",
      "     |  \n",
      "     |  __weakref__\n",
      "     |      list of weak references to the object (if defined)\n",
      "     |  \n",
      "     |  ----------------------------------------------------------------------\n",
      "     |  Data and other attributes inherited from Random:\n",
      "     |  \n",
      "     |  VERSION = 3\n",
      "     |  \n",
      "     |  ----------------------------------------------------------------------\n",
      "     |  Static methods inherited from _random.Random:\n",
      "     |  \n",
      "     |  __new__(*args, **kwargs) from builtins.type\n",
      "     |      Create and return a new object.  See help(type) for accurate signature.\n",
      "\n",
      "FUNCTIONS\n",
      "    betavariate(alpha, beta) method of Random instance\n",
      "        Beta distribution.\n",
      "        \n",
      "        Conditions on the parameters are alpha > 0 and beta > 0.\n",
      "        Returned values range between 0 and 1.\n",
      "    \n",
      "    choice(seq) method of Random instance\n",
      "        Choose a random element from a non-empty sequence.\n",
      "    \n",
      "    choices(population, weights=None, *, cum_weights=None, k=1) method of Random instance\n",
      "        Return a k sized list of population elements chosen with replacement.\n",
      "        \n",
      "        If the relative weights or cumulative weights are not specified,\n",
      "        the selections are made with equal probability.\n",
      "    \n",
      "    expovariate(lambd) method of Random instance\n",
      "        Exponential distribution.\n",
      "        \n",
      "        lambd is 1.0 divided by the desired mean.  It should be\n",
      "        nonzero.  (The parameter would be called \"lambda\", but that is\n",
      "        a reserved word in Python.)  Returned values range from 0 to\n",
      "        positive infinity if lambd is positive, and from negative\n",
      "        infinity to 0 if lambd is negative.\n",
      "    \n",
      "    gammavariate(alpha, beta) method of Random instance\n",
      "        Gamma distribution.  Not the gamma function!\n",
      "        \n",
      "        Conditions on the parameters are alpha > 0 and beta > 0.\n",
      "        \n",
      "        The probability distribution function is:\n",
      "        \n",
      "                    x ** (alpha - 1) * math.exp(-x / beta)\n",
      "          pdf(x) =  --------------------------------------\n",
      "                      math.gamma(alpha) * beta ** alpha\n",
      "    \n",
      "    gauss(mu=0.0, sigma=1.0) method of Random instance\n",
      "        Gaussian distribution.\n",
      "        \n",
      "        mu is the mean, and sigma is the standard deviation.  This is\n",
      "        slightly faster than the normalvariate() function.\n",
      "        \n",
      "        Not thread-safe without a lock around calls.\n",
      "    \n",
      "    getrandbits(k, /) method of Random instance\n",
      "        getrandbits(k) -> x.  Generates an int with k random bits.\n",
      "    \n",
      "    getstate() method of Random instance\n",
      "        Return internal state; can be passed to setstate() later.\n",
      "    \n",
      "    lognormvariate(mu, sigma) method of Random instance\n",
      "        Log normal distribution.\n",
      "        \n",
      "        If you take the natural logarithm of this distribution, you'll get a\n",
      "        normal distribution with mean mu and standard deviation sigma.\n",
      "        mu can have any value, and sigma must be greater than zero.\n",
      "    \n",
      "    normalvariate(mu=0.0, sigma=1.0) method of Random instance\n",
      "        Normal distribution.\n",
      "        \n",
      "        mu is the mean, and sigma is the standard deviation.\n",
      "    \n",
      "    paretovariate(alpha) method of Random instance\n",
      "        Pareto distribution.  alpha is the shape parameter.\n",
      "    \n",
      "    randbytes(n) method of Random instance\n",
      "        Generate n random bytes.\n",
      "    \n",
      "    randint(a, b) method of Random instance\n",
      "        Return random integer in range [a, b], including both end points.\n",
      "    \n",
      "    random() method of Random instance\n",
      "        random() -> x in the interval [0, 1).\n",
      "    \n",
      "    randrange(start, stop=None, step=1) method of Random instance\n",
      "        Choose a random item from range(stop) or range(start, stop[, step]).\n",
      "        \n",
      "        Roughly equivalent to ``choice(range(start, stop, step))`` but\n",
      "        supports arbitrarily large ranges and is optimized for common cases.\n",
      "    \n",
      "    sample(population, k, *, counts=None) method of Random instance\n",
      "        Chooses k unique random elements from a population sequence.\n",
      "        \n",
      "        Returns a new list containing elements from the population while\n",
      "        leaving the original population unchanged.  The resulting list is\n",
      "        in selection order so that all sub-slices will also be valid random\n",
      "        samples.  This allows raffle winners (the sample) to be partitioned\n",
      "        into grand prize and second place winners (the subslices).\n",
      "        \n",
      "        Members of the population need not be hashable or unique.  If the\n",
      "        population contains repeats, then each occurrence is a possible\n",
      "        selection in the sample.\n",
      "        \n",
      "        Repeated elements can be specified one at a time or with the optional\n",
      "        counts parameter.  For example:\n",
      "        \n",
      "            sample(['red', 'blue'], counts=[4, 2], k=5)\n",
      "        \n",
      "        is equivalent to:\n",
      "        \n",
      "            sample(['red', 'red', 'red', 'red', 'blue', 'blue'], k=5)\n",
      "        \n",
      "        To choose a sample from a range of integers, use range() for the\n",
      "        population argument.  This is especially fast and space efficient\n",
      "        for sampling from a large population:\n",
      "        \n",
      "            sample(range(10000000), 60)\n",
      "    \n",
      "    seed(a=None, version=2) method of Random instance\n",
      "        Initialize internal state from a seed.\n",
      "        \n",
      "        The only supported seed types are None, int, float,\n",
      "        str, bytes, and bytearray.\n",
      "        \n",
      "        None or no argument seeds from current time or from an operating\n",
      "        system specific randomness source if available.\n",
      "        \n",
      "        If *a* is an int, all bits are used.\n",
      "        \n",
      "        For version 2 (the default), all of the bits are used if *a* is a str,\n",
      "        bytes, or bytearray.  For version 1 (provided for reproducing random\n",
      "        sequences from older versions of Python), the algorithm for str and\n",
      "        bytes generates a narrower range of seeds.\n",
      "    \n",
      "    setstate(state) method of Random instance\n",
      "        Restore internal state from object returned by getstate().\n",
      "    \n",
      "    shuffle(x) method of Random instance\n",
      "        Shuffle list x in place, and return None.\n",
      "    \n",
      "    triangular(low=0.0, high=1.0, mode=None) method of Random instance\n",
      "        Triangular distribution.\n",
      "        \n",
      "        Continuous distribution bounded by given lower and upper limits,\n",
      "        and having a given mode value in-between.\n",
      "        \n",
      "        http://en.wikipedia.org/wiki/Triangular_distribution\n",
      "    \n",
      "    uniform(a, b) method of Random instance\n",
      "        Get a random number in the range [a, b) or [a, b] depending on rounding.\n",
      "    \n",
      "    vonmisesvariate(mu, kappa) method of Random instance\n",
      "        Circular data distribution.\n",
      "        \n",
      "        mu is the mean angle, expressed in radians between 0 and 2*pi, and\n",
      "        kappa is the concentration parameter, which must be greater than or\n",
      "        equal to zero.  If kappa is equal to zero, this distribution reduces\n",
      "        to a uniform random angle over the range 0 to 2*pi.\n",
      "    \n",
      "    weibullvariate(alpha, beta) method of Random instance\n",
      "        Weibull distribution.\n",
      "        \n",
      "        alpha is the scale parameter and beta is the shape parameter.\n",
      "\n",
      "DATA\n",
      "    __all__ = ['Random', 'SystemRandom', 'betavariate', 'choice', 'choices...\n",
      "\n",
      "FILE\n",
      "    /usr/local/Cellar/python@3.11/3.11.3/Frameworks/Python.framework/Versions/3.11/lib/python3.11/random.py\n",
      "\n",
      "\n"
     ]
    }
   ],
   "source": [
    "# use \"help(random)\"\n",
    "\n",
    "help(random)"
   ]
  },
  {
   "cell_type": "markdown",
   "id": "7f6b8de5",
   "metadata": {},
   "source": [
    "# Different versions of `import`\n",
    "\n",
    "1. `import MODNAME` -- this imports `MODNAME` into Python, and defines that variable.\n",
    "2. `from MODNAME import NAME` -- this imports `MODNAME` into memory, but doesn't define it as a variable! The only variable to be defined is `NAME`. This way, we can access a function directly, without going through the module's namespace.\n",
    "3. `import MODNAME as ALIAS` -- this imports `MODNAME` into Python, and defines a variable named `ALIAS` which refers to it.  Everyone loads `numpy as np` and `pandas as pd`.\n",
    "4. `from MODNAME import NAME as ALIAS` -- this imports `MODNAME` into Python, but only defines a variable named `ALIAS`, which refers back to `NAME` in `MODNAME`."
   ]
  },
  {
   "cell_type": "code",
   "execution_count": 15,
   "id": "d15a2d7f",
   "metadata": {},
   "outputs": [
    {
     "data": {
      "text/plain": [
       "['/Users/reuven/Courses/Current/oreilly-2023-05May-python',\n",
       " '/usr/local/Cellar/python@3.11/3.11.3/Frameworks/Python.framework/Versions/3.11/lib/python311.zip',\n",
       " '/usr/local/Cellar/python@3.11/3.11.3/Frameworks/Python.framework/Versions/3.11/lib/python3.11',\n",
       " '/usr/local/Cellar/python@3.11/3.11.3/Frameworks/Python.framework/Versions/3.11/lib/python3.11/lib-dynload',\n",
       " '',\n",
       " '/usr/local/lib/python3.11/site-packages',\n",
       " '/usr/local/Cellar/pybind11/2.10.4/libexec/lib/python3.11/site-packages',\n",
       " '/usr/local/opt/python-tk@3.11/libexec']"
      ]
     },
     "execution_count": 15,
     "metadata": {},
     "output_type": "execute_result"
    }
   ],
   "source": [
    "# In many programming languages, we tell the language what file we want to import\n",
    "# Not so in Python! We give it a variable name, and it figures out the filename to access\n",
    "\n",
    "# If we say \"import random\", it looks for random.py.\n",
    "\n",
    "# where does it look? Typically, it looks in the variable sys.path, a list of strings\n",
    "# where Python searches for modules.\n",
    "\n",
    "import sys\n",
    "sys.path"
   ]
  },
  {
   "cell_type": "code",
   "execution_count": 16,
   "id": "b193c960",
   "metadata": {},
   "outputs": [
    {
     "data": {
      "text/plain": [
       "32"
      ]
     },
     "execution_count": 16,
     "metadata": {},
     "output_type": "execute_result"
    }
   ],
   "source": [
    "# if I've used \"import random\", then I still need to say \"random.randint\" to call the randint function\n",
    "\n",
    "random.randint(0, 100)"
   ]
  },
  {
   "cell_type": "code",
   "execution_count": 17,
   "id": "e716b100",
   "metadata": {},
   "outputs": [
    {
     "ename": "NameError",
     "evalue": "name 'randint' is not defined",
     "output_type": "error",
     "traceback": [
      "\u001b[0;31m---------------------------------------------------------------------------\u001b[0m",
      "\u001b[0;31mNameError\u001b[0m                                 Traceback (most recent call last)",
      "Cell \u001b[0;32mIn [17], line 2\u001b[0m\n\u001b[1;32m      1\u001b[0m \u001b[38;5;66;03m# what if I just want to say \"randint\"?\u001b[39;00m\n\u001b[0;32m----> 2\u001b[0m \u001b[43mrandint\u001b[49m(\u001b[38;5;241m0\u001b[39m, \u001b[38;5;241m100\u001b[39m)\n",
      "\u001b[0;31mNameError\u001b[0m: name 'randint' is not defined"
     ]
    }
   ],
   "source": [
    "# what if I just want to say \"randint\"?\n",
    "randint(0, 100)"
   ]
  },
  {
   "cell_type": "code",
   "execution_count": 18,
   "id": "90c3d64d",
   "metadata": {},
   "outputs": [],
   "source": [
    "# I can say this:\n",
    "\n",
    "from random import randint   # now I can call \"randint\" by itself, not via \"random.randint\"\n",
    "\n"
   ]
  },
  {
   "cell_type": "code",
   "execution_count": 19,
   "id": "91e8c5b2",
   "metadata": {},
   "outputs": [
    {
     "data": {
      "text/plain": [
       "51"
      ]
     },
     "execution_count": 19,
     "metadata": {},
     "output_type": "execute_result"
    }
   ],
   "source": [
    "randint(0, 100)"
   ]
  },
  {
   "cell_type": "markdown",
   "id": "ac76c849",
   "metadata": {},
   "source": [
    "# Good and bad with `from .. import`\n",
    "\n",
    "Good:\n",
    "\n",
    "1. If you have a long module name, then it's annoying to write it out all of the time. This makes it easier to write (and read) code.\n",
    "2. Sometimes, you're only interested in one name in a module. This lets you just get that name, rather than the whole thing.\n",
    "\n",
    "Bad:\n",
    "\n",
    "1. By removing the module name, you can introduce ambiguity into your code. Where did that name come from? If you use `from .. import`, you won't necessarily know.\n",
    "2. Using `from .. import` still loads the module into memory. You are not saving any memory whatsoever when you use it instead of `import`."
   ]
  },
  {
   "cell_type": "markdown",
   "id": "3782f3db",
   "metadata": {},
   "source": [
    "# Another (bad!) way to use `import`\n",
    "\n",
    "I can say\n",
    "\n",
    "    from MODNAME import *\n",
    "    \n",
    "This defines all of the names defined in the module as variables in our current namespace. This is very bad, and very dangerous.    "
   ]
  },
  {
   "cell_type": "markdown",
   "id": "6eaf4f33",
   "metadata": {},
   "source": [
    "# Exercise: Validate strings\n",
    "\n",
    "1. We're going to check that a string only contains valid characters. By \"valid,\" I mean lowercase English letters.\n",
    "2. Use the `string` module, and the `string.ascii_lowercase` string in your validation.\n",
    "3. Ask the user to enter a string.\n",
    "4. If the string only contains characters in our validation string (`string.ascii_lowercase`), then say \"OK\" to the user. Otherwise, print \"NOT OK.\"\n",
    "5. What happens if you use another string in the `string` module for your validation?"
   ]
  },
  {
   "cell_type": "code",
   "execution_count": 20,
   "id": "4ac1bf03",
   "metadata": {},
   "outputs": [
    {
     "data": {
      "text/plain": [
       "['Formatter',\n",
       " 'Template',\n",
       " '_ChainMap',\n",
       " '__all__',\n",
       " '__builtins__',\n",
       " '__cached__',\n",
       " '__doc__',\n",
       " '__file__',\n",
       " '__loader__',\n",
       " '__name__',\n",
       " '__package__',\n",
       " '__spec__',\n",
       " '_re',\n",
       " '_sentinel_dict',\n",
       " '_string',\n",
       " 'ascii_letters',\n",
       " 'ascii_lowercase',\n",
       " 'ascii_uppercase',\n",
       " 'capwords',\n",
       " 'digits',\n",
       " 'hexdigits',\n",
       " 'octdigits',\n",
       " 'printable',\n",
       " 'punctuation',\n",
       " 'whitespace']"
      ]
     },
     "execution_count": 20,
     "metadata": {},
     "output_type": "execute_result"
    }
   ],
   "source": [
    "import string    # this seems a bit confusing... don't we already have strings?  Yes, but they are \"str\", and this is \"string\"\n",
    "\n",
    "dir(string)"
   ]
  },
  {
   "cell_type": "code",
   "execution_count": 23,
   "id": "9d9b3f0c",
   "metadata": {},
   "outputs": [
    {
     "name": "stdout",
     "output_type": "stream",
     "text": [
      "Enter a string: goodbye forever\n",
      "No, goodbye forever is invalid\n"
     ]
    }
   ],
   "source": [
    "import string\n",
    "is_valid = True\n",
    "\n",
    "s = input('Enter a string: ').strip()\n",
    "\n",
    "for one_character in s:    # go through each character\n",
    "    if one_character not in string.ascii_lowercase: \n",
    "        is_valid = False\n",
    "        break\n",
    "        \n",
    "if is_valid:\n",
    "    print(f'Yes, {s} is valid!')\n",
    "else:\n",
    "    print(f'No, {s} is invalid')"
   ]
  },
  {
   "cell_type": "code",
   "execution_count": 24,
   "id": "fb8a459c",
   "metadata": {},
   "outputs": [],
   "source": [
    "# now, with that code, I can swap out string.ascii_lowercase, and swap in any other variable"
   ]
  },
  {
   "cell_type": "markdown",
   "id": "cb467a80",
   "metadata": {},
   "source": [
    "# Next up\n",
    "\n",
    "1. What's in a module?\n",
    "2. How can we write a module?\n",
    "3. How does a module really get loaded?"
   ]
  },
  {
   "cell_type": "markdown",
   "id": "72f109d6",
   "metadata": {},
   "source": [
    "# What's in a module?\n",
    "\n",
    "Python code.\n",
    "\n",
    "Modules are simply files containing Python code in them. Usually that code will be variable definitions, function definitions, and class definitions. \n",
    "\n",
    "I've created a file, `mymod.py`, in the same directory as Jupyter. When I say `import mymod`, Python will look in the current directory for `mymod.py`. It'll find that module, and load it.\n",
    "\n",
    "However, the module file is empty. What will happen?"
   ]
  },
  {
   "cell_type": "code",
   "execution_count": 25,
   "id": "587ec431",
   "metadata": {},
   "outputs": [],
   "source": [
    "import mymod"
   ]
  },
  {
   "cell_type": "code",
   "execution_count": 26,
   "id": "20d5611e",
   "metadata": {},
   "outputs": [
    {
     "data": {
      "text/plain": [
       "['__builtins__',\n",
       " '__cached__',\n",
       " '__doc__',\n",
       " '__file__',\n",
       " '__loader__',\n",
       " '__name__',\n",
       " '__package__',\n",
       " '__spec__']"
      ]
     },
     "execution_count": 26,
     "metadata": {},
     "output_type": "execute_result"
    }
   ],
   "source": [
    "# what does mymod contain? What names are defined in it?\n",
    "\n",
    "# \"dunders\" == \"double underscore\" are special names that Python defines and uses for its own\n",
    "# internal housekeeping, or special names that we can define, and that Python will use in special ways.\n",
    "\n",
    "dir(mymod)"
   ]
  },
  {
   "cell_type": "code",
   "execution_count": 27,
   "id": "884d020c",
   "metadata": {},
   "outputs": [
    {
     "data": {
      "text/plain": [
       "'/Users/reuven/Courses/Current/oreilly-2023-05May-python/mymod.py'"
      ]
     },
     "execution_count": 27,
     "metadata": {},
     "output_type": "execute_result"
    }
   ],
   "source": [
    "mymod.__file__"
   ]
  },
  {
   "cell_type": "code",
   "execution_count": 28,
   "id": "81c302d3",
   "metadata": {},
   "outputs": [
    {
     "data": {
      "text/plain": [
       "'mymod'"
      ]
     },
     "execution_count": 28,
     "metadata": {},
     "output_type": "execute_result"
    }
   ],
   "source": [
    "mymod.__name__  "
   ]
  },
  {
   "cell_type": "code",
   "execution_count": 31,
   "id": "7306e05c",
   "metadata": {},
   "outputs": [],
   "source": [
    "import mymod  # let's load it again!  ... except that this isn't enough"
   ]
  },
  {
   "cell_type": "code",
   "execution_count": 30,
   "id": "61233d7d",
   "metadata": {},
   "outputs": [
    {
     "data": {
      "text/plain": [
       "['__builtins__',\n",
       " '__cached__',\n",
       " '__doc__',\n",
       " '__file__',\n",
       " '__loader__',\n",
       " '__name__',\n",
       " '__package__',\n",
       " '__spec__']"
      ]
     },
     "execution_count": 30,
     "metadata": {},
     "output_type": "execute_result"
    }
   ],
   "source": [
    "dir(mymod)"
   ]
  },
  {
   "cell_type": "markdown",
   "id": "45ed2dc0",
   "metadata": {},
   "source": [
    "# You can only `import` once\n",
    "\n",
    "The first time that we use `import` on a module, Python imports it.\n",
    "\n",
    "Subsequent times, Python doesn't import the module, but relies on a cache in memory to load it.\n",
    "\n",
    "This is normally not an issue, but it *is* an issue in Jupyter, where Python keeps running the same session.\n",
    "\n",
    "To get this to work, we'll use the `importlib` module which supplies a bunch of `import`-related utilities, including the `reload` function."
   ]
  },
  {
   "cell_type": "code",
   "execution_count": 32,
   "id": "30340745",
   "metadata": {},
   "outputs": [
    {
     "data": {
      "text/plain": [
       "<module 'mymod' from '/Users/reuven/Courses/Current/oreilly-2023-05May-python/mymod.py'>"
      ]
     },
     "execution_count": 32,
     "metadata": {},
     "output_type": "execute_result"
    }
   ],
   "source": [
    "from importlib import reload   # this function will let us reload modules\n",
    "reload(mymod)"
   ]
  },
  {
   "cell_type": "code",
   "execution_count": 33,
   "id": "f2a75147",
   "metadata": {},
   "outputs": [
    {
     "data": {
      "text/plain": [
       "['__builtins__',\n",
       " '__cached__',\n",
       " '__doc__',\n",
       " '__file__',\n",
       " '__loader__',\n",
       " '__name__',\n",
       " '__package__',\n",
       " '__spec__',\n",
       " 'hello',\n",
       " 'x',\n",
       " 'y']"
      ]
     },
     "execution_count": 33,
     "metadata": {},
     "output_type": "execute_result"
    }
   ],
   "source": [
    "# what names do we see now?\n",
    "dir(mymod)"
   ]
  },
  {
   "cell_type": "code",
   "execution_count": 34,
   "id": "01e7ada8",
   "metadata": {},
   "outputs": [
    {
     "data": {
      "text/plain": [
       "100"
      ]
     },
     "execution_count": 34,
     "metadata": {},
     "output_type": "execute_result"
    }
   ],
   "source": [
    "# I can access them!\n",
    "\n",
    "mymod.x   # we must name the module, ., then variable"
   ]
  },
  {
   "cell_type": "code",
   "execution_count": 35,
   "id": "82995e59",
   "metadata": {},
   "outputs": [
    {
     "data": {
      "text/plain": [
       "[10, 20, 30]"
      ]
     },
     "execution_count": 35,
     "metadata": {},
     "output_type": "execute_result"
    }
   ],
   "source": [
    "mymod.y"
   ]
  },
  {
   "cell_type": "code",
   "execution_count": 36,
   "id": "6ed8ca31",
   "metadata": {},
   "outputs": [
    {
     "data": {
      "text/plain": [
       "'Hello, world, from mymod!'"
      ]
     },
     "execution_count": 36,
     "metadata": {},
     "output_type": "execute_result"
    }
   ],
   "source": [
    "mymod.hello('world')"
   ]
  },
  {
   "cell_type": "markdown",
   "id": "a80a04dd",
   "metadata": {},
   "source": [
    "# Exercise: `count_vowels`\n",
    "\n",
    "1. Create a module, `count_vowels.py`, in which you have a function, `count_vowels` that takes a string.\n",
    "2. The function returns an integer, the number of vowels (a, e, i, o, u) in the string.\n",
    "3. `import` the module and call the function to check it."
   ]
  },
  {
   "cell_type": "code",
   "execution_count": 37,
   "id": "a5442288",
   "metadata": {},
   "outputs": [],
   "source": [
    "import count_vowels   # this defines count_vowels as a module, via which I can get to its function"
   ]
  },
  {
   "cell_type": "code",
   "execution_count": 38,
   "id": "5c545e60",
   "metadata": {},
   "outputs": [
    {
     "data": {
      "text/plain": [
       "6"
      ]
     },
     "execution_count": 38,
     "metadata": {},
     "output_type": "execute_result"
    }
   ],
   "source": [
    "count_vowels.count_vowels('hello out there')"
   ]
  },
  {
   "cell_type": "markdown",
   "id": "40f4f795",
   "metadata": {},
   "source": [
    "# Summarizing what I did\n",
    "\n",
    "1. I created a file (using Open -> Text file from the main Jupyter page), called `count_vowels.py`.\n",
    "2. In that file, I defined a function, called `count_vowels`.\n",
    "3. In my notebook, I said `import count_vowels`, which looked for `count_vowels.py`, found it in the current directory, and loaded the module into memory.\n",
    "4. At that point, all of the functions and variables defined in `count_vowels.py` are available as `count_vowels.NAME`. That includes the function `count_vowels`, which ends up being a weird-looking `count_vowels.count_vowels` function."
   ]
  },
  {
   "cell_type": "markdown",
   "id": "b26cc908",
   "metadata": {},
   "source": [
    "# Where can module files be located?\n",
    "\n",
    "We've seen that if a module file is (a) in the same directory as a program or (b) somewhere in `sys.path`, then we're fine with `import`.\n",
    "\n",
    "But where can/should I put module files? Can I load them explicitly with a pathname? And how can I change `sys.path`?\n",
    "\n",
    "You cannot load them with an explicit pathname. Which means that you need to change `sys.path` somehow:\n",
    "\n",
    "- You can use `list.append`, but I would not recommend that.\n",
    "- You can set the `PYTHONPATH` environment variable to tell Python where to look for modules. Whatever is there in that variable is added to `sys.path`."
   ]
  },
  {
   "cell_type": "markdown",
   "id": "874e28bd",
   "metadata": {},
   "source": [
    "# What's going on when I `import` a module?\n",
    "\n",
    "Once Python has found a module file (i.e., a file ending with `.py`), how does that get turned into definitions on our module object?\n",
    "\n",
    "If our module contains assignment (with `=`) and variable definition (with `def`), that means the assignment lines need to execute, and the `def` line needs to execute.\n",
    "\n",
    "That means ... when we `import` a module, the module's file is executed?\n",
    "\n",
    "The answer is **YES**! When you `import`, you're running a module, from start to finish."
   ]
  },
  {
   "cell_type": "code",
   "execution_count": 39,
   "id": "f4ad520f",
   "metadata": {},
   "outputs": [
    {
     "name": "stdout",
     "output_type": "stream",
     "text": [
      "Hello from mymod!\n",
      "Goodbye from mymod!\n"
     ]
    },
    {
     "data": {
      "text/plain": [
       "<module 'mymod' from '/Users/reuven/Courses/Current/oreilly-2023-05May-python/mymod.py'>"
      ]
     },
     "execution_count": 39,
     "metadata": {},
     "output_type": "execute_result"
    }
   ],
   "source": [
    "reload(mymod)"
   ]
  },
  {
   "cell_type": "code",
   "execution_count": 40,
   "id": "89955ffc",
   "metadata": {},
   "outputs": [
    {
     "data": {
      "text/plain": [
       "['__builtins__',\n",
       " '__cached__',\n",
       " '__doc__',\n",
       " '__file__',\n",
       " '__loader__',\n",
       " '__name__',\n",
       " '__package__',\n",
       " '__spec__',\n",
       " 'hello',\n",
       " 'x',\n",
       " 'y']"
      ]
     },
     "execution_count": 40,
     "metadata": {},
     "output_type": "execute_result"
    }
   ],
   "source": [
    "dir(mymod)"
   ]
  },
  {
   "cell_type": "markdown",
   "id": "985fe8d9",
   "metadata": {},
   "source": [
    "# Global variables -> attributes\n",
    "\n",
    "Any global variable defined in our module is turned into an attribute on the module object.\n",
    "\n",
    "- Global variable `x` becomes `mymod.x`\n",
    "- Global variable `y` becomes `mymod.y`\n",
    "- Function `hello` becomes `mymod.hello`.\n",
    "\n",
    "This is a good thing, putting into action the namespaces that we discussed earlier.\n",
    "\n",
    "Maybe... it works the other way, too?  Maybe the \"dunder\" names that are defined here, that we see with `dir`, are also global variables in the module object?\n",
    "\n",
    "Can we get `__name__`, the name of the module, inside of our module object?\n",
    "\n",
    "YES WE CAN!"
   ]
  },
  {
   "cell_type": "code",
   "execution_count": 41,
   "id": "800b36e9",
   "metadata": {},
   "outputs": [
    {
     "name": "stdout",
     "output_type": "stream",
     "text": [
      "Hello from mymod!\n",
      "Goodbye from mymod!\n"
     ]
    },
    {
     "data": {
      "text/plain": [
       "<module 'mymod' from '/Users/reuven/Courses/Current/oreilly-2023-05May-python/mymod.py'>"
      ]
     },
     "execution_count": 41,
     "metadata": {},
     "output_type": "execute_result"
    }
   ],
   "source": [
    "reload(mymod)"
   ]
  },
  {
   "cell_type": "markdown",
   "id": "b17ff9aa",
   "metadata": {},
   "source": [
    "# `__name__` in modules\n",
    "\n",
    "`__name__` can have one of two values:\n",
    "\n",
    "- Normally, it is set to a string, the name of the module. In `mymod.py`, the value will be the string `mymod`.\n",
    "- If our module is executed as a program (not imported as a module), then `__name__` contains a special string value, `'__main__'`.\n",
    "\n",
    "The first file to execute in any Python program is always going to have `__name__` equal to `'__main__'`.\n",
    "\n",
    "Because modules are executed when they're imported, and because we can find out whether a module was imported or executed by examining `__name__`, we very very very often see the following at the bottom of a Python module:\n",
    "\n",
    "```python\n",
    "if __name__ == '__main__':\n",
    "    # do things here for a standalone program\n",
    "```\n",
    "\n",
    "In other words, we can have our module do something special if, and only if, the module is run as a program."
   ]
  },
  {
   "cell_type": "code",
   "execution_count": 42,
   "id": "fa13af7e",
   "metadata": {},
   "outputs": [
    {
     "name": "stdout",
     "output_type": "stream",
     "text": [
      "Hello from mymod!\n"
     ]
    },
    {
     "data": {
      "text/plain": [
       "<module 'mymod' from '/Users/reuven/Courses/Current/oreilly-2023-05May-python/mymod.py'>"
      ]
     },
     "execution_count": 42,
     "metadata": {},
     "output_type": "execute_result"
    }
   ],
   "source": [
    "reload(mymod)"
   ]
  },
  {
   "cell_type": "markdown",
   "id": "d503da77",
   "metadata": {},
   "source": [
    "# Exercise: Menu\n",
    "\n",
    "1. Create a module, `menu.py`, which will contain functionality that shows the user a list of options and lets them choose one option.\n",
    "2. In that module, define a function, `get_user_choice`. This function should take a list of strings. \n",
    "    - It shows the strings to the user\n",
    "    - It asks the user, repeatedly, to enter one of them.\n",
    "    - If the user enters a legit string, then it returns that string.\n",
    "    - If the user enters a string that's not an OK choice, it forces the user to try again.\n",
    "    \n",
    "I should be able to say:\n",
    "\n",
    "```python\n",
    "import menu\n",
    "s = menu.get_user_choice(['a', 'b', 'c'])\n",
    "```"
   ]
  },
  {
   "cell_type": "code",
   "execution_count": 43,
   "id": "0406af10",
   "metadata": {},
   "outputs": [
    {
     "name": "stdout",
     "output_type": "stream",
     "text": [
      "Enter one of ['a', 'b', 'c']: b\n"
     ]
    }
   ],
   "source": [
    "import menu\n",
    "s = menu.get_user_choice(['a', 'b', 'c'])\n"
   ]
  },
  {
   "cell_type": "code",
   "execution_count": 44,
   "id": "2a71a16d",
   "metadata": {},
   "outputs": [
    {
     "data": {
      "text/plain": [
       "'b'"
      ]
     },
     "execution_count": 44,
     "metadata": {},
     "output_type": "execute_result"
    }
   ],
   "source": [
    "s"
   ]
  },
  {
   "cell_type": "code",
   "execution_count": 45,
   "id": "df30020b",
   "metadata": {},
   "outputs": [
    {
     "name": "stdout",
     "output_type": "stream",
     "text": [
      "Enter one of ['a', 'b', 'c']: x\n",
      "Bad choice; try again\n",
      "Enter one of ['a', 'b', 'c']: y\n",
      "Bad choice; try again\n",
      "Enter one of ['a', 'b', 'c']: z\n",
      "Bad choice; try again\n",
      "Enter one of ['a', 'b', 'c']: A\n",
      "Bad choice; try again\n",
      "Enter one of ['a', 'b', 'c']: a\n"
     ]
    }
   ],
   "source": [
    "s = menu.get_user_choice(['a', 'b', 'c'])\n"
   ]
  },
  {
   "cell_type": "markdown",
   "id": "bcc727ef",
   "metadata": {},
   "source": [
    "# Next up\n",
    "\n",
    "1. Python standard library\n",
    "2. Modules and packages\n",
    "3. PyPI, etc."
   ]
  },
  {
   "cell_type": "markdown",
   "id": "fc64031b",
   "metadata": {},
   "source": [
    "# "
   ]
  }
 ],
 "metadata": {
  "kernelspec": {
   "display_name": "Python 3 (ipykernel)",
   "language": "python",
   "name": "python3"
  },
  "language_info": {
   "codemirror_mode": {
    "name": "ipython",
    "version": 3
   },
   "file_extension": ".py",
   "mimetype": "text/x-python",
   "name": "python",
   "nbconvert_exporter": "python",
   "pygments_lexer": "ipython3",
   "version": "3.11.3"
  }
 },
 "nbformat": 4,
 "nbformat_minor": 5
}
