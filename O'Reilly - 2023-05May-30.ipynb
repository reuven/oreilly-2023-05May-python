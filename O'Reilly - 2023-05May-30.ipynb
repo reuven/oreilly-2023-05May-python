{
 "cells": [
  {
   "cell_type": "markdown",
   "id": "ffe66254",
   "metadata": {},
   "source": [
    "# Agenda: Week 5 (Modules and packages)\n",
    "\n",
    "1. Recap and Q&A\n",
    "2. Intro to modules\n",
    "3. What do modules contain?\n",
    "4. The different forms of `import`\n",
    "5. Developing a module\n",
    "6. Python's standard library\n",
    "7. Modules vs. packages\n",
    "8. PyPI and third-party modules\n",
    "9. Installing things with `pip`\n",
    "10. What's next?"
   ]
  },
  {
   "cell_type": "markdown",
   "id": "d4ecbd7d",
   "metadata": {},
   "source": [
    "# Local and global variables\n",
    "\n",
    "Remember that outside of a function definition, all variables are *global*. \n",
    "\n",
    "Inside of a function:\n",
    "\n",
    "- If we *set* a variable, then that variable is considered *local*.\n",
    "- If we ask for a variable value, then Python:\n",
    "    - First looks inside of the function for a local variable of that name\n",
    "    - If it doesn't find a local variable of that name, then it looks for a global of that name\n",
    "    \n",
    "LEGB -- local, enclosing, global, and builtin -- is the way that Python searches for variables.\n",
    "\n",
    "If I'm inside of a function, we might very well encounter a situation where there is a local variable with the same name as a global variable. However, based on what we've seen so far, there is no way for us to assign to the global variable of that same name. Once there's a local variable \"shadowing\" the global, we're out of luck.\n",
    "\n",
    "There are two ways to get around this:\n",
    "\n",
    "1. Use the `global` declaration in the function. This gets rid of the local variable; all references to that name are now global.\n",
    "2. Import the `__main__` module from the Python standard library. That gives you access to all of the global variables via that namespace/module."
   ]
  },
  {
   "cell_type": "code",
   "execution_count": 1,
   "id": "edb9f118",
   "metadata": {},
   "outputs": [
    {
     "name": "stdout",
     "output_type": "stream",
     "text": [
      "Before, x = 100\n",
      "In myfunc, the value of x is 200\n",
      "After, x = 100\n"
     ]
    }
   ],
   "source": [
    "# example 1, using nothing -- default, problematic situation\n",
    "\n",
    "x = 100\n",
    "\n",
    "def myfunc():\n",
    "    x = 200\n",
    "    print(f'In myfunc, the value of x is {x}')\n",
    "    \n",
    "print(f'Before, x = {x}')    \n",
    "myfunc()\n",
    "print(f'After, x = {x}')"
   ]
  },
  {
   "cell_type": "code",
   "execution_count": 2,
   "id": "77396dc6",
   "metadata": {},
   "outputs": [
    {
     "name": "stdout",
     "output_type": "stream",
     "text": [
      "Before, x = 100\n",
      "In myfunc, the value of x is 200\n",
      "After, x = 200\n"
     ]
    }
   ],
   "source": [
    "# example 2, using global -- this means that assigning to x on line 6 does *NOT* create\n",
    "# a local variable. All assignments to x then go to the global\n",
    "\n",
    "# please *NEVER* use \"global\" in your programs unless you are absolutely, positively desperate\n",
    "\n",
    "x = 100\n",
    "\n",
    "def myfunc():\n",
    "    global x    # this tells Python not to create a local variable for the function\n",
    "    x = 200\n",
    "    print(f'In myfunc, the value of x is {x}')\n",
    "    \n",
    "print(f'Before, x = {x}')    \n",
    "myfunc()\n",
    "print(f'After, x = {x}')"
   ]
  },
  {
   "cell_type": "code",
   "execution_count": 4,
   "id": "274dfd6c",
   "metadata": {},
   "outputs": [
    {
     "name": "stdout",
     "output_type": "stream",
     "text": [
      "Before, x = 100\n",
      "In myfunc, the value of x is 300\n",
      "After, x = 200\n"
     ]
    }
   ],
   "source": [
    "# example 3, using __main__\n",
    "# if you need to assign to a global variable, this is my preferred way of doing it\n",
    "\n",
    "import __main__\n",
    "x = 100\n",
    "\n",
    "def myfunc():\n",
    "    x = 300            # assigns to the local variable\n",
    "    __main__.x = 200   # assigns to the global variable via the __main__ namespace\n",
    "    print(f'In myfunc, the value of x is {x}')   # this retrieves the local value\n",
    "    \n",
    "print(f'Before, x = {x}')    \n",
    "myfunc()\n",
    "print(f'After, x = {x}')"
   ]
  },
  {
   "cell_type": "markdown",
   "id": "d5ce31a6",
   "metadata": {},
   "source": [
    "# Modules -- what are they good for?\n",
    "\n",
    "We've talked about the \"DRY\" (don't repeat yourself) rule in programming.\n",
    "\n",
    "It cleans up our code, making it easier to (a) write, (b) maintain, and (c) think about.\n",
    "\n",
    "1. If you have the same code several lines in a row, then you should replace that code with a loop.\n",
    "2. If you have the same code in several different parts of your program, you should write a function and then invoke the function in all of those places.\n",
    "3. If you have the same code in several different programs, I can write the functionality once, and refer to it whenever I need it. This is known in the programming world as a \"library,\" and in Python, libraries are implemented using \"modules.\"\n",
    "\n",
    "But modules do more than that in Python: They also provide us with *namespaces*, ensuring that we don't have \"namespace collisions\" -- when two or more parts of a program use the same variable name, and then end up assigning their own values to the other part's variables.\n",
    "\n",
    "The way that modules handle this is by treating their variables as \"attributes,\" names that come after `.`. If I collaborate with someone else on a Python program, then if I write my things in a module, and they write their things in a module, we cannot have a namespace collision, because the names will be in separate modules!"
   ]
  },
  {
   "cell_type": "code",
   "execution_count": 5,
   "id": "b255e5a8",
   "metadata": {},
   "outputs": [],
   "source": [
    "# we've already used a module -- let's see how we can use it!\n",
    "\n",
    "# we use \"import\" to load a module\n",
    "# import:\n",
    "# (a) is not a function! Don't use parentheses!\n",
    "# (b) the argument that we give it is not a string! \n",
    "# (c) the argument is not a filename! \n",
    "\n",
    "# the argument to import is actually the name of the module variable we want to define\n",
    "\n",
    "# import \n",
    "# (a) creates a module object and\n",
    "# (b) assigns that module object to a variable\n",
    "\n",
    "import random"
   ]
  },
  {
   "cell_type": "code",
   "execution_count": 6,
   "id": "a4c95948",
   "metadata": {},
   "outputs": [
    {
     "data": {
      "text/plain": [
       "module"
      ]
     },
     "execution_count": 6,
     "metadata": {},
     "output_type": "execute_result"
    }
   ],
   "source": [
    "# what is random?\n",
    "type(random)"
   ]
  },
  {
   "cell_type": "markdown",
   "id": "61ed9d31",
   "metadata": {},
   "source": [
    "# What does a module contain?\n",
    "\n",
    "Python code, most typically:\n",
    "\n",
    "- Function definitions\n",
    "- Data definitions\n",
    "- Class definitions, for new types of data we want to work with\n",
    "\n",
    "This means that when I say `import random`, I have access to all of the functions that the author wrote for the `random` module. Over time, if they add new functionality there, I'll benefit; all I have to do is say `import random`."
   ]
  },
  {
   "cell_type": "code",
   "execution_count": 8,
   "id": "44f273b7",
   "metadata": {},
   "outputs": [
    {
     "data": {
      "text/plain": [
       "19"
      ]
     },
     "execution_count": 8,
     "metadata": {},
     "output_type": "execute_result"
    }
   ],
   "source": [
    "# if I want to use functionality from random, it'll all be as attributes under \"random.\"\n",
    "\n",
    "# get a random integer from 0-100\n",
    "\n",
    "# we ask Python to go into the \"random\" namespace\n",
    "# execute the function \"randint\" in that namespace, passing it (0, 100) as arguments.\n",
    "random.randint(0, 100)"
   ]
  },
  {
   "cell_type": "code",
   "execution_count": 9,
   "id": "560690a3",
   "metadata": {},
   "outputs": [],
   "source": [
    "# in Jupyter, we can see the definition of a function by putting ?? after its name\n",
    "random.randint??"
   ]
  },
  {
   "cell_type": "markdown",
   "id": "5657179c",
   "metadata": {},
   "source": [
    "# Exercise: Guessing game\n",
    "\n",
    "1. Choose a random integer (using `random.randint` from 0-100).\n",
    "2. Ask the user to enter a guess.\n",
    "3. Print whether the guess is right, too high, or too low.\n",
    "    - If the user guessed correctly, then exit the program\n",
    "    - Otherwise, have them try again.\n",
    "    \n",
    "Example:\n",
    "\n",
    "    Guess a number: 50\n",
    "    Too low!\n",
    "    Guess a number: 90\n",
    "    Too high!\n",
    "    Guess a number: 80\n",
    "    Too low!\n",
    "    Guess a number: 86\n",
    "    You got it!\n",
    "    "
   ]
  },
  {
   "cell_type": "code",
   "execution_count": null,
   "id": "cb58c877",
   "metadata": {},
   "outputs": [],
   "source": []
  }
 ],
 "metadata": {
  "kernelspec": {
   "display_name": "Python 3 (ipykernel)",
   "language": "python",
   "name": "python3"
  },
  "language_info": {
   "codemirror_mode": {
    "name": "ipython",
    "version": 3
   },
   "file_extension": ".py",
   "mimetype": "text/x-python",
   "name": "python",
   "nbconvert_exporter": "python",
   "pygments_lexer": "ipython3",
   "version": "3.11.3"
  }
 },
 "nbformat": 4,
 "nbformat_minor": 5
}
