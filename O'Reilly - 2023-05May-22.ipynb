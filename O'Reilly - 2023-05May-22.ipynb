{
 "cells": [
  {
   "cell_type": "markdown",
   "id": "3c51bc35",
   "metadata": {},
   "source": [
    "# Agenda -- week 4, functions\n",
    "\n",
    "1. What are functions?\n",
    "2. Writing simple functions\n",
    "3. Arguments and parameters\n",
    "4. Return values\n",
    "5. Default argument values\n",
    "6. Complex return values\n",
    "7. Local vs. global variables\n",
    "8. More advanced functions\n"
   ]
  },
  {
   "cell_type": "markdown",
   "id": "84fbd829",
   "metadata": {},
   "source": [
    "# What are functions?\n",
    "\n",
    "Functions are the verbs in a programming language.\n",
    "\n",
    "We've already seen a number of functions:\n",
    "\n",
    "- `print`\n",
    "- `input`\n",
    "- `len`\n",
    "- `sum`\n",
    "\n",
    "If we want to run one of these functions (also \"call\" or \"execute\" a function), then we put parentheses after its name. That tells Python that we want to run the function.\n",
    "\n",
    "Do we need the ability to write new functions? No... we could absolutely program a computer without them. But it would be very hard to do that.\n",
    "\n",
    "When we define a new function, we define a new verb. \n",
    "\n",
    "The big idea here is *abstraction* -- the idea that we can ignore the lower levels, with greater detail, so that we can think at a higher level and do bigger things.\n",
    "\n",
    "Functions let us package up lower-level functionality under a single name. Then, after that function is defined and known to work, we can use it as a lower-level brick to build our higher-level functionality.\n",
    "\n",
    "Another reason we want functions is purely practical: It fulfills the \"DRY\" rule (don't repeat yourself). If we have the same code in multiple places in a program, it's going to be easier to write and maintain the software if those duplicated sections are packaged up into functions, and then we invoke the function every time we want to do that thing."
   ]
  },
  {
   "cell_type": "markdown",
   "id": "4c888c64",
   "metadata": {},
   "source": [
    "# Let's define a function!\n",
    "\n",
    "We define a function with the keyword `def` (short for \"define\").  To define a function we:\n",
    "\n",
    "- Use `def`\n",
    "- Following `def`, we put the name of the function we are defining. This needs to follow the same rules and conventions as variable names -- lowercase letters, digits after the first characters, `_` after the first character, as long as you want.\n",
    "- We'll then have `()`, following the name of the function. Later on, we'll see how we fill these with parameter names.\n",
    "- Then, at the end of the line, we have `:`\n",
    "- Next, we have an indented block, which can be as long (or short) as you want. This is known as the \"function body.\" The function body can include any of the code we've seen so far:\n",
    "    - variable assignments\n",
    "    - `for` and `while` loops\n",
    "    - `print` and `input`\n",
    "    - anything!"
   ]
  },
  {
   "cell_type": "code",
   "execution_count": 2,
   "id": "9f7dea3a",
   "metadata": {},
   "outputs": [],
   "source": [
    "# let's now define a function\n",
    "\n",
    "def hello():            # naming of the function and its parameters (currently zero), and a :\n",
    "    print('Hello!')     # indented, we have the function body (currently one line)"
   ]
  },
  {
   "cell_type": "code",
   "execution_count": 3,
   "id": "bd00f0f3",
   "metadata": {},
   "outputs": [
    {
     "name": "stdout",
     "output_type": "stream",
     "text": [
      "Hello!\n"
     ]
    }
   ],
   "source": [
    "# once I've executed the above, \"hello\" is now defined as a new verb in our program's vocabulary\n",
    "\n",
    "hello()    # execute hello with ()"
   ]
  },
  {
   "cell_type": "code",
   "execution_count": 5,
   "id": "47f0ce3b",
   "metadata": {},
   "outputs": [
    {
     "data": {
      "text/plain": [
       "function"
      ]
     },
     "execution_count": 5,
     "metadata": {},
     "output_type": "execute_result"
    }
   ],
   "source": [
    "# when I define a function, I'm really assigning to a variable\n",
    "# here, I assigned to the variable \"hello\"\n",
    "\n",
    "# if there was previously a value in hello, it's gone!\n",
    "# if there was previously a different \"hello\" function, it's gone, too!\n",
    "\n",
    "# In Python, you have *one* opportunity to define a function\n",
    "# the most recent definition wins, if you define it more than once.\n",
    "\n",
    "type(hello)   # what kind of value is the variable \"hello\" referring to?"
   ]
  },
  {
   "cell_type": "code",
   "execution_count": 6,
   "id": "7cb0b0f4",
   "metadata": {
    "scrolled": true
   },
   "outputs": [
    {
     "ename": "TypeError",
     "evalue": "'int' object is not callable",
     "output_type": "error",
     "traceback": [
      "\u001b[0;31m---------------------------------------------------------------------------\u001b[0m",
      "\u001b[0;31mTypeError\u001b[0m                                 Traceback (most recent call last)",
      "Cell \u001b[0;32mIn [6], line 4\u001b[0m\n\u001b[1;32m      1\u001b[0m \u001b[38;5;66;03m# what if I try to call a non-function?\u001b[39;00m\n\u001b[1;32m      2\u001b[0m x \u001b[38;5;241m=\u001b[39m \u001b[38;5;241m10\u001b[39m\n\u001b[0;32m----> 4\u001b[0m \u001b[43mx\u001b[49m\u001b[43m(\u001b[49m\u001b[43m)\u001b[49m   \u001b[38;5;66;03m# what will happen here?\u001b[39;00m\n",
      "\u001b[0;31mTypeError\u001b[0m: 'int' object is not callable"
     ]
    }
   ],
   "source": [
    "# what if I try to call a non-function?\n",
    "x = 10\n",
    "\n",
    "x()   # what will happen here?"
   ]
  },
  {
   "cell_type": "code",
   "execution_count": 7,
   "id": "6f4fddd5",
   "metadata": {},
   "outputs": [],
   "source": [
    "x = 10"
   ]
  },
  {
   "cell_type": "code",
   "execution_count": 8,
   "id": "b89216bd",
   "metadata": {},
   "outputs": [],
   "source": [
    "x = 11   # I'm redefining x, but Python won't complain"
   ]
  },
  {
   "cell_type": "code",
   "execution_count": 9,
   "id": "d50080e3",
   "metadata": {},
   "outputs": [],
   "source": [
    "def hello():\n",
    "    print('Hello!')\n",
    "    \n",
    "def hello():\n",
    "    print('Hello????')"
   ]
  },
  {
   "cell_type": "code",
   "execution_count": 10,
   "id": "860c47f4",
   "metadata": {},
   "outputs": [],
   "source": [
    "x = 7\n",
    "\n",
    "def x():\n",
    "    print('hahahahaha')"
   ]
  },
  {
   "cell_type": "code",
   "execution_count": 12,
   "id": "b5221a94",
   "metadata": {
    "scrolled": true
   },
   "outputs": [
    {
     "name": "stdout",
     "output_type": "stream",
     "text": [
      "hahahahaha\n"
     ]
    }
   ],
   "source": [
    "x()"
   ]
  },
  {
   "cell_type": "code",
   "execution_count": 13,
   "id": "8f7c1282",
   "metadata": {},
   "outputs": [],
   "source": [
    "# here, we aren't running len. So \"x = len\" will make x an alias to len\n",
    "\n",
    "x = len    # notice -- no parentheses on the right side!"
   ]
  },
  {
   "cell_type": "code",
   "execution_count": 14,
   "id": "34baf03a",
   "metadata": {},
   "outputs": [
    {
     "data": {
      "text/plain": [
       "4"
      ]
     },
     "execution_count": 14,
     "metadata": {},
     "output_type": "execute_result"
    }
   ],
   "source": [
    "x('abcd')   # I can use that alias!"
   ]
  },
  {
   "cell_type": "markdown",
   "id": "24a49228",
   "metadata": {},
   "source": [
    "# Jupyter tricks\n",
    "\n",
    "- To switch a cell from code to Markdown, go into command mode (ESC or click on the left) and press m.\n",
    "- To switch a cell from Markdown to code, go into command mode (ESC or click on the left) and press y.\n",
    "\n",
    "Don't forget to switch back into edit mode, by pressing ENTER or clicking in the cell, when you're done.\n"
   ]
  },
  {
   "cell_type": "markdown",
   "id": "c86a55e6",
   "metadata": {},
   "source": [
    "# Exercise: Calculator\n",
    "\n",
    "1. Define a function, `calc`, that when you call it, asks the user to enter a string. The string should contain some digits, an operator (`+` or `-`), and some more digits. There should be whitespace between the first set of digits and the operator, and between the operator and the last set of digits.  \n",
    "2. Break that string apart into three pices -- the first number, the operator, and the second number.\n",
    "3. Check whether the operator is `+` or `-`.  Depending on the operator, perform the appropriate calculation.\n",
    "4. Print the result on the screen in the format of `2 + 3 = 5`.\n",
    "5. If the operator isn't known, you can just print an error message. Or if you prefer, you can print the equation with `?` as the result, rather than the answer.\n",
    "\n",
    "Examples:\n",
    "\n",
    "    Enter an expression: 2 + 5 \n",
    "    2 + 5 = 7\n",
    "    Enter an expression: 8 - 3\n",
    "    8 - 3 = 5\n",
    "    Enter an expression: 8 * 2\n",
    "    8 * 2 = ?\n",
    "    \n",
    "Hints:\n",
    "- You can break the string apart into three pieces with `str.split`.\n",
    "- You can assume that the first and third pieces will only contain digits.\n",
    "- You can use an `if` to check the operator.\n",
    "- You can use `int` to get an integer based on a string."
   ]
  },
  {
   "cell_type": "code",
   "execution_count": 18,
   "id": "c419fb58",
   "metadata": {},
   "outputs": [],
   "source": [
    "def calc():\n",
    "    s = input('Enter an expression: ').strip()\n",
    "    \n",
    "    fields = s.split()   # return a list of strings, based on s, where whitespace is a separator\n",
    "    num1 = int(fields[0])\n",
    "    op = fields[1]\n",
    "    num2 = int(fields[2])\n",
    "    \n",
    "    if op == '+':\n",
    "        result = num1 + num2\n",
    "    elif op == '-':\n",
    "        result = num1 - num2\n",
    "    else:\n",
    "        result = '?'\n",
    "        \n",
    "    print(f'{num1} {op} {num2} = {result}')"
   ]
  },
  {
   "cell_type": "code",
   "execution_count": 19,
   "id": "af490ee4",
   "metadata": {},
   "outputs": [],
   "source": [
    "# the function doesn't run when we define it. Rather, it runs when we invoke it. \n",
    "# that allows us to run the function as often as we want."
   ]
  },
  {
   "cell_type": "code",
   "execution_count": 20,
   "id": "2cf8f8f5",
   "metadata": {},
   "outputs": [
    {
     "name": "stdout",
     "output_type": "stream",
     "text": [
      "Enter an expression: 2 + 3\n",
      "2 + 3 = 5\n"
     ]
    }
   ],
   "source": [
    "calc()"
   ]
  },
  {
   "cell_type": "code",
   "execution_count": 21,
   "id": "7d2639ab",
   "metadata": {},
   "outputs": [
    {
     "name": "stdout",
     "output_type": "stream",
     "text": [
      "Enter an expression: 8 - 10\n",
      "8 - 10 = -2\n"
     ]
    }
   ],
   "source": [
    "calc()"
   ]
  },
  {
   "cell_type": "code",
   "execution_count": 22,
   "id": "9ceb834b",
   "metadata": {},
   "outputs": [
    {
     "name": "stdout",
     "output_type": "stream",
     "text": [
      "Enter an expression: 2 * 4\n",
      "2 * 4 = ?\n"
     ]
    }
   ],
   "source": [
    "calc()"
   ]
  },
  {
   "cell_type": "code",
   "execution_count": 23,
   "id": "2fcfe57c",
   "metadata": {},
   "outputs": [],
   "source": [
    "# let's do it even better, with unpacking\n",
    "\n",
    "def calc():\n",
    "    s = input('Enter an expression: ').strip()   # strip removes whitespace ON THE OUTSIDE; doesn't touch inner spaces\n",
    "    \n",
    "    num1, op, num2 = s.split()   # unpacking into three variables\n",
    "\n",
    "    num1 = int(num1)\n",
    "    num2 = int(num2)\n",
    "    \n",
    "    if op == '+':\n",
    "        result = num1 + num2\n",
    "    elif op == '-':\n",
    "        result = num1 - num2\n",
    "    else:\n",
    "        result = '?'\n",
    "        \n",
    "    print(f'{num1} {op} {num2} = {result}')"
   ]
  },
  {
   "cell_type": "code",
   "execution_count": 24,
   "id": "dd72ffbc",
   "metadata": {},
   "outputs": [
    {
     "data": {
      "text/plain": [
       "'a    b     c'"
      ]
     },
     "execution_count": 24,
     "metadata": {},
     "output_type": "execute_result"
    }
   ],
   "source": [
    "s = '     a    b     c    '\n",
    "s.strip()"
   ]
  },
  {
   "cell_type": "markdown",
   "id": "6d131a78",
   "metadata": {},
   "source": [
    "# Arguments and parameters\n",
    "\n",
    "One of the weird things about our `calc` function is that it didn't get any inputs from the caller. Rather, the caller just wrote `calc()`, and then the function stopped everything, and asked the user to enter the string. Usually, we want a function not to do that. Instead, we would want the function to get *arguments* passed to it by the caller. We've seen this many, *many* times already:\n",
    "\n",
    "- `print('hello')`\n",
    "- `len('abcd')`\n",
    "- `input('Enter your name: ')`\n",
    "\n",
    "In all of these cases, the caller passed an argument. Those arguments are assigned to variables inside of the function. The assignment is done automatically by Python when we call the function. Those variables have a special name: They are *parameters*. \n",
    "\n",
    "We declare paramters inside of the parentheses on the first line of a function definition.  If a function has three parameters, then we must give it three arguments.  The numbers must match up!"
   ]
  },
  {
   "cell_type": "code",
   "execution_count": 25,
   "id": "85888a0c",
   "metadata": {},
   "outputs": [],
   "source": [
    "def hello():\n",
    "    name = input('Enter your name: ').strip()\n",
    "    \n",
    "    print(f'Hello, {name}!')"
   ]
  },
  {
   "cell_type": "code",
   "execution_count": 26,
   "id": "5c6830e0",
   "metadata": {},
   "outputs": [
    {
     "name": "stdout",
     "output_type": "stream",
     "text": [
      "Enter your name: Reuven\n",
      "Hello, Reuven!\n"
     ]
    }
   ],
   "source": [
    "hello()"
   ]
  },
  {
   "cell_type": "code",
   "execution_count": 27,
   "id": "265c8063",
   "metadata": {},
   "outputs": [],
   "source": [
    "# a better version, which takes an argument from the user\n",
    "\n",
    "def hello(name):\n",
    "    print(f'Hello, {name}!')"
   ]
  },
  {
   "cell_type": "code",
   "execution_count": 28,
   "id": "237ca098",
   "metadata": {},
   "outputs": [
    {
     "name": "stdout",
     "output_type": "stream",
     "text": [
      "Hello, Reuven!\n"
     ]
    }
   ],
   "source": [
    "hello('Reuven')"
   ]
  },
  {
   "cell_type": "code",
   "execution_count": 29,
   "id": "c36b9144",
   "metadata": {},
   "outputs": [
    {
     "name": "stdout",
     "output_type": "stream",
     "text": [
      "Hello, Reuven!\n"
     ]
    }
   ],
   "source": [
    "# of course, we can assign a value to a variable, and then invoke the function with \n",
    "# the variable as the argument, rather than the explicit value it's referring to\n",
    "\n",
    "x = 'Reuven'\n",
    "hello(x)    # before hello is called, we get the value x is referring to. Hello has *no* idea about x."
   ]
  },
  {
   "cell_type": "code",
   "execution_count": 30,
   "id": "c5c1d6df",
   "metadata": {},
   "outputs": [
    {
     "name": "stdout",
     "output_type": "stream",
     "text": [
      "Hello, 123!\n"
     ]
    }
   ],
   "source": [
    "hello(123)"
   ]
  },
  {
   "cell_type": "code",
   "execution_count": 31,
   "id": "3b7f6d2e",
   "metadata": {},
   "outputs": [
    {
     "name": "stdout",
     "output_type": "stream",
     "text": [
      "Hello, [10, 20, 30]!\n"
     ]
    }
   ],
   "source": [
    "hello([10, 20, 30])"
   ]
  },
  {
   "cell_type": "code",
   "execution_count": 32,
   "id": "9186868b",
   "metadata": {},
   "outputs": [
    {
     "name": "stdout",
     "output_type": "stream",
     "text": [
      "Hello, <function hello at 0x1362014e0>!\n"
     ]
    }
   ],
   "source": [
    "# I can even do this:\n",
    "hello(hello)"
   ]
  },
  {
   "cell_type": "markdown",
   "id": "ee971193",
   "metadata": {},
   "source": [
    "# What?!?\n",
    "\n",
    "Basically, because Python is a dynamic language, we get a lot of flexibility in our functions. We can write one function, instead of many, because it can take arguments of many different types. That's why dynamic languages (like Python) are generally seen as flexible and elegant.\n",
    "\n",
    "*HOWEVER*, people who work with statically typed languages, such as C, C++, Java, and C#, think that this is completely bananas. THey want the language to stop them from doing such things. And as Python is used in a growing number of large enterprises, they also want the language to stop them from doing such things.\n",
    "\n",
    "And so there are now Python \"type hints,\" which you can put in the language, but which Python ignores completely. Rather, you run a separate program (e.g., Mypy) on your code, which checks that the types match up."
   ]
  },
  {
   "cell_type": "code",
   "execution_count": 33,
   "id": "9515864b",
   "metadata": {},
   "outputs": [
    {
     "name": "stdout",
     "output_type": "stream",
     "text": [
      "Hello, Reuven!\n"
     ]
    }
   ],
   "source": [
    "# if I do this:\n",
    "\n",
    "x = 'Reuven'\n",
    "hello(x)      # is x referring to a string? Is name (the parameter) referring to x?\n",
    "              # Are x and name referring to one another, or to the same thing?"
   ]
  },
  {
   "cell_type": "markdown",
   "id": "68296723",
   "metadata": {},
   "source": [
    "# Variables are references\n",
    "\n",
    "When you assign a value to a variable, we like to think of the variable as \"having\" or \"owning\" or \"containing\" that value. This is known as the \"mailbox metaphor.\" However, it's not helpful to think of Python variables in this way.\n",
    "\n",
    "Rather, think of each variable as being a name with an arrow to a value. Every variable refers to a value. More than one variable can refer to the same value.\n",
    "\n",
    "When we call a function, the global (outside) variable and the local (inside) variable (aka the parameter) refer to the same value. Any modification to one will affect the other... which is where immutable types come in handy!"
   ]
  },
  {
   "cell_type": "markdown",
   "id": "58c4ec89",
   "metadata": {},
   "source": [
    "# Exercise: `mysum`\n",
    "\n",
    "1. We know (maybe?) that there is a builtin function called `sum`, which takes a list of integers as an argument, and prints the total on the screen.\n",
    "2. Write your own function, `mysum`, which also takes a list of integers as an argument, and prints the total on the screen.\n",
    "3. The difference is that you cannot use `sum` to implement your function!\n",
    "\n",
    "Example:\n",
    "\n",
    "    mysum([10, 20, 30])\n",
    "    Total is 60"
   ]
  },
  {
   "cell_type": "code",
   "execution_count": 34,
   "id": "f9304b5b",
   "metadata": {},
   "outputs": [],
   "source": [
    "# to create a function, I'll need to use def\n",
    "\n",
    "def mysum(numbers):     # we have a parameter!\n",
    "    total = 0\n",
    "    \n",
    "    for one_number in numbers:\n",
    "        total += one_number\n",
    "        \n",
    "    print(total)"
   ]
  },
  {
   "cell_type": "markdown",
   "id": "b34b99c8",
   "metadata": {},
   "source": [
    "What happens here?\n",
    "\n",
    "When we call our function, the list of numbers that was passed as an argument is assigned to `numbers`. As soon as the function starts running, it has access to the variable `numbers`, a list of integers.\n",
    "\n",
    "We can use it right away! And we do, iterating over it one element at a time, grabbing a number and adding it to `total`.\n",
    "\n",
    "Finally, when we're done with our loop, we print `total`.\n",
    "\n",
    "Note that if someone passes a non-numeric element in our list, the function will blow up."
   ]
  },
  {
   "cell_type": "markdown",
   "id": "e173799c",
   "metadata": {},
   "source": [
    "# Next up\n",
    "\n",
    "1. What happens if there's an argument-parameter mismatch?\n",
    "2. Return values\n",
    "3. Keyword arguments\n",
    "4. Default argument values"
   ]
  },
  {
   "cell_type": "code",
   "execution_count": 39,
   "id": "ace07071",
   "metadata": {},
   "outputs": [
    {
     "name": "stdout",
     "output_type": "stream",
     "text": [
      "10\n",
      "30\n",
      "60\n"
     ]
    }
   ],
   "source": [
    "def mysum(nums):   # nums will be a list of integers\n",
    "    total = 0\n",
    "    for eachval in nums:\n",
    "        total += eachval\n",
    "        print(total)\n",
    "\n",
    "mysum([10, 20, 30])"
   ]
  },
  {
   "cell_type": "markdown",
   "id": "583ed3b3",
   "metadata": {},
   "source": [
    "# Mismatched arguments and parameters\n",
    "\n",
    "- What happens if I call a function without parameters, and I pass it an argument?\n",
    "- What happens if I call a function that has a parameter, and I pass none?\n",
    "- What happens generally if I call a function with the wrong number of arguments?\n",
    "\n",
    "It'll fail.\n",
    "\n",
    "When we call the function, Python tries to match up each argument with a paramater. If it cannot match them up, then there's trouble, and it refuses to call the function."
   ]
  },
  {
   "cell_type": "code",
   "execution_count": 40,
   "id": "813ae28e",
   "metadata": {},
   "outputs": [
    {
     "name": "stdout",
     "output_type": "stream",
     "text": [
      "Hello, world\n"
     ]
    }
   ],
   "source": [
    "def hello(name):\n",
    "    print(f'Hello, {name}')\n",
    "    \n",
    "hello('world')    "
   ]
  },
  {
   "cell_type": "code",
   "execution_count": 41,
   "id": "cf397413",
   "metadata": {},
   "outputs": [
    {
     "ename": "TypeError",
     "evalue": "hello() missing 1 required positional argument: 'name'",
     "output_type": "error",
     "traceback": [
      "\u001b[0;31m---------------------------------------------------------------------------\u001b[0m",
      "\u001b[0;31mTypeError\u001b[0m                                 Traceback (most recent call last)",
      "Cell \u001b[0;32mIn [41], line 1\u001b[0m\n\u001b[0;32m----> 1\u001b[0m \u001b[43mhello\u001b[49m\u001b[43m(\u001b[49m\u001b[43m)\u001b[49m\n",
      "\u001b[0;31mTypeError\u001b[0m: hello() missing 1 required positional argument: 'name'"
     ]
    }
   ],
   "source": [
    "hello()"
   ]
  },
  {
   "cell_type": "code",
   "execution_count": 42,
   "id": "a29c1c2e",
   "metadata": {},
   "outputs": [
    {
     "name": "stdout",
     "output_type": "stream",
     "text": [
      "Hello, world\n"
     ]
    }
   ],
   "source": [
    "# the most standard kind of argument in Python is a \"positional argument\"\n",
    "# this means that it is assigned to a parameter based on its position among the arguments\n",
    "\n",
    "# Parameters: name\n",
    "# Arguments: 'world'\n",
    "\n",
    "hello('world')"
   ]
  },
  {
   "cell_type": "code",
   "execution_count": 43,
   "id": "8dc5c680",
   "metadata": {},
   "outputs": [
    {
     "ename": "TypeError",
     "evalue": "hello() missing 1 required positional argument: 'name'",
     "output_type": "error",
     "traceback": [
      "\u001b[0;31m---------------------------------------------------------------------------\u001b[0m",
      "\u001b[0;31mTypeError\u001b[0m                                 Traceback (most recent call last)",
      "Cell \u001b[0;32mIn [43], line 4\u001b[0m\n\u001b[1;32m      1\u001b[0m \u001b[38;5;66;03m# Parameters: name\u001b[39;00m\n\u001b[1;32m      2\u001b[0m \u001b[38;5;66;03m# Arguments: \u001b[39;00m\n\u001b[0;32m----> 4\u001b[0m \u001b[43mhello\u001b[49m\u001b[43m(\u001b[49m\u001b[43m)\u001b[49m\n",
      "\u001b[0;31mTypeError\u001b[0m: hello() missing 1 required positional argument: 'name'"
     ]
    }
   ],
   "source": [
    "# Parameters: name\n",
    "# Arguments: \n",
    "\n",
    "hello()"
   ]
  },
  {
   "cell_type": "code",
   "execution_count": 49,
   "id": "028acec9",
   "metadata": {
    "scrolled": true
   },
   "outputs": [
    {
     "name": "stdout",
     "output_type": "stream",
     "text": [
      "Hello, ('world', 'again')\n"
     ]
    }
   ],
   "source": [
    "# Parameters: name\n",
    "# Arguments: ('world'  , 'again')\n",
    "\n",
    "hello(('world', 'again'))  # double parentheses for a tuple"
   ]
  },
  {
   "cell_type": "code",
   "execution_count": 50,
   "id": "410cb8f7",
   "metadata": {
    "scrolled": true
   },
   "outputs": [
    {
     "ename": "TypeError",
     "evalue": "hello() takes 1 positional argument but 2 were given",
     "output_type": "error",
     "traceback": [
      "\u001b[0;31m---------------------------------------------------------------------------\u001b[0m",
      "\u001b[0;31mTypeError\u001b[0m                                 Traceback (most recent call last)",
      "Cell \u001b[0;32mIn [50], line 4\u001b[0m\n\u001b[1;32m      1\u001b[0m \u001b[38;5;66;03m# Parameters: name\u001b[39;00m\n\u001b[1;32m      2\u001b[0m \u001b[38;5;66;03m# Arguments: 'world'  \u001b[39;00m\n\u001b[0;32m----> 4\u001b[0m \u001b[43mhello\u001b[49m\u001b[43m(\u001b[49m\u001b[38;5;124;43m'\u001b[39;49m\u001b[38;5;124;43mworld\u001b[39;49m\u001b[38;5;124;43m'\u001b[39;49m\u001b[43m,\u001b[49m\u001b[43m \u001b[49m\u001b[38;5;124;43m'\u001b[39;49m\u001b[38;5;124;43magain\u001b[39;49m\u001b[38;5;124;43m'\u001b[39;49m\u001b[43m)\u001b[49m  \n",
      "\u001b[0;31mTypeError\u001b[0m: hello() takes 1 positional argument but 2 were given"
     ]
    }
   ],
   "source": [
    "# Parameters: name\n",
    "# Arguments: 'world'  \n",
    "\n",
    "hello('world', 'again')  "
   ]
  },
  {
   "cell_type": "code",
   "execution_count": 45,
   "id": "b5a5a869",
   "metadata": {},
   "outputs": [],
   "source": [
    "def add(first, second):\n",
    "    print(f'{first} + {second} = {first+second}')"
   ]
  },
  {
   "cell_type": "code",
   "execution_count": 46,
   "id": "8c98eddc",
   "metadata": {},
   "outputs": [
    {
     "name": "stdout",
     "output_type": "stream",
     "text": [
      "3 + 4 = 7\n"
     ]
    }
   ],
   "source": [
    "# parameters:   first   second\n",
    "# arguments:     3        4 \n",
    "\n",
    "add(3, 4)"
   ]
  },
  {
   "cell_type": "markdown",
   "id": "93a204b1",
   "metadata": {},
   "source": [
    "# Return values\n",
    "\n",
    "When we call a function, we don't just want it to do something. We want it to *return* something to us.\n",
    "\n",
    "Think about it: When we call `len('abcd')`, we want to get a value back, which we can print, assign to a variable, or even pass to another function.\n",
    "\n",
    "So far, our functions haven't returned anything. We generally want them to do so. It's far better for them to return a value, and for the caller to decide what to do with that value, than to print the value on the screen, where we cannot capture it or do anything with it.\n",
    "\n",
    "A function can return *once*. And it can return a value *once*. It does this with the `return` keyword.\n",
    "\n",
    "You can have `return` as many times as you want in a function. But the first time Python encounters `return`, it will return the value and exit the function."
   ]
  },
  {
   "cell_type": "code",
   "execution_count": 52,
   "id": "f4fae875",
   "metadata": {},
   "outputs": [
    {
     "data": {
      "text/plain": [
       "'Hello, world!'"
      ]
     },
     "execution_count": 52,
     "metadata": {},
     "output_type": "execute_result"
    }
   ],
   "source": [
    "def hello(name):\n",
    "    return f'Hello, {name}!'\n",
    "\n",
    "hello('world')   # here, we get a value back -- it's displayed in an Out line, and we see the quotes"
   ]
  },
  {
   "cell_type": "code",
   "execution_count": 53,
   "id": "86a8cdcd",
   "metadata": {},
   "outputs": [
    {
     "name": "stdout",
     "output_type": "stream",
     "text": [
      "hello\n"
     ]
    }
   ],
   "source": [
    "print('hello')   # printing on the screen, no quotes"
   ]
  },
  {
   "cell_type": "code",
   "execution_count": 55,
   "id": "0f1302a7",
   "metadata": {},
   "outputs": [
    {
     "data": {
      "text/plain": [
       "'hello'"
      ]
     },
     "execution_count": 55,
     "metadata": {},
     "output_type": "execute_result"
    }
   ],
   "source": [
    "'hello'   # getting the printed representation of the string, quotes"
   ]
  },
  {
   "cell_type": "code",
   "execution_count": 56,
   "id": "96c27e6d",
   "metadata": {},
   "outputs": [],
   "source": [
    "# what will be printed on the screen now?\n",
    "\n",
    "x = hello('world')  "
   ]
  },
  {
   "cell_type": "code",
   "execution_count": 57,
   "id": "1aad894f",
   "metadata": {},
   "outputs": [
    {
     "name": "stdout",
     "output_type": "stream",
     "text": [
      "Hello, world!\n"
     ]
    }
   ],
   "source": [
    "print(x)"
   ]
  },
  {
   "cell_type": "code",
   "execution_count": 58,
   "id": "7387a6ce",
   "metadata": {},
   "outputs": [
    {
     "data": {
      "text/plain": [
       "13"
      ]
     },
     "execution_count": 58,
     "metadata": {},
     "output_type": "execute_result"
    }
   ],
   "source": [
    "len(x)"
   ]
  },
  {
   "cell_type": "markdown",
   "id": "271ad81c",
   "metadata": {},
   "source": [
    "# Exercise: Biggest and smallest\n",
    "\n",
    "1. Write a function called `smallest_and_biggest`, which takes a single argument, a list of integers.\n",
    "2. The function should return a two-element list\n",
    "    - The first element will be the smallest number in the argument list\n",
    "    - The second element will be the biggest number in the argument list\n",
    "\n",
    "Examples:\n",
    "\n",
    "```python\n",
    "smallest_and_biggest([10, 20, 30, 40, 50])  # returns [10, 50]\n",
    "smallest_and_biggest([10, -20, 30, -40, 50])  # returns [-40, 50]\n",
    "```    \n",
    "\n",
    "Hint: It's probably easiest to define two variables at the top of the function. Assign them both to be the first element in the list you got. As you go through each element of the list, you can decide whether it's larger than what you have before or smaller than what you have before.\n",
    "\n",
    "There are `min` and `max` functions in Python. So (a) don't use them and (b) don't call your variables `min` and `max`!"
   ]
  },
  {
   "cell_type": "code",
   "execution_count": 59,
   "id": "029c02db",
   "metadata": {},
   "outputs": [
    {
     "data": {
      "text/plain": [
       "[10, 50]"
      ]
     },
     "execution_count": 59,
     "metadata": {},
     "output_type": "execute_result"
    }
   ],
   "source": [
    "def smallest_and_biggest(numbers):\n",
    "    smallest = numbers[0]\n",
    "    biggest = numbers[0]\n",
    "    \n",
    "    for one_number in numbers[1:]:\n",
    "        if one_number < smallest:\n",
    "            smallest = one_number\n",
    "        if one_number > biggest:\n",
    "            biggest = one_number\n",
    "            \n",
    "    return [smallest, biggest]\n",
    "\n",
    "smallest_and_biggest([10, 20, 30, 40, 50])"
   ]
  },
  {
   "cell_type": "code",
   "execution_count": 60,
   "id": "12af3620",
   "metadata": {},
   "outputs": [
    {
     "data": {
      "text/plain": [
       "[-40, 50]"
      ]
     },
     "execution_count": 60,
     "metadata": {},
     "output_type": "execute_result"
    }
   ],
   "source": [
    "smallest_and_biggest([10, -20, 30, -40, 50])"
   ]
  },
  {
   "cell_type": "code",
   "execution_count": 61,
   "id": "8b82511b",
   "metadata": {},
   "outputs": [
    {
     "data": {
      "text/plain": [
       "['an', 'this']"
      ]
     },
     "execution_count": 61,
     "metadata": {},
     "output_type": "execute_result"
    }
   ],
   "source": [
    "# what if I call this function with a list of strings?\n",
    "# it'll return the earliest and latest (alphabetically) words\n",
    "\n",
    "smallest_and_biggest('this is an experiment for my course'.split())"
   ]
  },
  {
   "cell_type": "code",
   "execution_count": 63,
   "id": "741b3f45",
   "metadata": {},
   "outputs": [
    {
     "data": {
      "text/plain": [
       "13"
      ]
     },
     "execution_count": 63,
     "metadata": {},
     "output_type": "execute_result"
    }
   ],
   "source": [
    "# parameters: first  second\n",
    "# arguments:   10     3 \n",
    "\n",
    "def add(first, second):\n",
    "    return first + second\n",
    "\n",
    "add(10, 3)"
   ]
  },
  {
   "cell_type": "code",
   "execution_count": 64,
   "id": "92d8fc80",
   "metadata": {},
   "outputs": [
    {
     "data": {
      "text/plain": [
       "13"
      ]
     },
     "execution_count": 64,
     "metadata": {},
     "output_type": "execute_result"
    }
   ],
   "source": [
    "# there is another way that we can ask Python to associated arguments with parameters.\n",
    "# that is by calling a function with *keyword arguments*.\n",
    "\n",
    "# normally, (positional) arguments are assigned to parameters based on their positions\n",
    "# but keyword arguments look different, look like name=value  (yes, with the = sign!)\n",
    "# Python takes the name, and assigns the value to the parameter of that name\n",
    "\n",
    "# paramters: first  second\n",
    "# arguments:   10      3\n",
    "\n",
    "add(first=10, second=3)  # here, we'll calling the function with keyword arguments"
   ]
  },
  {
   "cell_type": "code",
   "execution_count": 65,
   "id": "0f7f42cd",
   "metadata": {},
   "outputs": [
    {
     "data": {
      "text/plain": [
       "13"
      ]
     },
     "execution_count": 65,
     "metadata": {},
     "output_type": "execute_result"
    }
   ],
   "source": [
    "\n",
    "# paramters: first  second\n",
    "# arguments:   3       10\n",
    "\n",
    "add(second=10, first=3)  # here, we'll calling the function with keyword arguments"
   ]
  },
  {
   "cell_type": "markdown",
   "id": "1841e3f6",
   "metadata": {},
   "source": [
    "# Can I mix positional and keyword arguments?\n",
    "\n",
    "Yes, so long as all of the positional arguments come first!"
   ]
  },
  {
   "cell_type": "code",
   "execution_count": 66,
   "id": "d551c545",
   "metadata": {},
   "outputs": [
    {
     "data": {
      "text/plain": [
       "13"
      ]
     },
     "execution_count": 66,
     "metadata": {},
     "output_type": "execute_result"
    }
   ],
   "source": [
    "add(10, second=3)   # just fine, because positional come before keyword"
   ]
  },
  {
   "cell_type": "code",
   "execution_count": 67,
   "id": "a809bcf6",
   "metadata": {},
   "outputs": [
    {
     "ename": "SyntaxError",
     "evalue": "positional argument follows keyword argument (395736769.py, line 1)",
     "output_type": "error",
     "traceback": [
      "\u001b[0;36m  Cell \u001b[0;32mIn [67], line 1\u001b[0;36m\u001b[0m\n\u001b[0;31m    add(first=10, 3)    # this will not work!\u001b[0m\n\u001b[0m                   ^\u001b[0m\n\u001b[0;31mSyntaxError\u001b[0m\u001b[0;31m:\u001b[0m positional argument follows keyword argument\n"
     ]
    }
   ],
   "source": [
    "add(first=10, 3)    # this will not work!"
   ]
  },
  {
   "cell_type": "code",
   "execution_count": 68,
   "id": "49f70982",
   "metadata": {},
   "outputs": [],
   "source": [
    "def myfunc(first, second, third):\n",
    "    print(f'{first=}, {second=}, {third=}')   # of Python 3.10, in an f-string, {a=} prints a's name and value"
   ]
  },
  {
   "cell_type": "code",
   "execution_count": 69,
   "id": "99d200fe",
   "metadata": {},
   "outputs": [
    {
     "name": "stdout",
     "output_type": "stream",
     "text": [
      "first=10, second=20, third=30\n"
     ]
    }
   ],
   "source": [
    "myfunc(10, 20, 30)   # three positional"
   ]
  },
  {
   "cell_type": "code",
   "execution_count": 70,
   "id": "49494510",
   "metadata": {},
   "outputs": [
    {
     "name": "stdout",
     "output_type": "stream",
     "text": [
      "first=10, second=20, third=30\n"
     ]
    }
   ],
   "source": [
    "myfunc(10, 20, third=30)   # positional before keyword"
   ]
  },
  {
   "cell_type": "code",
   "execution_count": 71,
   "id": "a065e736",
   "metadata": {},
   "outputs": [
    {
     "name": "stdout",
     "output_type": "stream",
     "text": [
      "first=10, second=20, third=30\n"
     ]
    }
   ],
   "source": [
    "myfunc(10, second=20, third=30)  # positional before keyword"
   ]
  },
  {
   "cell_type": "code",
   "execution_count": 72,
   "id": "c07cfc39",
   "metadata": {},
   "outputs": [
    {
     "name": "stdout",
     "output_type": "stream",
     "text": [
      "first=10, second=20, third=30\n"
     ]
    }
   ],
   "source": [
    "myfunc(10, third=30, second=20)  # positional before keyword"
   ]
  },
  {
   "cell_type": "code",
   "execution_count": 73,
   "id": "8aa68281",
   "metadata": {},
   "outputs": [
    {
     "ename": "SyntaxError",
     "evalue": "positional argument follows keyword argument (2263820547.py, line 3)",
     "output_type": "error",
     "traceback": [
      "\u001b[0;36m  Cell \u001b[0;32mIn [73], line 3\u001b[0;36m\u001b[0m\n\u001b[0;31m    myfunc(first=10, 20, 30)\u001b[0m\n\u001b[0m                           ^\u001b[0m\n\u001b[0;31mSyntaxError\u001b[0m\u001b[0;31m:\u001b[0m positional argument follows keyword argument\n"
     ]
    }
   ],
   "source": [
    "# our trouble is with this\n",
    "\n",
    "myfunc(first=10, 20, 30)"
   ]
  },
  {
   "cell_type": "markdown",
   "id": "5c014394",
   "metadata": {},
   "source": [
    "# Arguments vs. parameters\n",
    "\n",
    "Arguments are value, passed by the caller to a function.\n",
    "\n",
    "Parameters are variables, assigned the values of arguments.\n",
    "\n",
    "Most professional programmers cannot tell you the difference between an argument and a parameter. Most will use the two terms interchangably. \n",
    "\n",
    "It has been pointed out to me that Python also is inconsistent in its naming of arguments vs. parameters."
   ]
  },
  {
   "cell_type": "markdown",
   "id": "8ab67114",
   "metadata": {},
   "source": [
    "# How do we know what a function expects?\n",
    "\n",
    "If I want to call a function, I need to know how many arguments to pass, right? How can I know that?\n",
    "\n",
    "If I want to call a builtin function, I can ask Python for `help` -- that is, I pass the function as an argument to the `help` function:"
   ]
  },
  {
   "cell_type": "code",
   "execution_count": 75,
   "id": "482419ed",
   "metadata": {},
   "outputs": [
    {
     "name": "stdout",
     "output_type": "stream",
     "text": [
      "Help on built-in function len in module builtins:\n",
      "\n",
      "len(obj, /)\n",
      "    Return the number of items in a container.\n",
      "\n"
     ]
    }
   ],
   "source": [
    "help(len)  # we aren't running len -- we're passing it to help -- no parentheses!"
   ]
  },
  {
   "cell_type": "code",
   "execution_count": 76,
   "id": "4ed0df82",
   "metadata": {},
   "outputs": [
    {
     "name": "stdout",
     "output_type": "stream",
     "text": [
      "Help on method_descriptor:\n",
      "\n",
      "lower(self, /)\n",
      "    Return a copy of the string converted to lowercase.\n",
      "\n"
     ]
    }
   ],
   "source": [
    "help(str.lower)"
   ]
  },
  {
   "cell_type": "code",
   "execution_count": 77,
   "id": "af732d55",
   "metadata": {},
   "outputs": [
    {
     "name": "stdout",
     "output_type": "stream",
     "text": [
      "Help on function add in module __main__:\n",
      "\n",
      "add(first, second)\n",
      "\n"
     ]
    }
   ],
   "source": [
    "help(add)"
   ]
  },
  {
   "cell_type": "markdown",
   "id": "927dc284",
   "metadata": {},
   "source": [
    "# Docstrings\n",
    "\n",
    "If you want to provide users with documentation about your function, you write it as a \"docstring,\" a term used in Lisp and Python (and perhaps other languages).\n",
    "\n",
    "The idea is as follows: If the first line of the function body is a string, and that string isn't assigned to any variable or function, then that string documents the function.\n",
    "\n",
    "It's typically written as a triple-quoted string, meaning `\"\"\"   and \"\"\"`, so that you can have multiple lines.\n",
    "\n",
    "This docstring is what `help` displays. If you're in an IDE/editor, then hovering over the function name will usually show the docstring.\n",
    "\n",
    "The docstring should, at the very least, tell you:\n",
    "\n",
    "- What the function expects\n",
    "- What the function modifies\n",
    "- What the function returns\n",
    "\n"
   ]
  },
  {
   "cell_type": "code",
   "execution_count": 78,
   "id": "5ee47f7d",
   "metadata": {},
   "outputs": [],
   "source": [
    "def add(first, second):\n",
    "    \"\"\"Returns the sum of two values.\n",
    "    \n",
    "    - Expects: Two values that can be added together\n",
    "    - Modifies: Nothing\n",
    "    - Returns: The sum of the two values.\n",
    "    \"\"\"\n",
    "    \n",
    "    return first + second"
   ]
  },
  {
   "cell_type": "code",
   "execution_count": 79,
   "id": "6d486e29",
   "metadata": {},
   "outputs": [
    {
     "data": {
      "text/plain": [
       "13"
      ]
     },
     "execution_count": 79,
     "metadata": {},
     "output_type": "execute_result"
    }
   ],
   "source": [
    "add(10, 3)"
   ]
  },
  {
   "cell_type": "code",
   "execution_count": 80,
   "id": "9fa82642",
   "metadata": {},
   "outputs": [
    {
     "data": {
      "text/plain": [
       "'abcdef'"
      ]
     },
     "execution_count": 80,
     "metadata": {},
     "output_type": "execute_result"
    }
   ],
   "source": [
    "add('abcd', 'ef')"
   ]
  },
  {
   "cell_type": "code",
   "execution_count": 81,
   "id": "4524a0ad",
   "metadata": {},
   "outputs": [
    {
     "name": "stdout",
     "output_type": "stream",
     "text": [
      "Help on function add in module __main__:\n",
      "\n",
      "add(first, second)\n",
      "    Returns the sum of two values.\n",
      "    \n",
      "    - Expects: Two values that can be added together\n",
      "    - Modifies: Nothing\n",
      "    - Returns: The sum of the two values.\n",
      "\n"
     ]
    }
   ],
   "source": [
    "help(add)"
   ]
  },
  {
   "cell_type": "code",
   "execution_count": 82,
   "id": "436f00ca",
   "metadata": {},
   "outputs": [],
   "source": [
    "# in Jupyter, you can put ? before or after a name to get its docstring"
   ]
  },
  {
   "cell_type": "code",
   "execution_count": 83,
   "id": "50692c2e",
   "metadata": {},
   "outputs": [],
   "source": [
    "?add"
   ]
  },
  {
   "cell_type": "code",
   "execution_count": 84,
   "id": "a6a0037a",
   "metadata": {},
   "outputs": [],
   "source": [
    "??add"
   ]
  },
  {
   "cell_type": "code",
   "execution_count": 86,
   "id": "e660e3d9",
   "metadata": {},
   "outputs": [
    {
     "name": "stdout",
     "output_type": "stream",
     "text": [
      "50 -10\n"
     ]
    }
   ],
   "source": [
    "def smallest_and_biggest(nums):\n",
    "\n",
    "    minnum = nums[0]    # minnum is a *local* variable, not available outside of the function\n",
    "    maxnum = nums[0]    # maxnum is a local variable, not available outside of the function\n",
    "\n",
    "    for eachval in nums[1::]:\n",
    "        if eachval > maxnum:\n",
    "            maxnum = eachval\n",
    "\n",
    "        if eachval < minnum:\n",
    "            minnum = eachval\n",
    "    return [maxnum, minnum]\n",
    "\n",
    "\n",
    "global_maxnum, global_minnum = smallest_and_biggest([-10,20,30,50])\n",
    "\n",
    "print(global_maxnum, global_minnum)"
   ]
  },
  {
   "cell_type": "markdown",
   "id": "e63d076e",
   "metadata": {},
   "source": [
    "# Next up\n",
    "\n",
    "- Default argument values\n",
    "- Complex return values\n",
    "- Local vs. global variables"
   ]
  },
  {
   "cell_type": "markdown",
   "id": "1e45be06",
   "metadata": {},
   "source": [
    "# Default argument values\n",
    "\n",
    "We've already seen some examples of functions (and methods) that take *optional* arguments. That is, we can call them with arguments, but we can also call them without any arguments.\n",
    "\n",
    "How is that possible?\n",
    "\n",
    "Answer: Default argument values.  Meaning: We'll define our function, and we'll indicate that one or more parameters have "
   ]
  }
 ],
 "metadata": {
  "kernelspec": {
   "display_name": "Python 3 (ipykernel)",
   "language": "python",
   "name": "python3"
  },
  "language_info": {
   "codemirror_mode": {
    "name": "ipython",
    "version": 3
   },
   "file_extension": ".py",
   "mimetype": "text/x-python",
   "name": "python",
   "nbconvert_exporter": "python",
   "pygments_lexer": "ipython3",
   "version": "3.11.3"
  }
 },
 "nbformat": 4,
 "nbformat_minor": 5
}
