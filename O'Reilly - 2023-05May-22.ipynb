{
 "cells": [
  {
   "cell_type": "markdown",
   "id": "fbba705f",
   "metadata": {},
   "source": [
    "# Agenda -- week 4, functions\n",
    "\n",
    "1. What are functions?\n",
    "2. Writing simple functions\n",
    "3. Arguments and parameters\n",
    "4. Return values\n",
    "5. Default argument values\n",
    "6. Complex return values\n",
    "7. Local vs. global variables\n",
    "8. More advanced functions\n"
   ]
  },
  {
   "cell_type": "code",
   "execution_count": null,
   "id": "69380753",
   "metadata": {},
   "outputs": [],
   "source": []
  }
 ],
 "metadata": {
  "kernelspec": {
   "display_name": "Python 3 (ipykernel)",
   "language": "python",
   "name": "python3"
  },
  "language_info": {
   "codemirror_mode": {
    "name": "ipython",
    "version": 3
   },
   "file_extension": ".py",
   "mimetype": "text/x-python",
   "name": "python",
   "nbconvert_exporter": "python",
   "pygments_lexer": "ipython3",
   "version": "3.11.3"
  }
 },
 "nbformat": 4,
 "nbformat_minor": 5
}
