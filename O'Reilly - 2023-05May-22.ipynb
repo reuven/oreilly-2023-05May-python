{
 "cells": [
  {
   "cell_type": "markdown",
   "id": "0369f5ed",
   "metadata": {},
   "source": [
    "# Agenda -- week 4, functions\n",
    "\n",
    "1. What are functions?\n",
    "2. Writing simple functions\n",
    "3. Arguments and parameters\n",
    "4. Return values\n",
    "5. Default argument values\n",
    "6. Complex return values\n",
    "7. Local vs. global variables\n",
    "8. More advanced functions\n"
   ]
  },
  {
   "cell_type": "markdown",
   "id": "0bb5f3ea",
   "metadata": {},
   "source": [
    "# What are functions?\n",
    "\n",
    "Functions are the verbs in a programming language.\n",
    "\n",
    "We've already seen a number of functions:\n",
    "\n",
    "- `print`\n",
    "- `input`\n",
    "- `len`\n",
    "- `sum`\n",
    "\n",
    "If we want to run one of these functions (also \"call\" or \"execute\" a function), then we put parentheses after its name. That tells Python that we want to run the function.\n",
    "\n",
    "Do we need the ability to write new functions? No... we could absolutely program a computer without them. But it would be very hard to do that.\n",
    "\n",
    "When we define a new function, we define a new verb. \n",
    "\n",
    "The big idea here is *abstraction* -- the idea that we can ignore the lower levels, with greater detail, so that we can think at a higher level and do bigger things.\n",
    "\n",
    "Functions let us package up lower-level functionality under a single name. Then, after that function is defined and known to work, we can use it as a lower-level brick to build our higher-level functionality.\n",
    "\n",
    "Another reason we want functions is purely practical: It fulfills the \"DRY\" rule (don't repeat yourself). If we have the same code in multiple places in a program, it's going to be easier to write and maintain the software if those duplicated sections are packaged up into functions, and then we invoke the function every time we want to do that thing."
   ]
  },
  {
   "cell_type": "markdown",
   "id": "52c725c2",
   "metadata": {},
   "source": [
    "# Let's define a function!\n",
    "\n",
    "We define a function with the keyword `def` (short for \"define\").  To define a function we:\n",
    "\n",
    "- Use `def`\n",
    "- Following `def`, we put the name of the function we are defining. This needs to follow the same rules and conventions as variable names -- lowercase letters, digits after the first characters, `_` after the first character, as long as you want.\n",
    "- We'll then have `()`, following the name of the function. Later on, we'll see how we fill these with parameter names.\n",
    "- Then, at the end of the line, we have `:`\n",
    "- Next, we have an indented block, which can be as long (or short) as you want. This is known as the \"function body.\" The function body can include any of the code we've seen so far:\n",
    "    - variable assignments\n",
    "    - `for` and `while` loops\n",
    "    - `print` and `input`\n",
    "    - anything!"
   ]
  },
  {
   "cell_type": "code",
   "execution_count": 2,
   "id": "a7649c2a",
   "metadata": {},
   "outputs": [],
   "source": [
    "# let's now define a function\n",
    "\n",
    "def hello():            # naming of the function and its parameters (currently zero), and a :\n",
    "    print('Hello!')     # indented, we have the function body (currently one line)"
   ]
  },
  {
   "cell_type": "code",
   "execution_count": 3,
   "id": "e93abb8c",
   "metadata": {},
   "outputs": [
    {
     "name": "stdout",
     "output_type": "stream",
     "text": [
      "Hello!\n"
     ]
    }
   ],
   "source": [
    "# once I've executed the above, \"hello\" is now defined as a new verb in our program's vocabulary\n",
    "\n",
    "hello()    # execute hello with ()"
   ]
  },
  {
   "cell_type": "code",
   "execution_count": 5,
   "id": "513cccb9",
   "metadata": {},
   "outputs": [
    {
     "data": {
      "text/plain": [
       "function"
      ]
     },
     "execution_count": 5,
     "metadata": {},
     "output_type": "execute_result"
    }
   ],
   "source": [
    "# when I define a function, I'm really assigning to a variable\n",
    "# here, I assigned to the variable \"hello\"\n",
    "\n",
    "# if there was previously a value in hello, it's gone!\n",
    "# if there was previously a different \"hello\" function, it's gone, too!\n",
    "\n",
    "# In Python, you have *one* opportunity to define a function\n",
    "# the most recent definition wins, if you define it more than once.\n",
    "\n",
    "type(hello)   # what kind of value is the variable \"hello\" referring to?"
   ]
  },
  {
   "cell_type": "code",
   "execution_count": 6,
   "id": "55db4dc0",
   "metadata": {
    "scrolled": true
   },
   "outputs": [
    {
     "ename": "TypeError",
     "evalue": "'int' object is not callable",
     "output_type": "error",
     "traceback": [
      "\u001b[0;31m---------------------------------------------------------------------------\u001b[0m",
      "\u001b[0;31mTypeError\u001b[0m                                 Traceback (most recent call last)",
      "Cell \u001b[0;32mIn [6], line 4\u001b[0m\n\u001b[1;32m      1\u001b[0m \u001b[38;5;66;03m# what if I try to call a non-function?\u001b[39;00m\n\u001b[1;32m      2\u001b[0m x \u001b[38;5;241m=\u001b[39m \u001b[38;5;241m10\u001b[39m\n\u001b[0;32m----> 4\u001b[0m \u001b[43mx\u001b[49m\u001b[43m(\u001b[49m\u001b[43m)\u001b[49m   \u001b[38;5;66;03m# what will happen here?\u001b[39;00m\n",
      "\u001b[0;31mTypeError\u001b[0m: 'int' object is not callable"
     ]
    }
   ],
   "source": [
    "# what if I try to call a non-function?\n",
    "x = 10\n",
    "\n",
    "x()   # what will happen here?"
   ]
  },
  {
   "cell_type": "code",
   "execution_count": 7,
   "id": "17014305",
   "metadata": {},
   "outputs": [],
   "source": [
    "x = 10"
   ]
  },
  {
   "cell_type": "code",
   "execution_count": 8,
   "id": "eb64d17a",
   "metadata": {},
   "outputs": [],
   "source": [
    "x = 11   # I'm redefining x, but Python won't complain"
   ]
  },
  {
   "cell_type": "code",
   "execution_count": 9,
   "id": "c649d102",
   "metadata": {},
   "outputs": [],
   "source": [
    "def hello():\n",
    "    print('Hello!')\n",
    "    \n",
    "def hello():\n",
    "    print('Hello????')"
   ]
  },
  {
   "cell_type": "code",
   "execution_count": 10,
   "id": "e4cbcdb2",
   "metadata": {},
   "outputs": [],
   "source": [
    "x = 7\n",
    "\n",
    "def x():\n",
    "    print('hahahahaha')"
   ]
  },
  {
   "cell_type": "code",
   "execution_count": 12,
   "id": "9ceaab15",
   "metadata": {
    "scrolled": true
   },
   "outputs": [
    {
     "name": "stdout",
     "output_type": "stream",
     "text": [
      "hahahahaha\n"
     ]
    }
   ],
   "source": [
    "x()"
   ]
  },
  {
   "cell_type": "code",
   "execution_count": 13,
   "id": "8a85b088",
   "metadata": {},
   "outputs": [],
   "source": [
    "# here, we aren't running len. So \"x = len\" will make x an alias to len\n",
    "\n",
    "x = len    # notice -- no parentheses on the right side!"
   ]
  },
  {
   "cell_type": "code",
   "execution_count": 14,
   "id": "9946b96d",
   "metadata": {},
   "outputs": [
    {
     "data": {
      "text/plain": [
       "4"
      ]
     },
     "execution_count": 14,
     "metadata": {},
     "output_type": "execute_result"
    }
   ],
   "source": [
    "x('abcd')   # I can use that alias!"
   ]
  },
  {
   "cell_type": "markdown",
   "id": "655a516f",
   "metadata": {},
   "source": [
    "# Jupyter tricks\n",
    "\n",
    "- To switch a cell from code to Markdown, go into command mode (ESC or click on the left) and press m.\n",
    "- To switch a cell from Markdown to code, go into command mode (ESC or click on the left) and press y.\n",
    "\n",
    "Don't forget to switch back into edit mode, by pressing ENTER or clicking in the cell, when you're done.\n"
   ]
  },
  {
   "cell_type": "markdown",
   "id": "dd11ced4",
   "metadata": {},
   "source": [
    "# Exercise: Calculator\n",
    "\n",
    "1. Define a function, `calc`, that when you call it, asks the user to enter a string. The string should contain some digits, an operator (`+` or `-`), and some more digits. There should be whitespace between the first set of digits and the operator, and between the operator and the last set of digits.  \n",
    "2. Break that string apart into three pices -- the first number, the operator, and the second number.\n",
    "3. Check whether the operator is `+` or `-`.  Depending on the operator, perform the appropriate calculation.\n",
    "4. Print the result on the screen in the format of `2 + 3 = 5`.\n",
    "5. If the operator isn't known, you can just print an error message. Or if you prefer, you can print the equation with `?` as the result, rather than the answer.\n",
    "\n",
    "Examples:\n",
    "\n",
    "    Enter an expression: 2 + 5 \n",
    "    2 + 5 = 7\n",
    "    Enter an expression: 8 - 3\n",
    "    8 - 3 = 5\n",
    "    Enter an expression: 8 * 2\n",
    "    8 * 2 = ?\n",
    "    \n",
    "Hints:\n",
    "- You can break the string apart into three pieces with `str.split`.\n",
    "- You can assume that the first and third pieces will only contain digits.\n",
    "- You can use an `if` to check the operator.\n",
    "- You can use `int` to get an integer based on a string."
   ]
  },
  {
   "cell_type": "code",
   "execution_count": 18,
   "id": "c03ce5a5",
   "metadata": {},
   "outputs": [],
   "source": [
    "def calc():\n",
    "    s = input('Enter an expression: ').strip()\n",
    "    \n",
    "    fields = s.split()   # return a list of strings, based on s, where whitespace is a separator\n",
    "    num1 = int(fields[0])\n",
    "    op = fields[1]\n",
    "    num2 = int(fields[2])\n",
    "    \n",
    "    if op == '+':\n",
    "        result = num1 + num2\n",
    "    elif op == '-':\n",
    "        result = num1 - num2\n",
    "    else:\n",
    "        result = '?'\n",
    "        \n",
    "    print(f'{num1} {op} {num2} = {result}')"
   ]
  },
  {
   "cell_type": "code",
   "execution_count": 19,
   "id": "dec420e6",
   "metadata": {},
   "outputs": [],
   "source": [
    "# the function doesn't run when we define it. Rather, it runs when we invoke it. \n",
    "# that allows us to run the function as often as we want."
   ]
  },
  {
   "cell_type": "code",
   "execution_count": 20,
   "id": "d9aa3d6c",
   "metadata": {},
   "outputs": [
    {
     "name": "stdout",
     "output_type": "stream",
     "text": [
      "Enter an expression: 2 + 3\n",
      "2 + 3 = 5\n"
     ]
    }
   ],
   "source": [
    "calc()"
   ]
  },
  {
   "cell_type": "code",
   "execution_count": 21,
   "id": "f422fc2d",
   "metadata": {},
   "outputs": [
    {
     "name": "stdout",
     "output_type": "stream",
     "text": [
      "Enter an expression: 8 - 10\n",
      "8 - 10 = -2\n"
     ]
    }
   ],
   "source": [
    "calc()"
   ]
  },
  {
   "cell_type": "code",
   "execution_count": 22,
   "id": "2fa56c96",
   "metadata": {},
   "outputs": [
    {
     "name": "stdout",
     "output_type": "stream",
     "text": [
      "Enter an expression: 2 * 4\n",
      "2 * 4 = ?\n"
     ]
    }
   ],
   "source": [
    "calc()"
   ]
  },
  {
   "cell_type": "code",
   "execution_count": 23,
   "id": "b6ba750f",
   "metadata": {},
   "outputs": [],
   "source": [
    "# let's do it even better, with unpacking\n",
    "\n",
    "def calc():\n",
    "    s = input('Enter an expression: ').strip()   # strip removes whitespace ON THE OUTSIDE; doesn't touch inner spaces\n",
    "    \n",
    "    num1, op, num2 = s.split()   # unpacking into three variables\n",
    "\n",
    "    num1 = int(num1)\n",
    "    num2 = int(num2)\n",
    "    \n",
    "    if op == '+':\n",
    "        result = num1 + num2\n",
    "    elif op == '-':\n",
    "        result = num1 - num2\n",
    "    else:\n",
    "        result = '?'\n",
    "        \n",
    "    print(f'{num1} {op} {num2} = {result}')"
   ]
  },
  {
   "cell_type": "code",
   "execution_count": 24,
   "id": "3a19196a",
   "metadata": {},
   "outputs": [
    {
     "data": {
      "text/plain": [
       "'a    b     c'"
      ]
     },
     "execution_count": 24,
     "metadata": {},
     "output_type": "execute_result"
    }
   ],
   "source": [
    "s = '     a    b     c    '\n",
    "s.strip()"
   ]
  },
  {
   "cell_type": "markdown",
   "id": "bbd4364f",
   "metadata": {},
   "source": [
    "# Arguments and parameters\n",
    "\n",
    "One of the weird things about our `calc` function is that it didn't get any inputs from the caller. Rather, the caller just wrote `calc()`, and then the function stopped everything, and asked the user to enter the string. Usually, we want a function not to do that. Instead, we would want the function to get *arguments* passed to it by the caller. We've seen this many, *many* times already:\n",
    "\n",
    "- `print('hello')`\n",
    "- `len('abcd')`\n",
    "- `input('Enter your name: ')`\n",
    "\n",
    "In all of these cases, the caller passed an argument. Those arguments are assigned to variables inside of the function. The assignment is done automatically by Python when we call the function. Those variables have a special name: They are *parameters*. \n",
    "\n",
    "We declare paramters inside of the parentheses on the first line of a function definition.  If a function has three parameters, then we must give it three arguments.  The numbers must match up!"
   ]
  },
  {
   "cell_type": "code",
   "execution_count": 25,
   "id": "a01d05d3",
   "metadata": {},
   "outputs": [],
   "source": [
    "def hello():\n",
    "    name = input('Enter your name: ').strip()\n",
    "    \n",
    "    print(f'Hello, {name}!')"
   ]
  },
  {
   "cell_type": "code",
   "execution_count": 26,
   "id": "350c8641",
   "metadata": {},
   "outputs": [
    {
     "name": "stdout",
     "output_type": "stream",
     "text": [
      "Enter your name: Reuven\n",
      "Hello, Reuven!\n"
     ]
    }
   ],
   "source": [
    "hello()"
   ]
  },
  {
   "cell_type": "code",
   "execution_count": 27,
   "id": "16b067e1",
   "metadata": {},
   "outputs": [],
   "source": [
    "# a better version, which takes an argument from the user\n",
    "\n",
    "def hello(name):\n",
    "    print(f'Hello, {name}!')"
   ]
  },
  {
   "cell_type": "code",
   "execution_count": 28,
   "id": "db1b2135",
   "metadata": {},
   "outputs": [
    {
     "name": "stdout",
     "output_type": "stream",
     "text": [
      "Hello, Reuven!\n"
     ]
    }
   ],
   "source": [
    "hello('Reuven')"
   ]
  },
  {
   "cell_type": "code",
   "execution_count": 29,
   "id": "1b98b098",
   "metadata": {},
   "outputs": [
    {
     "name": "stdout",
     "output_type": "stream",
     "text": [
      "Hello, Reuven!\n"
     ]
    }
   ],
   "source": [
    "# of course, we can assign a value to a variable, and then invoke the function with \n",
    "# the variable as the argument, rather than the explicit value it's referring to\n",
    "\n",
    "x = 'Reuven'\n",
    "hello(x)    # before hello is called, we get the value x is referring to. Hello has *no* idea about x."
   ]
  },
  {
   "cell_type": "code",
   "execution_count": 30,
   "id": "8ccdf9cf",
   "metadata": {},
   "outputs": [
    {
     "name": "stdout",
     "output_type": "stream",
     "text": [
      "Hello, 123!\n"
     ]
    }
   ],
   "source": [
    "hello(123)"
   ]
  },
  {
   "cell_type": "code",
   "execution_count": 31,
   "id": "f31f8734",
   "metadata": {},
   "outputs": [
    {
     "name": "stdout",
     "output_type": "stream",
     "text": [
      "Hello, [10, 20, 30]!\n"
     ]
    }
   ],
   "source": [
    "hello([10, 20, 30])"
   ]
  },
  {
   "cell_type": "code",
   "execution_count": 32,
   "id": "b3bd6d25",
   "metadata": {},
   "outputs": [
    {
     "name": "stdout",
     "output_type": "stream",
     "text": [
      "Hello, <function hello at 0x1362014e0>!\n"
     ]
    }
   ],
   "source": [
    "# I can even do this:\n",
    "hello(hello)"
   ]
  },
  {
   "cell_type": "markdown",
   "id": "12a7feb2",
   "metadata": {},
   "source": [
    "# What?!?\n",
    "\n",
    "Basically, because Python is a dynamic language, we get a lot of flexibility in our functions. We can write one function, instead of many, because it can take arguments of m"
   ]
  }
 ],
 "metadata": {
  "kernelspec": {
   "display_name": "Python 3 (ipykernel)",
   "language": "python",
   "name": "python3"
  },
  "language_info": {
   "codemirror_mode": {
    "name": "ipython",
    "version": 3
   },
   "file_extension": ".py",
   "mimetype": "text/x-python",
   "name": "python",
   "nbconvert_exporter": "python",
   "pygments_lexer": "ipython3",
   "version": "3.11.3"
  }
 },
 "nbformat": 4,
 "nbformat_minor": 5
}
