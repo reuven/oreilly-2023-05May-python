{
 "cells": [
  {
   "cell_type": "markdown",
   "id": "1bcf8dac",
   "metadata": {},
   "source": [
    "# Agenda -- week 4, functions\n",
    "\n",
    "1. What are functions?\n",
    "2. Writing simple functions\n",
    "3. Arguments and parameters\n",
    "4. Return values\n",
    "5. Default argument values\n",
    "6. Complex return values\n",
    "7. Local vs. global variables\n",
    "8. More advanced functions\n"
   ]
  },
  {
   "cell_type": "markdown",
   "id": "2946b950",
   "metadata": {},
   "source": [
    "# What are functions?\n",
    "\n",
    "Functions are the verbs in a programming language.\n",
    "\n",
    "We've already seen a number of functions:\n",
    "\n",
    "- `print`\n",
    "- `input`\n",
    "- `len`\n",
    "- `sum`\n",
    "\n",
    "If we want to run one of these functions "
   ]
  }
 ],
 "metadata": {
  "kernelspec": {
   "display_name": "Python 3 (ipykernel)",
   "language": "python",
   "name": "python3"
  },
  "language_info": {
   "codemirror_mode": {
    "name": "ipython",
    "version": 3
   },
   "file_extension": ".py",
   "mimetype": "text/x-python",
   "name": "python",
   "nbconvert_exporter": "python",
   "pygments_lexer": "ipython3",
   "version": "3.11.3"
  }
 },
 "nbformat": 4,
 "nbformat_minor": 5
}
