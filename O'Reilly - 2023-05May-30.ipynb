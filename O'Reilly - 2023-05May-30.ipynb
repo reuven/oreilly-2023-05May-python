{
 "cells": [
  {
   "cell_type": "markdown",
   "id": "c21d4fa8",
   "metadata": {},
   "source": [
    "# Agenda: Week 5 (Modules and packages)\n",
    "\n",
    "1. Recap and Q&A\n",
    "2. Intro to modules\n",
    "3. What do modules contain?\n",
    "4. The different forms of `import`\n",
    "5. Developing a module\n",
    "6. Python's standard library\n",
    "7. Modules vs. packages\n",
    "8. PyPI and third-party modules\n",
    "9. Installing things with `pip`\n",
    "10. What's next?"
   ]
  },
  {
   "cell_type": "code",
   "execution_count": null,
   "id": "54043ad8",
   "metadata": {},
   "outputs": [],
   "source": []
  }
 ],
 "metadata": {
  "kernelspec": {
   "display_name": "Python 3 (ipykernel)",
   "language": "python",
   "name": "python3"
  },
  "language_info": {
   "codemirror_mode": {
    "name": "ipython",
    "version": 3
   },
   "file_extension": ".py",
   "mimetype": "text/x-python",
   "name": "python",
   "nbconvert_exporter": "python",
   "pygments_lexer": "ipython3",
   "version": "3.11.3"
  }
 },
 "nbformat": 4,
 "nbformat_minor": 5
}
